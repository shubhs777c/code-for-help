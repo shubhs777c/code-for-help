{
  "nbformat": 4,
  "nbformat_minor": 0,
  "metadata": {
    "colab": {
      "provenance": [],
      "authorship_tag": "ABX9TyNJn32yr/ICCX+po7zB+OxT",
      "include_colab_link": true
    },
    "kernelspec": {
      "name": "python3",
      "display_name": "Python 3"
    },
    "language_info": {
      "name": "python"
    }
  },
  "cells": [
    {
      "cell_type": "markdown",
      "metadata": {
        "id": "view-in-github",
        "colab_type": "text"
      },
      "source": [
        "<a href=\"https://colab.research.google.com/github/shubhs777c/code-for-help/blob/main/help_for_code_real_life_prob.ipynb\" target=\"_parent\"><img src=\"https://colab.research.google.com/assets/colab-badge.svg\" alt=\"Open In Colab\"/></a>"
      ]
    },
    {
      "cell_type": "markdown",
      "source": [
        "INITIALIZATION\n",
        "\n"
      ],
      "metadata": {
        "id": "hw0Y5aa3boVY"
      }
    },
    {
      "cell_type": "code",
      "execution_count": null,
      "metadata": {
        "id": "W-RmBuJebMZg"
      },
      "outputs": [],
      "source": [
        "# introduction"
      ]
    },
    {
      "cell_type": "code",
      "source": [
        "# problem statement :-  mentioned the probelm which is facing currently."
      ],
      "metadata": {
        "id": "AsljQ-LkbxbG"
      },
      "execution_count": null,
      "outputs": []
    },
    {
      "cell_type": "code",
      "source": [
        "# project description-description of project using photo also and mention the problem which we are solving."
      ],
      "metadata": {
        "id": "zlnvExEyb5v-"
      },
      "execution_count": null,
      "outputs": []
    },
    {
      "cell_type": "code",
      "source": [
        "# data description:- Description about data which includes features and its description."
      ],
      "metadata": {
        "id": "7hTeCIeNcBCZ"
      },
      "execution_count": null,
      "outputs": []
    },
    {
      "cell_type": "code",
      "source": [
        "# Importing the libraries which is required to perform coding operations.\n",
        "import pandas as pd\n",
        "import numpy as np\n",
        "import matplotlib.pyplot as plt\n",
        "%matplotlib inline\n",
        "import seaborn as sns\n",
        "\n",
        "from datetime import datetime\n",
        "import datetime as dt\n",
        "\n",
        "from sklearn.preprocessing import MinMaxScaler\n",
        "from sklearn.preprocessing import OneHotEncoder\n",
        "from sklearn.preprocessing import MultiLabelBinarizer\n",
        "\n",
        "from sklearn.linear_model import LinearRegression\n",
        "from sklearn.linear_model import Lasso\n",
        "from sklearn.linear_model import Ridge\n",
        "from sklearn.tree import DecisionTreeRegressor\n",
        "\n",
        "from sklearn.model_selection import cross_validate\n",
        "from sklearn.model_selection import train_test_split\n",
        "from sklearn.model_selection import cross_val_score\n",
        "\n",
        "from sklearn import metrics\n",
        "from sklearn.metrics import r2_score\n",
        "from sklearn.metrics import mean_squared_error\n",
        "from sklearn.metrics import accuracy_score\n",
        "from sklearn.metrics import mean_absolute_error"
      ],
      "metadata": {
        "id": "vM0WQw8_b_aA"
      },
      "execution_count": null,
      "outputs": []
    },
    {
      "cell_type": "code",
      "source": [
        "# this is use to show maximum no of rows selection.we can take any number which is choosen by ours.\n",
        "pd.options.display.max_rows = 150"
      ],
      "metadata": {
        "id": "jNSiwPZEb_nq"
      },
      "execution_count": null,
      "outputs": []
    },
    {
      "cell_type": "code",
      "source": [
        "# from google.colab import drive\n",
        " drive.mount('/content/drive')\n"
      ],
      "metadata": {
        "id": "dZ-46Grgb_ys"
      },
      "execution_count": null,
      "outputs": []
    },
    {
      "cell_type": "markdown",
      "source": [
        "DATA ACQUISATION AND UNDERSTANDING "
      ],
      "metadata": {
        "id": "W2LyvvHxeTuT"
      }
    },
    {
      "cell_type": "code",
      "source": [
        "# Reading the comma seperated value file by using pandas operation. \n",
        "df= pd.read_csv('mention the path.csv', encoding= 'unicode_escape')"
      ],
      "metadata": {
        "id": "CEjq2A1Db_8P"
      },
      "execution_count": null,
      "outputs": []
    },
    {
      "cell_type": "code",
      "source": [
        "# Mentioned the shape of data.\n",
        "\n",
        "print(f' We have total {df.shape[0]} rows and {df.shape[1]} columns.')"
      ],
      "metadata": {
        "id": "QYLIAnSRcAKq"
      },
      "execution_count": null,
      "outputs": []
    },
    {
      "cell_type": "code",
      "source": [
        "# Illustrate the Information of dataset.\n",
        "\n",
        "df.info()"
      ],
      "metadata": {
        "id": "Pfg4pBjTcANc"
      },
      "execution_count": null,
      "outputs": []
    },
    {
      "cell_type": "code",
      "source": [
        "# List of columns.we can also convert in the form of set and tuple .\n",
        "list(df.columns)"
      ],
      "metadata": {
        "id": "lRbPum7tcASG"
      },
      "execution_count": null,
      "outputs": []
    },
    {
      "cell_type": "code",
      "source": [
        "# Here we describe the dataset which shows aggregated and percentagewise values.\n",
        "\n",
        "df.describe().T\n",
        "df.describe().round(2).T"
      ],
      "metadata": {
        "id": "03QPZoADfTro"
      },
      "execution_count": null,
      "outputs": []
    },
    {
      "cell_type": "code",
      "source": [
        "# Let's take a first look at the Rented Bike demand \n",
        "# Firt 5 rows\n",
        "\n",
        "df.head()"
      ],
      "metadata": {
        "id": "5HNQACPDfToZ"
      },
      "execution_count": null,
      "outputs": []
    },
    {
      "cell_type": "code",
      "source": [
        "df.tail"
      ],
      "metadata": {
        "id": "EoDN2WIWfTlW"
      },
      "execution_count": null,
      "outputs": []
    },
    {
      "cell_type": "markdown",
      "source": [
        "if we want to rename the features"
      ],
      "metadata": {
        "id": "fd0QuNSpy0QR"
      }
    },
    {
      "cell_type": "code",
      "source": [
        "#Since the variables having units with name, renaming columns for better variable analysis.\n",
        "df.rename(columns={'Rented Bike Count':'Rented_Bike_Count','Temperature(°C)':'Temperature','Humidity(%)':'Humidity','Wind speed (m/s)':'Wind_speed',\n",
        "                       'Visibility (10m)':'Visibility','Dew point temperature(°C)':'Dew_point_temperature', 'Solar Radiation (MJ/m2)':'Solar_Radiation',\n",
        "                        'Rainfall(mm)':'Rainfall','Snowfall (cm)':'Snowfall','Functioning Day':'Functioning_Day'},inplace=True)"
      ],
      "metadata": {
        "id": "Xsqa-bYKywiH"
      },
      "execution_count": null,
      "outputs": []
    },
    {
      "cell_type": "markdown",
      "source": [
        "NULL VALUE FINDING"
      ],
      "metadata": {
        "id": "kbe07257kDJT"
      }
    },
    {
      "cell_type": "code",
      "source": [
        "# Checking the null values of data.\n",
        "\n",
        "df.isnull().sum()\n",
        "# Checking the null values.  \n",
        "\n",
        "df.isna().sum().sort_values(ascending=False)[:4].reset_index().rename(columns={'index':'Columns',0:'Null values'})"
      ],
      "metadata": {
        "id": "1fNnTSrkfTgU"
      },
      "execution_count": null,
      "outputs": []
    },
    {
      "cell_type": "code",
      "source": [
        "# Replacing all null values with '0'.\n",
        "\n",
        "null_columns=['agent','children','company']\n",
        "for col in null_columns:\n",
        "  df[col].fillna(0,inplace=True)\n",
        "\n",
        "\n",
        "# Replacing NAN values with 'Not known'.\n",
        "\n",
        "df['country'].fillna('Not known',inplace=True)"
      ],
      "metadata": {
        "id": "JQM-zFhdfTdy"
      },
      "execution_count": null,
      "outputs": []
    },
    {
      "cell_type": "code",
      "source": [
        "# Handled Null Values.\n",
        "\n",
        "df.isna().sum().sort_values(ascending=False)[:4].reset_index().rename(columns={'index':'Columns',0:'Null values'})"
      ],
      "metadata": {
        "id": "L1ofJ3BOiCfZ"
      },
      "execution_count": null,
      "outputs": []
    },
    {
      "cell_type": "markdown",
      "source": [
        "2ND WAY OF NULL ANALYSIS "
      ],
      "metadata": {
        "id": "KEcJHstXkTrx"
      }
    },
    {
      "cell_type": "code",
      "source": [
        "# Null analysis also use this \n",
        "\n",
        "null_df = df.isnull().sum().reset_index()\n",
        "null_df.rename(columns = {'index':'Column', 0:'Null Count'}, inplace=True)\n",
        "null_df.sort_values(by = 'Null Count', ascending = False, inplace=True)\n",
        "null_df['%Null Count'] =( null_df['Null Count']*100)/df.shape[0]\n",
        "null_df.head(15)"
      ],
      "metadata": {
        "id": "5H24309NfTZq"
      },
      "execution_count": null,
      "outputs": []
    },
    {
      "cell_type": "code",
      "source": [
        "#another way to handle null value.\n",
        "# Let'get the list of columns having %null value more than 20%\n",
        "columns_to_drop = null_df[null_df['%Null Count']>=20]['Column']\n",
        "\n",
        "# Lets drop the columns\n",
        "df.drop(columns = columns_to_drop, inplace=True)\n",
        "\n",
        "df.head()"
      ],
      "metadata": {
        "id": "63KDpad-jnwk"
      },
      "execution_count": null,
      "outputs": []
    },
    {
      "cell_type": "code",
      "source": [
        "# Post Null analysis\n",
        "\n",
        "post_null_df = df.isnull().sum().reset_index()\n",
        "post_null_df.rename(columns = {'index':'Column', 0:'Null Count'}, inplace=True)\n",
        "post_null_df.sort_values(by = 'Null Count', ascending = False, inplace=True)\n",
        "post_null_df['%Null Count'] =( post_null_df['Null Count']*100)/df.shape[0]\n",
        "post_null_df.head(15)"
      ],
      "metadata": {
        "id": "Hy8WWIZ9j265"
      },
      "execution_count": null,
      "outputs": []
    },
    {
      "cell_type": "markdown",
      "source": [
        " FOR DUPLICATED DATA "
      ],
      "metadata": {
        "id": "i7Js7YwGkbBX"
      }
    },
    {
      "cell_type": "code",
      "source": [
        "# Performing this operation for the purpose of eliminating duplicate data from the raw dataframe.\n",
        "\n",
        "df[df.duplicated()]"
      ],
      "metadata": {
        "id": "JIflW1_ufTW1"
      },
      "execution_count": null,
      "outputs": []
    },
    {
      "cell_type": "code",
      "source": [
        "# Checking duplicate values of data.\n",
        "\n",
        "# Checking for the duplicate values rows.(True indicates Duplicate values.)\n",
        "\n",
        "df.duplicated().value_counts()"
      ],
      "metadata": {
        "id": "DtpTHKa-fTUf"
      },
      "execution_count": null,
      "outputs": []
    },
    {
      "cell_type": "code",
      "source": [
        "# Presented the shape of duplicate data.\n",
        "\n",
        "print(f' Total duplicate data {df.duplicated().value_counts()[1]} Rows and {df.shape[1]} Columns.')"
      ],
      "metadata": {
        "id": "f7l1tF5BfTRh"
      },
      "execution_count": null,
      "outputs": []
    },
    {
      "cell_type": "code",
      "source": [
        "# Dropped the duplicates rows to Extract the dataframe.\n",
        "\n",
        "df= df.drop_duplicates()"
      ],
      "metadata": {
        "id": "cbrBF7pgfTNK"
      },
      "execution_count": null,
      "outputs": []
    },
    {
      "cell_type": "code",
      "source": [
        "# The shape of data after removing the null and duplicate values.\n",
        "\n",
        "df.shape"
      ],
      "metadata": {
        "id": "IApwbwSVfTK7"
      },
      "execution_count": null,
      "outputs": []
    },
    {
      "cell_type": "code",
      "source": [
        "print(f'We have total sorted final data for analyse purpose is {df.shape[0]} rows and {df.shape[1]} columns.')"
      ],
      "metadata": {
        "id": "hfU9O7ebfTIo"
      },
      "execution_count": null,
      "outputs": []
    },
    {
      "cell_type": "markdown",
      "source": [
        " FOR MISSING VALUE "
      ],
      "metadata": {
        "id": "WUdNfHtuk3Jg"
      }
    },
    {
      "cell_type": "code",
      "source": [
        "# Checking missing values using heatmap.\n",
        "\n",
        "plt.figure(figsize=(14, 5))\n",
        "sns.heatmap(df.isnull(), cbar=True, yticklabels=False)\n",
        "plt.xlabel(\"column_name\", size=14, weight=\"bold\")\n",
        "plt.title(\"missing values in column\",fontweight=\"bold\",size=17)\n",
        "plt.show()"
      ],
      "metadata": {
        "id": "0QZRUdjpfTFY"
      },
      "execution_count": null,
      "outputs": []
    },
    {
      "cell_type": "markdown",
      "source": [
        "CONVERTING STRING DATA INTO PROPER FORMAT"
      ],
      "metadata": {
        "id": "iaRhzjurlaT7"
      }
    },
    {
      "cell_type": "code",
      "source": [
        "# Converting string format of 'Date' column into date-time format.\n",
        "\n",
        "df['Date'] = pd.to_datetime(df['Date'])\n",
        "\n",
        "\n",
        "old_date_format= '%d/%m/%Y'   #.... current format of date not compatible for further EDA\n",
        "new_date_format= \"%Y-%m-%d\"   #.... new format of date compatible for further EDA\n",
        "\n",
        "conv_dates_series(df, 'Date', old_date_format, new_date_format)\n",
        "     "
      ],
      "metadata": {
        "id": "julIcBmGfTBQ"
      },
      "execution_count": null,
      "outputs": []
    },
    {
      "cell_type": "markdown",
      "source": [
        "DIFFERNENT DATA TYPE IN COLUMN "
      ],
      "metadata": {
        "id": "7a1gjiHmliFH"
      }
    },
    {
      "cell_type": "code",
      "source": [
        "# Getting the data type for each column\n",
        "data_dtypes_df = df.dtypes.reset_index()\n",
        "data_dtypes_df.rename(columns = {'index':'Columns', 0:'Dtype'}, \n",
        "                      inplace=True)\n",
        "data_dtypes_df"
      ],
      "metadata": {
        "id": "IDRKUul_fS-p"
      },
      "execution_count": null,
      "outputs": []
    },
    {
      "cell_type": "code",
      "source": [
        "# Getting the datatype of particular column.\n",
        "data_dtypes_df[data_dtypes_df['Dtype']=='object']\n",
        "data_dtypes_df['Dtype'].value_counts()"
      ],
      "metadata": {
        "id": "-BaWz3qNfS8N"
      },
      "execution_count": null,
      "outputs": []
    },
    {
      "cell_type": "markdown",
      "source": [
        "EDA PARAMATETRS "
      ],
      "metadata": {
        "id": "aeGoJKQOmFdU"
      }
    },
    {
      "cell_type": "code",
      "source": [
        "# Extracting the Unique values from the data frame. \n",
        "\n",
        "df['hotel'].unique()"
      ],
      "metadata": {
        "id": "uYabseAwfS5c"
      },
      "execution_count": null,
      "outputs": []
    },
    {
      "cell_type": "code",
      "source": [
        "# extracting the value counts from the data frame .\n",
        "df['Product_Info_1'].value_counts()"
      ],
      "metadata": {
        "id": "yOp5v72mfS1T"
      },
      "execution_count": null,
      "outputs": []
    },
    {
      "cell_type": "code",
      "source": [
        " # Now We can Drop Day and Date columns.\n",
        "df.drop(['Date',\"Day\"],axis=1 ,inplace=True)"
      ],
      "metadata": {
        "id": "fw8wrQU8vSKS"
      },
      "execution_count": null,
      "outputs": []
    },
    {
      "cell_type": "markdown",
      "source": [
        "VOLUMETRIC ANALYSIS"
      ],
      "metadata": {
        "id": "Pe_GA3sdwPYW"
      }
    },
    {
      "cell_type": "code",
      "source": [
        "#Volumetric analysis\n",
        "def get_volumetric(data, column_):\n",
        "    volumetric_df = data[column_].value_counts().reset_index()\n",
        "    volumetric_df.rename(columns = {'index':column_, column_:'Volume'}, inplace=True)\n",
        "    volumetric_df['%Volume'] =( volumetric_df['Volume']*100)/data.shape[0]\n",
        "    return volumetric_df"
      ],
      "metadata": {
        "id": "E2mxDCjGfSyk"
      },
      "execution_count": null,
      "outputs": []
    },
    {
      "cell_type": "code",
      "source": [
        "col_ = 'Response'"
      ],
      "metadata": {
        "id": "AP3UxSrEfSwW"
      },
      "execution_count": null,
      "outputs": []
    },
    {
      "cell_type": "code",
      "source": [
        "volumetric_df = df[col_].value_counts().reset_index()\n",
        "volumetric_df.rename(columns = {'index':col_, col_:'Volume'}, inplace=True)\n",
        "volumetric_df['%Volume'] =( volumetric_df['Volume']*100)/df.shape[0]\n",
        "volumetric_df"
      ],
      "metadata": {
        "id": "VM357NfjfSsl"
      },
      "execution_count": null,
      "outputs": []
    },
    {
      "cell_type": "code",
      "source": [
        "sns.barplot(data=volumetric_df, \n",
        "            x = 'Response',\n",
        "            y = '%Volume');"
      ],
      "metadata": {
        "id": "ibW_v3xefSom"
      },
      "execution_count": null,
      "outputs": []
    },
    {
      "cell_type": "markdown",
      "source": [
        " for categorical feature"
      ],
      "metadata": {
        "id": "4_68n-D9xMcq"
      }
    },
    {
      "cell_type": "code",
      "source": [
        "# categorical feature\n",
        "cat_features = data_dtypes_df[data_dtypes_df['Dtype'] == 'object']['Columns'].tolist()\n",
        "cat_features"
      ],
      "metadata": {
        "id": "AMhMkJxsfSmA"
      },
      "execution_count": null,
      "outputs": []
    },
    {
      "cell_type": "code",
      "source": [
        "df[cat_features].describe().T"
      ],
      "metadata": {
        "id": "2YSq46iwfSjo"
      },
      "execution_count": null,
      "outputs": []
    },
    {
      "cell_type": "code",
      "source": [
        "get_volumetric(df, 'Product_Info_2' )"
      ],
      "metadata": {
        "id": "evgJqKllfSfG"
      },
      "execution_count": null,
      "outputs": []
    },
    {
      "cell_type": "code",
      "source": [
        "# dropping categorical feature if have more categories.\n",
        "df.drop('Product_Info_2', axis=1,inplace=True)"
      ],
      "metadata": {
        "id": "9J3EW933fSbq"
      },
      "execution_count": null,
      "outputs": []
    },
    {
      "cell_type": "markdown",
      "source": [
        "WANT TO AGGRGATE PARTICULAR FEATURE DATA IN GROUPING FORM"
      ],
      "metadata": {
        "id": "zNdUHcFkz_9X"
      }
    },
    {
      "cell_type": "code",
      "source": [
        "# Creating a column containing the year from a particular date.\n",
        "\n",
        "year = []\n",
        "for i in range(len(df['Date'])):\n",
        "  year.append(df['Date'][i].year)\n",
        "df['year'] = year"
      ],
      "metadata": {
        "id": "24UhQDO6fSZS"
      },
      "execution_count": null,
      "outputs": []
    },
    {
      "cell_type": "markdown",
      "source": [
        "GROUP BY FUNCTION USE TO FIND COUNT OF DEPENDENT VARIABLE BY USING INDEPENDANT VARIABLE"
      ],
      "metadata": {
        "id": "sfhYC3GJ0dZF"
      }
    },
    {
      "cell_type": "code",
      "source": [
        "# Creating a series which shows total number of bikes rented on the type of day\n",
        "\n",
        "df_holiday = df.groupby('Holiday').sum()['Rented Bike Count']\n",
        "df_holiday"
      ],
      "metadata": {
        "id": "rKCvFMw6fSWv"
      },
      "execution_count": null,
      "outputs": []
    },
    {
      "cell_type": "markdown",
      "source": [
        "GRAPHICAL REPRESENTATION OF EACH INDEPENDANT VARIABLE USING DEPENDANT VARIABLE"
      ],
      "metadata": {
        "id": "DbPH8m1R1DFe"
      }
    },
    {
      "cell_type": "code",
      "source": [
        "# Plotting the independent variables on the basis of dependent variables.\n",
        "  \n",
        "for col in column[1:]:\n",
        "    fig = plt.figure(figsize=(9, 6))\n",
        "    ax = fig.gca()\n",
        "    feature = df[col]\n",
        "    feature.hist(bins=50, ax = ax)   \n",
        "    ax.set_title(col)\n",
        "plt.show()\n"
      ],
      "metadata": {
        "id": "RIateJAcfSKA"
      },
      "execution_count": null,
      "outputs": []
    },
    {
      "cell_type": "markdown",
      "source": [
        "USING HEATMAP TO FIND CORRRELATION BETWEEN VARIABLES "
      ],
      "metadata": {
        "id": "cngD9_lk1ZkO"
      }
    },
    {
      "cell_type": "code",
      "source": [
        "# Checking correlation using heatmap\n",
        "\n",
        "plt.figure(figsize=(15,10))\n",
        "sns.heatmap(df.corr(),cmap='PiYG',annot=True)"
      ],
      "metadata": {
        "id": "pnSGCkl2fSGt"
      },
      "execution_count": null,
      "outputs": []
    },
    {
      "cell_type": "markdown",
      "source": [
        "TO SHOW OUTLIERS BY USING BOX PLOT AND WHISKERS PLOT "
      ],
      "metadata": {
        "id": "VmbUAkRS2haE"
      }
    },
    {
      "cell_type": "code",
      "source": [
        "\n",
        "# create numeric columns list.\n",
        "numeric_col=df.describe().columns.tolist()\n",
        "numeric_col\n",
        "\n",
        "# create categorical column list\n",
        "categorical_columns= list(set(df.columns) - set(df.describe().columns))\n",
        "categorical_columns\n",
        "\n",
        "# priting box plot of numeric columns to check oultliers\n",
        "for col in numeric_col:\n",
        "    fig = plt.figure(figsize=(9, 6))\n",
        "    ax = fig.gca()\n",
        "    sns.boxplot(x=df[col])"
      ],
      "metadata": {
        "id": "5fGutY5yfSCq"
      },
      "execution_count": null,
      "outputs": []
    },
    {
      "cell_type": "markdown",
      "source": [
        "POINT PLOT "
      ],
      "metadata": {
        "id": "05sRK5zR2_f0"
      }
    },
    {
      "cell_type": "code",
      "source": [
        " Bike Rental trend with respect to Hour on Holiday or No Holiday.\n",
        "plt.figure(figsize=(20,10))\n",
        "sns.pointplot(x=df['Hour'],y=df['Rented_Bike_Count'],hue=df['Holiday'])\n",
        "plt.title(\"Bike Rental Trend according to Hour on Holiday / No Holiday\")"
      ],
      "metadata": {
        "id": "u9N1_lRufSAB"
      },
      "execution_count": null,
      "outputs": []
    },
    {
      "cell_type": "markdown",
      "source": [
        "FOR ML PURPOSE CHECKING THE RELATIONSHIP BETWEEN DEPENDANT AND INDEPENDANT VARIABLE "
      ],
      "metadata": {
        "id": "Sso1xfBs3oLq"
      }
    },
    {
      "cell_type": "code",
      "source": [
        "for col in numeric_col:\n",
        "  plt.figure(figsize=(14,8))\n",
        "  ax=fig.gca()\n",
        "  sns.regplot(x=df[col],y=df['Rented_Bike_Count'],scatter_kws={'color':'green'},line_kws={'color':'black'})"
      ],
      "metadata": {
        "id": "VqalPjd_fR8L"
      },
      "execution_count": null,
      "outputs": []
    },
    {
      "cell_type": "markdown",
      "source": [
        "PIE CHART"
      ],
      "metadata": {
        "id": "UBCuao6v5XuP"
      }
    },
    {
      "cell_type": "code",
      "source": [
        "# Group by the data on the basis of seasons. \n",
        "\n",
        "season_by= df.groupby('Seasons').sum()\n",
        "season_by\n",
        "\n",
        "# Graphical representation of rented bike count along with seasons. \n",
        "\n",
        "season_by['Rented Bike Count'].plot(kind='pie', subplots=True, autopct='%1.1f%%', figsize=(5, 5))"
      ],
      "metadata": {
        "id": "hNVhiGSHfR5H"
      },
      "execution_count": null,
      "outputs": []
    },
    {
      "cell_type": "markdown",
      "source": [
        "FOR FANCY PIE CHART"
      ],
      "metadata": {
        "id": "NtNJen_X6_82"
      }
    },
    {
      "cell_type": "code",
      "source": [
        "# Customer type.\n",
        "\n",
        "df['customer_type'].value_counts().plot.pie(explode=[0.05]*4,shadow=True,autopct='%1.1f%%',figsize=(6,8),fontsize=15,labels=None)\n",
        "\n",
        "labels=df['customer_type'].value_counts().index.tolist()\n",
        "plt.title('% Distribution of Customer Type')\n",
        "plt.legend(bbox_to_anchor=(0.85, 1), loc='upper left', labels=labels)"
      ],
      "metadata": {
        "id": "lsZEaq9E6_O-"
      },
      "execution_count": null,
      "outputs": []
    },
    {
      "cell_type": "markdown",
      "source": [
        "COUNT PLOT"
      ],
      "metadata": {
        "id": "QXi6EMVa5TaL"
      }
    },
    {
      "cell_type": "code",
      "source": [
        "# Differentiation between holiday and working day on seasonal basis. \n",
        "\n",
        "plt.figure(figsize=(10,7))\n",
        "sns.countplot(x=df['Seasons'],hue=df['Holiday'])\n",
        "plt.title (\"season wise booking\")\n",
        "plt.xlabel('seasons')\n",
        "plt.ylabel('count')"
      ],
      "metadata": {
        "id": "kA_y1UsjfR1u"
      },
      "execution_count": null,
      "outputs": []
    },
    {
      "cell_type": "markdown",
      "source": [
        "CATER PLOT"
      ],
      "metadata": {
        "id": "t_5nRXq95QT_"
      }
    },
    {
      "cell_type": "code",
      "source": [
        "# Plotting cat plot for more info with season wise.\n",
        " \n",
        "sns.catplot(x='Seasons',y='Rented Bike Count',data=df);"
      ],
      "metadata": {
        "id": "5PNAD-tNfRzC"
      },
      "execution_count": null,
      "outputs": []
    },
    {
      "cell_type": "markdown",
      "source": [
        "POINT PLOT"
      ],
      "metadata": {
        "id": "qykG4lux5Ogb"
      }
    },
    {
      "cell_type": "code",
      "source": [
        "\n",
        "fig, axs = plt.subplots(nrows=4,ncols=1,figsize=(12,10), dpi=100)\n",
        "sns.pointplot(data=df, x=\"Hour\", y=\"Rented Bike Count\", ax=axs[0])\n",
        "sns.pointplot(data=df, x=\"Hour\", y=\"Rented Bike Count\", ax=axs[1], \n",
        "              hue=\"Holiday\")\n",
        "sns.pointplot(data=df, x=\"Hour\", y=\"Rented Bike Count\", ax=axs[2], \n",
        "              hue=\"Functioning Day\")\n",
        "sns.pointplot(data=df, x=\"Hour\", y=\"Rented Bike Count\", ax=axs[3], \n",
        "              hue=\"Seasons\")\n",
        "plt.tight_layout()"
      ],
      "metadata": {
        "id": "wCyGdhGc5MPv"
      },
      "execution_count": null,
      "outputs": []
    },
    {
      "cell_type": "markdown",
      "source": [
        "FOR COMPARISION USE THIS CHART BETWEEN 2 VARIBALES "
      ],
      "metadata": {
        "id": "IEPUUlUc5qrR"
      }
    },
    {
      "cell_type": "code",
      "source": [
        "# Hotel type and prefered Hotel type\n",
        "\n",
        "# Visualization by the help of Pie Chart.\n",
        "\n",
        "df['hotel'].value_counts().plot.pie(explode=[0.05, 0.05],autopct='%1.1f%%', shadow=True, figsize=(6,8),fontsize=20)\n",
        "\n",
        "plt.title('Pie Chart for Most Preffered  Hotel')"
      ],
      "metadata": {
        "id": "0bTwP8zXfRwz"
      },
      "execution_count": null,
      "outputs": []
    },
    {
      "cell_type": "markdown",
      "source": [
        "MAP CHART"
      ],
      "metadata": {
        "id": "HDzXlpj86jqb"
      }
    },
    {
      "cell_type": "code",
      "source": [
        "# show on map.\n",
        "temp = df['country'].value_counts().reset_index().rename(columns={'index':'country','country':'count'})\n",
        "guest_map = px.choropleth(temp,\n",
        "                          locations=temp['country'],\n",
        "                          color=np.log(temp['count']), \n",
        "                          hover_name=temp['country'], \n",
        "                          color_continuous_scale=px.colors.sequential.Plasma,\n",
        "                          title=\"Home country of guests\")\n",
        "guest_map.show()"
      ],
      "metadata": {
        "id": "5S4EOAo9fRul"
      },
      "execution_count": null,
      "outputs": []
    },
    {
      "cell_type": "markdown",
      "source": [
        "FANCY LINECHART"
      ],
      "metadata": {
        "id": "9HHhvVgT8KmO"
      }
    },
    {
      "cell_type": "code",
      "source": [
        "# Set plot size and plot the line.(Graphical representation of ADR)\n",
        "\n",
        "plt.figure(figsize=(18,6))\n",
        "sns.lineplot(x=bookings_by_months_df['arrival_date_month'],y=bookings_by_months_df['adr'],hue=bookings_by_months_df['hotel'])\n",
        "\n",
        "# Set lables.\n",
        "\n",
        "plt.title('ADR across each month')\n",
        "plt.xlabel('Month')\n",
        "plt.ylabel('ADR')"
      ],
      "metadata": {
        "id": "68iJWrJ1fRsJ"
      },
      "execution_count": null,
      "outputs": []
    },
    {
      "cell_type": "code",
      "source": [],
      "metadata": {
        "id": "XcsqPcpGfRoz"
      },
      "execution_count": null,
      "outputs": []
    },
    {
      "cell_type": "code",
      "source": [],
      "metadata": {
        "id": "hY_x6X52fRlr"
      },
      "execution_count": null,
      "outputs": []
    },
    {
      "cell_type": "code",
      "source": [],
      "metadata": {
        "id": "kQNa6aTpfRj4"
      },
      "execution_count": null,
      "outputs": []
    },
    {
      "cell_type": "code",
      "source": [],
      "metadata": {
        "id": "VT5vtrBPfRhf"
      },
      "execution_count": null,
      "outputs": []
    },
    {
      "cell_type": "code",
      "source": [],
      "metadata": {
        "id": "ylklwe6gfRTW"
      },
      "execution_count": null,
      "outputs": []
    },
    {
      "cell_type": "code",
      "source": [],
      "metadata": {
        "id": "cSXvf3XhfROS"
      },
      "execution_count": null,
      "outputs": []
    },
    {
      "cell_type": "code",
      "source": [],
      "metadata": {
        "id": "GL8D1mZNfRMK"
      },
      "execution_count": null,
      "outputs": []
    },
    {
      "cell_type": "code",
      "source": [],
      "metadata": {
        "id": "U5PJ9xCJfRID"
      },
      "execution_count": null,
      "outputs": []
    },
    {
      "cell_type": "code",
      "source": [],
      "metadata": {
        "id": "gtul1QAPfRFY"
      },
      "execution_count": null,
      "outputs": []
    },
    {
      "cell_type": "code",
      "source": [],
      "metadata": {
        "id": "Pi884l90fRA-"
      },
      "execution_count": null,
      "outputs": []
    },
    {
      "cell_type": "code",
      "source": [],
      "metadata": {
        "id": "j1_f2Yo_fQ-U"
      },
      "execution_count": null,
      "outputs": []
    },
    {
      "cell_type": "code",
      "source": [],
      "metadata": {
        "id": "3ACg3jZkfQ8h"
      },
      "execution_count": null,
      "outputs": []
    },
    {
      "cell_type": "code",
      "source": [],
      "metadata": {
        "id": "MMgSTwpGfQ6z"
      },
      "execution_count": null,
      "outputs": []
    },
    {
      "cell_type": "code",
      "source": [],
      "metadata": {
        "id": "p9HWSYBHfQ4D"
      },
      "execution_count": null,
      "outputs": []
    },
    {
      "cell_type": "code",
      "source": [],
      "metadata": {
        "id": "btX-z8hcfQzt"
      },
      "execution_count": null,
      "outputs": []
    },
    {
      "cell_type": "code",
      "source": [],
      "metadata": {
        "id": "hJNuzE05fQxH"
      },
      "execution_count": null,
      "outputs": []
    },
    {
      "cell_type": "code",
      "source": [],
      "metadata": {
        "id": "QF10XcCHfQux"
      },
      "execution_count": null,
      "outputs": []
    },
    {
      "cell_type": "code",
      "source": [],
      "metadata": {
        "id": "Eazc3jMrfQsM"
      },
      "execution_count": null,
      "outputs": []
    },
    {
      "cell_type": "code",
      "source": [],
      "metadata": {
        "id": "7wOCw1eXfQhg"
      },
      "execution_count": null,
      "outputs": []
    },
    {
      "cell_type": "code",
      "source": [],
      "metadata": {
        "id": "6eIIuDtlfQeD"
      },
      "execution_count": null,
      "outputs": []
    },
    {
      "cell_type": "code",
      "source": [],
      "metadata": {
        "id": "rStCcOEefQaR"
      },
      "execution_count": null,
      "outputs": []
    },
    {
      "cell_type": "code",
      "source": [],
      "metadata": {
        "id": "FK8uPstFfQXm"
      },
      "execution_count": null,
      "outputs": []
    },
    {
      "cell_type": "code",
      "source": [],
      "metadata": {
        "id": "R8nXntfwfQT6"
      },
      "execution_count": null,
      "outputs": []
    },
    {
      "cell_type": "code",
      "source": [],
      "metadata": {
        "id": "vpIxh3W4fQRH"
      },
      "execution_count": null,
      "outputs": []
    },
    {
      "cell_type": "code",
      "source": [],
      "metadata": {
        "id": "R316g6QtfQM3"
      },
      "execution_count": null,
      "outputs": []
    },
    {
      "cell_type": "code",
      "source": [],
      "metadata": {
        "id": "4TxefH_bfQKa"
      },
      "execution_count": null,
      "outputs": []
    },
    {
      "cell_type": "code",
      "source": [],
      "metadata": {
        "id": "-NoAqr0kfQId"
      },
      "execution_count": null,
      "outputs": []
    },
    {
      "cell_type": "code",
      "source": [],
      "metadata": {
        "id": "7ALunyVyfQGF"
      },
      "execution_count": null,
      "outputs": []
    },
    {
      "cell_type": "code",
      "source": [],
      "metadata": {
        "id": "JBx7HG3nfQC8"
      },
      "execution_count": null,
      "outputs": []
    },
    {
      "cell_type": "code",
      "source": [],
      "metadata": {
        "id": "eAcfUQLZfP_i"
      },
      "execution_count": null,
      "outputs": []
    },
    {
      "cell_type": "code",
      "source": [],
      "metadata": {
        "id": "gvt6rxOlfP87"
      },
      "execution_count": null,
      "outputs": []
    },
    {
      "cell_type": "code",
      "source": [],
      "metadata": {
        "id": "WV6rZL6AfP6q"
      },
      "execution_count": null,
      "outputs": []
    },
    {
      "cell_type": "code",
      "source": [],
      "metadata": {
        "id": "eIoj8IMAfP4V"
      },
      "execution_count": null,
      "outputs": []
    },
    {
      "cell_type": "code",
      "source": [],
      "metadata": {
        "id": "Fqi57P9JfPtT"
      },
      "execution_count": null,
      "outputs": []
    },
    {
      "cell_type": "code",
      "source": [],
      "metadata": {
        "id": "-lgzo3_XfPqb"
      },
      "execution_count": null,
      "outputs": []
    },
    {
      "cell_type": "code",
      "source": [],
      "metadata": {
        "id": "t2kfPNu2fPmG"
      },
      "execution_count": null,
      "outputs": []
    },
    {
      "cell_type": "code",
      "source": [],
      "metadata": {
        "id": "9x1U-33_fPjw"
      },
      "execution_count": null,
      "outputs": []
    },
    {
      "cell_type": "code",
      "source": [],
      "metadata": {
        "id": "tgavQYWyfPf5"
      },
      "execution_count": null,
      "outputs": []
    },
    {
      "cell_type": "code",
      "source": [],
      "metadata": {
        "id": "mAG8h1tAfPc-"
      },
      "execution_count": null,
      "outputs": []
    },
    {
      "cell_type": "code",
      "source": [],
      "metadata": {
        "id": "SW2vdsO3fPZR"
      },
      "execution_count": null,
      "outputs": []
    },
    {
      "cell_type": "code",
      "source": [],
      "metadata": {
        "id": "V_c8Z4GWfPWq"
      },
      "execution_count": null,
      "outputs": []
    },
    {
      "cell_type": "code",
      "source": [],
      "metadata": {
        "id": "gIx-j4lbfPUn"
      },
      "execution_count": null,
      "outputs": []
    },
    {
      "cell_type": "code",
      "source": [],
      "metadata": {
        "id": "MzF0jl5EfPSj"
      },
      "execution_count": null,
      "outputs": []
    },
    {
      "cell_type": "code",
      "source": [],
      "metadata": {
        "id": "DLBefJyZfPQF"
      },
      "execution_count": null,
      "outputs": []
    },
    {
      "cell_type": "code",
      "source": [],
      "metadata": {
        "id": "PD1DanJwfPMd"
      },
      "execution_count": null,
      "outputs": []
    },
    {
      "cell_type": "code",
      "source": [],
      "metadata": {
        "id": "ePwbwEXBfPJ1"
      },
      "execution_count": null,
      "outputs": []
    },
    {
      "cell_type": "code",
      "source": [],
      "metadata": {
        "id": "_2zrDojHfPHr"
      },
      "execution_count": null,
      "outputs": []
    },
    {
      "cell_type": "code",
      "source": [],
      "metadata": {
        "id": "qomJ7ykSfPFs"
      },
      "execution_count": null,
      "outputs": []
    },
    {
      "cell_type": "code",
      "source": [],
      "metadata": {
        "id": "Yb9To1NbfPDV"
      },
      "execution_count": null,
      "outputs": []
    },
    {
      "cell_type": "code",
      "source": [],
      "metadata": {
        "id": "xbJv_8mnfO_W"
      },
      "execution_count": null,
      "outputs": []
    },
    {
      "cell_type": "code",
      "source": [],
      "metadata": {
        "id": "0ljyOsV7fO9K"
      },
      "execution_count": null,
      "outputs": []
    },
    {
      "cell_type": "code",
      "source": [],
      "metadata": {
        "id": "VvYWJEyUfO6r"
      },
      "execution_count": null,
      "outputs": []
    },
    {
      "cell_type": "code",
      "source": [],
      "metadata": {
        "id": "lGNPVtwufO4V"
      },
      "execution_count": null,
      "outputs": []
    },
    {
      "cell_type": "code",
      "source": [],
      "metadata": {
        "id": "h_GzUbScfO10"
      },
      "execution_count": null,
      "outputs": []
    },
    {
      "cell_type": "code",
      "source": [],
      "metadata": {
        "id": "LQw4lNvefOzo"
      },
      "execution_count": null,
      "outputs": []
    },
    {
      "cell_type": "code",
      "source": [],
      "metadata": {
        "id": "lXb5-5k7fOxW"
      },
      "execution_count": null,
      "outputs": []
    },
    {
      "cell_type": "code",
      "source": [],
      "metadata": {
        "id": "srOGixOyfOuk"
      },
      "execution_count": null,
      "outputs": []
    },
    {
      "cell_type": "code",
      "source": [],
      "metadata": {
        "id": "NXS70jw1fOr8"
      },
      "execution_count": null,
      "outputs": []
    },
    {
      "cell_type": "code",
      "source": [],
      "metadata": {
        "id": "oc8dObyKfOpu"
      },
      "execution_count": null,
      "outputs": []
    },
    {
      "cell_type": "code",
      "source": [],
      "metadata": {
        "id": "pnX3aluWfOmu"
      },
      "execution_count": null,
      "outputs": []
    },
    {
      "cell_type": "code",
      "source": [],
      "metadata": {
        "id": "m7_NjkWsfOju"
      },
      "execution_count": null,
      "outputs": []
    },
    {
      "cell_type": "code",
      "source": [],
      "metadata": {
        "id": "LlYZfiAvfOhN"
      },
      "execution_count": null,
      "outputs": []
    },
    {
      "cell_type": "code",
      "source": [],
      "metadata": {
        "id": "-gGmtIn0fOeX"
      },
      "execution_count": null,
      "outputs": []
    },
    {
      "cell_type": "code",
      "source": [],
      "metadata": {
        "id": "K70fwwTHfObh"
      },
      "execution_count": null,
      "outputs": []
    },
    {
      "cell_type": "code",
      "source": [],
      "metadata": {
        "id": "HTtAXxvRfOYZ"
      },
      "execution_count": null,
      "outputs": []
    },
    {
      "cell_type": "code",
      "source": [],
      "metadata": {
        "id": "QXOCz9NtfOVW"
      },
      "execution_count": null,
      "outputs": []
    },
    {
      "cell_type": "code",
      "source": [],
      "metadata": {
        "id": "UhY4x2dRfOSE"
      },
      "execution_count": null,
      "outputs": []
    },
    {
      "cell_type": "code",
      "source": [],
      "metadata": {
        "id": "3WdcCfv8fOOw"
      },
      "execution_count": null,
      "outputs": []
    },
    {
      "cell_type": "code",
      "source": [],
      "metadata": {
        "id": "81b1qG6OfOLZ"
      },
      "execution_count": null,
      "outputs": []
    },
    {
      "cell_type": "code",
      "source": [],
      "metadata": {
        "id": "pCv0McWmfOIH"
      },
      "execution_count": null,
      "outputs": []
    },
    {
      "cell_type": "code",
      "source": [],
      "metadata": {
        "id": "XJ6O1piJfOEb"
      },
      "execution_count": null,
      "outputs": []
    },
    {
      "cell_type": "code",
      "source": [],
      "metadata": {
        "id": "p5qQ4DRofOAe"
      },
      "execution_count": null,
      "outputs": []
    },
    {
      "cell_type": "code",
      "source": [],
      "metadata": {
        "id": "PTN6JNI4fN4Z"
      },
      "execution_count": null,
      "outputs": []
    },
    {
      "cell_type": "code",
      "source": [],
      "metadata": {
        "id": "GagupcuMfNsN"
      },
      "execution_count": null,
      "outputs": []
    },
    {
      "cell_type": "code",
      "source": [],
      "metadata": {
        "id": "ERs6-2UOfLwC"
      },
      "execution_count": null,
      "outputs": []
    },
    {
      "cell_type": "code",
      "source": [],
      "metadata": {
        "id": "kKSXe1PBfMG4"
      },
      "execution_count": null,
      "outputs": []
    },
    {
      "cell_type": "code",
      "source": [],
      "metadata": {
        "id": "wd39rgTufMlZ"
      },
      "execution_count": null,
      "outputs": []
    },
    {
      "cell_type": "code",
      "source": [],
      "metadata": {
        "id": "wCjfe2CzfMtt"
      },
      "execution_count": null,
      "outputs": []
    }
  ]
}