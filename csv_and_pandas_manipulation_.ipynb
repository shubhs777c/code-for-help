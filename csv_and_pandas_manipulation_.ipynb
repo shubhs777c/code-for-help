{
  "nbformat": 4,
  "nbformat_minor": 0,
  "metadata": {
    "colab": {
      "provenance": [],
      "authorship_tag": "ABX9TyOKRJRnzGpmb3uOK9rezTJp",
      "include_colab_link": true
    },
    "kernelspec": {
      "name": "python3",
      "display_name": "Python 3"
    },
    "language_info": {
      "name": "python"
    }
  },
  "cells": [
    {
      "cell_type": "markdown",
      "metadata": {
        "id": "view-in-github",
        "colab_type": "text"
      },
      "source": [
        "<a href=\"https://colab.research.google.com/github/shubhs777c/python-practice/blob/main/csv_and_pandas_manipulation_.ipynb\" target=\"_parent\"><img src=\"https://colab.research.google.com/assets/colab-badge.svg\" alt=\"Open In Colab\"/></a>"
      ]
    },
    {
      "cell_type": "code",
      "execution_count": null,
      "metadata": {
        "id": "DRtQPXTtx62w"
      },
      "outputs": [],
      "source": [
        "# opening csv file from an URL\n",
        "\n",
        "import requests\n",
        "from io import StringIO\n",
        "\n",
        "url = \"https://raw.githubusercontent.com/cs109/2014_data/master/countries.csv\"\n",
        "headers = {\"User-Agent\": \"Mozilla/5.0 (Macintosh; Intel Mac OS X 10.14; rv:66.0) Gecko/20100101 Firefox/66.0\"}\n",
        "req = requests.get(url, headers=headers)\n",
        "data = StringIO(req.text)\n",
        "\n",
        "pd.read_csv(data)"
      ]
    },
    {
      "cell_type": "code",
      "source": [
        "# seperator parameter for each column \n",
        "\n",
        "pd.read_csv('movie_titles_metadata.tsv',sep='\\t',names=['sno','name','release_year','rating','votes','genres'])"
      ],
      "metadata": {
        "id": "2lRQ5Yj6y99m"
      },
      "execution_count": null,
      "outputs": []
    },
    {
      "cell_type": "code",
      "source": [
        "# index column can also change.\n",
        "\n",
        "pd.read_csv('aug_train.csv',index_col='enrollee_id')"
      ],
      "metadata": {
        "id": "m-m_isOT0D1R"
      },
      "execution_count": null,
      "outputs": []
    },
    {
      "cell_type": "code",
      "source": [
        "# header parameter.[if header is also consider as row then we use this and perform hearder at top]\n",
        "\n",
        "pd.read_csv('test.csv',header=1)"
      ],
      "metadata": {
        "id": "4utBzo-G1hY7"
      },
      "execution_count": null,
      "outputs": []
    },
    {
      "cell_type": "code",
      "source": [
        "# particular column selection \n",
        "\n",
        "pd.read_csv('aug_train.csv',usecols=['enrollee_id','gender','education_level'])"
      ],
      "metadata": {
        "id": "uw_48h-L16sF"
      },
      "execution_count": null,
      "outputs": []
    },
    {
      "cell_type": "code",
      "source": [
        "# squeeze parameter [when we want to showcase only one colun in the series form then we use it]\n",
        "\n",
        "pd.read_csv('aug_train.csv',usecols=['gender'],squeeze=True)"
      ],
      "metadata": {
        "id": "q7mTDPsV2R4w"
      },
      "execution_count": null,
      "outputs": []
    },
    {
      "cell_type": "code",
      "source": [
        "# skip rows for any number of \n",
        "\n",
        "pd.read_csv('aug_train.csv',nrows=100)"
      ],
      "metadata": {
        "id": "a4W6SIk22e8C"
      },
      "execution_count": null,
      "outputs": []
    },
    {
      "cell_type": "code",
      "source": [
        "# encoding parameter [if the dataset is in the weird form]\n",
        "\n",
        "pd.read_csv('zomato.csv',encoding='latin-1')"
      ],
      "metadata": {
        "id": "lSnxcbaF2mkR"
      },
      "execution_count": null,
      "outputs": []
    },
    {
      "cell_type": "code",
      "source": [
        "# we have to change the datatypes of particular column then we use this.\n",
        "\n",
        "pd.read_csv('aug_train.csv',dtype={'target':int}).info()"
      ],
      "metadata": {
        "id": "OuRTA2Ii3F3O"
      },
      "execution_count": null,
      "outputs": []
    },
    {
      "cell_type": "code",
      "source": [
        "# handling date object to string int format then we use this.\n",
        "\n",
        "pd.read_csv('IPL Matches 2008-2020.csv',parse_dates=['date']).info()"
      ],
      "metadata": {
        "id": "HLyyrhFH31pT"
      },
      "execution_count": null,
      "outputs": []
    },
    {
      "cell_type": "code",
      "source": [
        "def rename(name):\n",
        "    if name == \"Royal Challengers Bangalore\":\n",
        "        return \"RCB\"\n",
        "    else:\n",
        "        return name\n",
        "rename(\"Royal Challengers Bangalore\")\n",
        "\n",
        "# convertors [when we have to change the name of particular column into short form then we used this]\n",
        "\n",
        "pd.read_csv('IPL Matches 2008-2020.csv',converters={'team1':rename})\n"
      ],
      "metadata": {
        "id": "MvL6iIw_4FIE"
      },
      "execution_count": null,
      "outputs": []
    },
    {
      "cell_type": "code",
      "source": [
        "# loading a dataset in chunks .\n",
        "\n",
        "dfs = pd.read_csv('aug_train.csv',chunksize=5000)\n",
        "for chunks in dfs:\n",
        "    print(chunk.shape)\n"
      ],
      "metadata": {
        "id": "aimfABZQ4fSa"
      },
      "execution_count": null,
      "outputs": []
    }
  ]
}