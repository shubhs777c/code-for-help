{
  "nbformat": 4,
  "nbformat_minor": 0,
  "metadata": {
    "colab": {
      "provenance": [],
      "authorship_tag": "ABX9TyPd48LE+O+n94TmQroXH8WQ",
      "include_colab_link": true
    },
    "kernelspec": {
      "name": "python3",
      "display_name": "Python 3"
    },
    "language_info": {
      "name": "python"
    }
  },
  "cells": [
    {
      "cell_type": "markdown",
      "metadata": {
        "id": "view-in-github",
        "colab_type": "text"
      },
      "source": [
        "<a href=\"https://colab.research.google.com/github/shubhs777c/python-practice/blob/main/sanfoundry_py_prob_on_strings_.ipynb\" target=\"_parent\"><img src=\"https://colab.research.google.com/assets/colab-badge.svg\" alt=\"Open In Colab\"/></a>"
      ]
    },
    {
      "cell_type": "markdown",
      "source": [
        "Simple python program "
      ],
      "metadata": {
        "id": "zIDN_W0WD4Jk"
      }
    },
    {
      "cell_type": "code",
      "execution_count": 45,
      "metadata": {
        "colab": {
          "base_uri": "https://localhost:8080/"
        },
        "id": "lvjeo5AKD3FI",
        "outputId": "b0d0c0c3-0a89-4c45-c23c-1cb78d8f8dcf"
      },
      "outputs": [
        {
          "output_type": "stream",
          "name": "stdout",
          "text": [
            "Enter number:121\n",
            "number is odd\n"
          ]
        }
      ],
      "source": [
        "# Python Program to Check Whether a Given Number is Even or Odd using Recursion.\n",
        "\n",
        "# def check(n):\n",
        "#     if (n < 2):\n",
        "#         return (n % 2 == 0)\n",
        "#     return (check(n - 2))\n",
        "# n=int(input(\"Enter number:\"))\n",
        "# if(check(n)==True):\n",
        "#       print(\"Number is even!\")\n",
        "# else:\n",
        "#       print(\"Number is odd!\")\n",
        "\n",
        "def check(n):\n",
        "   if (n<2):\n",
        "     return(n%2==0)\n",
        "     return(check (n-2))\n",
        "n=int(input(\"Enter number:\"))\n",
        "if(check(n)==True):\n",
        "    print(\"number is even\")\n",
        "else:\n",
        "    print(\"number is odd\")\n"
      ]
    },
    {
      "cell_type": "code",
      "source": [
        "# Python Program to Check Whether a Number is Positive or Negative.\n",
        "number=int(input(\"Enter number: \"))\n",
        "if(number>0):\n",
        "    print(\"Number is positive\")\n",
        "else:\n",
        "    print(\"Number is negative\")"
      ],
      "metadata": {
        "colab": {
          "base_uri": "https://localhost:8080/"
        },
        "id": "WG4D4M8JIDBU",
        "outputId": "6c2a4c62-2dc3-4418-df7c-7c8c9f5e1031"
      },
      "execution_count": 46,
      "outputs": [
        {
          "output_type": "stream",
          "name": "stdout",
          "text": [
            "Enter number: 121\n",
            "Number is positive\n"
          ]
        }
      ]
    },
    {
      "cell_type": "code",
      "source": [
        "# Python Program to Print All Odd Numbers in a Range.\n",
        "num1=int(input(\"enter a number: \"))\n",
        "num2=int(input(\"enter a number: \"))\n",
        "for number in range(num1,num2+1):\n",
        "  if (number%2!=0):\n",
        "    print(number)\n"
      ],
      "metadata": {
        "colab": {
          "base_uri": "https://localhost:8080/"
        },
        "id": "63-XAvbyJWvg",
        "outputId": "36a55979-ba69-4c90-e5ac-cf835f927b02"
      },
      "execution_count": 47,
      "outputs": [
        {
          "output_type": "stream",
          "name": "stdout",
          "text": [
            "enter a number: 121\n",
            "enter a number: 250\n",
            "121\n",
            "123\n",
            "125\n",
            "127\n",
            "129\n",
            "131\n",
            "133\n",
            "135\n",
            "137\n",
            "139\n",
            "141\n",
            "143\n",
            "145\n",
            "147\n",
            "149\n",
            "151\n",
            "153\n",
            "155\n",
            "157\n",
            "159\n",
            "161\n",
            "163\n",
            "165\n",
            "167\n",
            "169\n",
            "171\n",
            "173\n",
            "175\n",
            "177\n",
            "179\n",
            "181\n",
            "183\n",
            "185\n",
            "187\n",
            "189\n",
            "191\n",
            "193\n",
            "195\n",
            "197\n",
            "199\n",
            "201\n",
            "203\n",
            "205\n",
            "207\n",
            "209\n",
            "211\n",
            "213\n",
            "215\n",
            "217\n",
            "219\n",
            "221\n",
            "223\n",
            "225\n",
            "227\n",
            "229\n",
            "231\n",
            "233\n",
            "235\n",
            "237\n",
            "239\n",
            "241\n",
            "243\n",
            "245\n",
            "247\n",
            "249\n"
          ]
        }
      ]
    },
    {
      "cell_type": "code",
      "source": [
        "# Python Program to Check if a Number is a Palindrome.\n",
        "number=int(input(\"enter a number: \"))\n",
        "temperory = number \n",
        "reverse=0\n",
        "while(number>0):\n",
        "    digit=number%10\n",
        "    reverse=reverse*10+digit\n",
        "    number=number//10\n",
        "if(temperory ==reverse):\n",
        "   print(\"the number is a palindrome\")   \n",
        "else:\n",
        "  print(\"the number is not palindrome\")\n"
      ],
      "metadata": {
        "colab": {
          "base_uri": "https://localhost:8080/"
        },
        "id": "hjkw4SC7LQ_0",
        "outputId": "1f784159-a9df-49f5-c201-171957c90dc8"
      },
      "execution_count": 48,
      "outputs": [
        {
          "output_type": "stream",
          "name": "stdout",
          "text": [
            "enter a number: 251\n",
            "the number is not palindrome\n"
          ]
        }
      ]
    },
    {
      "cell_type": "code",
      "source": [
        "# Python Program to Reverse a Number.\n",
        "number=int(input(\"enter a number:\"))\n",
        "reverse=0\n",
        "while(number>0):\n",
        "    digit=number%10\n",
        "    reverse=reverse*10+digit\n",
        "    number=number//10\n",
        "print(\"reverse of the number:\",reverse)"
      ],
      "metadata": {
        "colab": {
          "base_uri": "https://localhost:8080/"
        },
        "id": "ormaM9F5QCQn",
        "outputId": "452cd5d2-a576-4dbe-de10-192202754c44"
      },
      "execution_count": 49,
      "outputs": [
        {
          "output_type": "stream",
          "name": "stdout",
          "text": [
            "enter a number:389\n",
            "reverse of the number: 983\n"
          ]
        }
      ]
    },
    {
      "cell_type": "code",
      "source": [
        "# Python Program to Print All Integers that Aren’t Divisible by Either 2 or 3.\n",
        "n = int(input(\"Enter the upper limit: \"))\n",
        "for i in range(1, n+1):\n",
        "    if i % 2 != 0 and i % 3 != 0:\n",
        "        print(i)"
      ],
      "metadata": {
        "colab": {
          "base_uri": "https://localhost:8080/"
        },
        "id": "nmAhOfwsRPg7",
        "outputId": "d3eecc73-551a-4311-d25d-517c3439fe0c"
      },
      "execution_count": 50,
      "outputs": [
        {
          "output_type": "stream",
          "name": "stdout",
          "text": [
            "Enter the upper limit: 100\n",
            "1\n",
            "5\n",
            "7\n",
            "11\n",
            "13\n",
            "17\n",
            "19\n",
            "23\n",
            "25\n",
            "29\n",
            "31\n",
            "35\n",
            "37\n",
            "41\n",
            "43\n",
            "47\n",
            "49\n",
            "53\n",
            "55\n",
            "59\n",
            "61\n",
            "65\n",
            "67\n",
            "71\n",
            "73\n",
            "77\n",
            "79\n",
            "83\n",
            "85\n",
            "89\n",
            "91\n",
            "95\n",
            "97\n"
          ]
        }
      ]
    },
    {
      "cell_type": "code",
      "source": [
        "# Python Program to Find Numbers which are Divisible by 7 and Multiple of 5 in a Given Range.\n",
        "lower_range=int(input(\"enter a number\"))\n",
        "upper_range=int(input(\"enter a number\"))\n",
        "for i in range(lower_range,upper_range):\n",
        "  if (i%7==0 & i%5==0):\n",
        "    print(i)"
      ],
      "metadata": {
        "colab": {
          "base_uri": "https://localhost:8080/"
        },
        "id": "UqzuWzMeUpnt",
        "outputId": "5d945647-0657-43b3-ddf0-d330ab12fc71"
      },
      "execution_count": 51,
      "outputs": [
        {
          "output_type": "stream",
          "name": "stdout",
          "text": [
            "enter a number150\n",
            "enter a number425\n",
            "154\n",
            "161\n",
            "168\n",
            "175\n",
            "182\n",
            "189\n",
            "196\n",
            "203\n",
            "210\n",
            "217\n",
            "224\n",
            "231\n",
            "238\n",
            "245\n",
            "252\n",
            "259\n",
            "266\n",
            "273\n",
            "280\n",
            "287\n",
            "294\n",
            "301\n",
            "308\n",
            "315\n",
            "322\n",
            "329\n",
            "336\n",
            "343\n",
            "350\n",
            "357\n",
            "364\n",
            "371\n",
            "378\n",
            "385\n",
            "392\n",
            "399\n",
            "406\n",
            "413\n",
            "420\n"
          ]
        }
      ]
    },
    {
      "cell_type": "code",
      "source": [
        "# Python Program to Print All Numbers in a Range Divisible by a Given Number.\n",
        "# lower=int(input(\"Enter lower range limit:\"))\n",
        "# upper=int(input(\"Enter upper range limit:\"))\n",
        "# n=int(input(\"Enter the number to be divided by:\"))\n",
        "# for i in range(lower,upper+1):\n",
        "#     if(i%n==0):\n",
        "#         print(i)\n",
        "\n",
        "lower_number=int(input(\"enter a number\"))\n",
        "upper_number=int(input(\"enter a number\"))\n",
        "number=int(input(\"enter the number to be divided by:\"))\n",
        "for i in range(lower_number,upper_number+1):\n",
        "   if (i%number==0):\n",
        "     print(i)\n"
      ],
      "metadata": {
        "colab": {
          "base_uri": "https://localhost:8080/"
        },
        "id": "7BKRHEHmV8iV",
        "outputId": "43fbfd04-be2b-4876-a557-15c349a29b33"
      },
      "execution_count": 52,
      "outputs": [
        {
          "name": "stdout",
          "output_type": "stream",
          "text": [
            "enter a number250\n",
            "enter a number25\n",
            "enter the number to be divided by:5\n"
          ]
        }
      ]
    },
    {
      "cell_type": "code",
      "source": [
        "# Python Program to Find Sum of Digits of a Number.\n",
        "# n=int(input(\"Enter a number:\"))\n",
        "# tot=0\n",
        "# while(n>0):\n",
        "#     dig=n%10\n",
        "#     tot=tot+dig\n",
        "#     n=n//10\n",
        "# print(\"The total sum of digits is:\",tot)\n",
        "\n",
        "number=int(input(\"enter a number:\"))\n",
        "total=0\n",
        "while(number>0):\n",
        "  digit=number%10\n",
        "  total=total+digit\n",
        "  number=number//10\n",
        "print (\"the total sum of digit is:\" ,total)"
      ],
      "metadata": {
        "colab": {
          "base_uri": "https://localhost:8080/"
        },
        "id": "jLhDqFa3jHYQ",
        "outputId": "234b4210-808a-42da-d30b-cabbcc14b5ec"
      },
      "execution_count": 53,
      "outputs": [
        {
          "output_type": "stream",
          "name": "stdout",
          "text": [
            "enter a number:150\n",
            "the total sum of digit is: 6\n"
          ]
        }
      ]
    },
    {
      "cell_type": "code",
      "source": [
        "# Python Program to Find Sum of Digit of a Number using Recursion.\n",
        "def sum_digits(b):\n",
        "    if b == 0:\n",
        "        return 0\n",
        "    else:\n",
        "        dig = b % 10\n",
        "        return dig + sum_digits(b // 10)\n",
        "\n",
        "n = int(input(\"Enter a number: \"))\n",
        "print(sum_digits(n))\n",
        "\n"
      ],
      "metadata": {
        "colab": {
          "base_uri": "https://localhost:8080/"
        },
        "id": "QsoVh8QZkqCH",
        "outputId": "d581a1d1-3ffd-42a7-d872-1c471a78121b"
      },
      "execution_count": 54,
      "outputs": [
        {
          "output_type": "stream",
          "name": "stdout",
          "text": [
            "Enter a number: 14\n",
            "5\n"
          ]
        }
      ]
    },
    {
      "cell_type": "markdown",
      "source": [
        "# **Python programs on number**"
      ],
      "metadata": {
        "id": "8AZD0dk4m1jj"
      }
    },
    {
      "cell_type": "code",
      "source": [
        "# Python Program to Find Prime Numbers in a Given Range.\n",
        "def is_prime(number):\n",
        "    if number < 2:\n",
        "           return False\n",
        "    for i in range (2,int (number**0.5)+1):\n",
        "        if number % i==0:\n",
        "                 return False\n",
        "    return True\n",
        "start=int(input(\"enter a number:\"))\n",
        "end=int(input(\"enter a number:\"))\n",
        "print(\"prime numbers between \", start,\"and\",end,\"are:\")\n",
        "for num in range(start,end+1):\n",
        "    if is_prime(num):\n",
        "        print(num)"
      ],
      "metadata": {
        "colab": {
          "base_uri": "https://localhost:8080/"
        },
        "id": "-QyTaqT-mffR",
        "outputId": "f8a383da-211e-4f05-aae4-45d2b31d200f"
      },
      "execution_count": 55,
      "outputs": [
        {
          "output_type": "stream",
          "name": "stdout",
          "text": [
            "enter a number:15\n",
            "enter a number:25\n",
            "prime numbers between  15 and 25 are:\n",
            "17\n",
            "19\n",
            "23\n"
          ]
        }
      ]
    },
    {
      "cell_type": "code",
      "source": [
        "# Python Program to Check Prime Number.\n",
        "def is_prime(number):\n",
        "    if number < 2:\n",
        "           return False\n",
        "    for i in range (2,int (number**0.5)+1):\n",
        "        if number % i==0:\n",
        "                 return False\n",
        "    return True\n",
        "num=int(input(\"enter a number:\"))\n",
        "if is_prime(num):\n",
        "     print(num, \"is a prime number\")\n",
        "else:\n",
        "    print(num, \"is not a prime number\")"
      ],
      "metadata": {
        "colab": {
          "base_uri": "https://localhost:8080/"
        },
        "id": "d2hb53DOnP5N",
        "outputId": "87cca387-d460-4f41-b4ab-71d41d808e6c"
      },
      "execution_count": 56,
      "outputs": [
        {
          "output_type": "stream",
          "name": "stdout",
          "text": [
            "enter a number:147\n",
            "147 is not a prime number\n"
          ]
        }
      ]
    },
    {
      "cell_type": "code",
      "source": [
        "# Python Program to Check whether a Number is Prime or Not using Recursion.\n",
        "def is_prime(n,i=2):\n",
        "    if i<2:\n",
        "       return False\n",
        "    if i > n**0.5:\n",
        "      return True\n",
        "    if n%i==0:\n",
        "      return False\n",
        "    return is_prime(n,i+1)\n",
        "num=int(input(\"enter a number:\"))\n",
        "if is_prime(num):\n",
        "   print(num,\"is a prime number\")\n",
        "else:\n",
        "   print(num,\"is not a prime number\") "
      ],
      "metadata": {
        "colab": {
          "base_uri": "https://localhost:8080/"
        },
        "id": "VmTMOI8mrPL2",
        "outputId": "9f44332d-771e-4aae-cb42-29c7f98a9e63"
      },
      "execution_count": 57,
      "outputs": [
        {
          "output_type": "stream",
          "name": "stdout",
          "text": [
            "enter a number:154\n",
            "154 is not a prime number\n"
          ]
        }
      ]
    },
    {
      "cell_type": "code",
      "source": [
        "# Python Program to Check Whether a Given Number is Perfect Number.\n",
        "number=int(input(\"enter any number:\"))\n",
        "sum1=0\n",
        "for i in range (1,n):\n",
        "    if(n % i==0):\n",
        "         sum = sum1 + i\n",
        "if(sum1==n):\n",
        "  print(\"the number is a perfect number\")\n",
        "else:\n",
        "  print(\"the number is not a perfect number\")\n",
        "  "
      ],
      "metadata": {
        "colab": {
          "base_uri": "https://localhost:8080/"
        },
        "id": "OBkFMsygtzf7",
        "outputId": "35b59bf0-48aa-496b-9d08-7779b57c96ec"
      },
      "execution_count": 58,
      "outputs": [
        {
          "output_type": "stream",
          "name": "stdout",
          "text": [
            "enter any number:256\n",
            "the number is not a perfect number\n"
          ]
        }
      ]
    },
    {
      "cell_type": "markdown",
      "source": [
        "**python problems on string**"
      ],
      "metadata": {
        "id": "-Hm4yHOMxKiq"
      }
    },
    {
      "cell_type": "code",
      "source": [
        "#Python Program to Remove Odd Indexed Characters in a string.\n",
        "\n",
        "def modify (string):\n",
        "  final=\"\"\n",
        "  for i in range(len(string)):\n",
        "    if i % 2 == 0:\n",
        "       final = final + string[i]\n",
        "  return final\n",
        "string=str(\"hello world\")\n",
        "print(\"modified string is:\")\n",
        "print(modify(string))"
      ],
      "metadata": {
        "colab": {
          "base_uri": "https://localhost:8080/"
        },
        "id": "Co_6qE1DwZJS",
        "outputId": "c9949581-c2ad-4fc9-e5b7-d2f1838ddeeb"
      },
      "execution_count": 59,
      "outputs": [
        {
          "output_type": "stream",
          "name": "stdout",
          "text": [
            "modified string is:\n",
            "hlowrd\n"
          ]
        }
      ]
    },
    {
      "cell_type": "code",
      "source": [
        "# Python Program to Remove the nth Index Character from a Non-Empty String.\n",
        "def remove (string,n):\n",
        "      first = string [:n]\n",
        "      last = string[n+1:]\n",
        "      return first + last\n",
        "string=str(\"shubham\")\n",
        "n=int(input(\"enter the index of the character to remove:\"))\n",
        "print(\"modified string:\")\n",
        "print(remove(string,n))\n"
      ],
      "metadata": {
        "colab": {
          "base_uri": "https://localhost:8080/"
        },
        "id": "JhdI4WX33UXE",
        "outputId": "7971698e-0ff3-41b4-f1a0-48bec31268de"
      },
      "execution_count": 60,
      "outputs": [
        {
          "output_type": "stream",
          "name": "stdout",
          "text": [
            "enter the index of the character to remove:246\n",
            "modified string:\n",
            "shubham\n"
          ]
        }
      ]
    },
    {
      "cell_type": "code",
      "source": [
        "# Python Program to Replace All Occurrences of ‘a’ with $ in a String.\n",
        "string = str(input(\"Enter a string: \"))\n",
        "new_string = string.replace('a', '$')\n",
        "print(\"Modified string: \" + new_string)\n"
      ],
      "metadata": {
        "colab": {
          "base_uri": "https://localhost:8080/"
        },
        "id": "LJSaAIJp53Wg",
        "outputId": "93872f30-18cf-4725-af8c-b8ec0924f431"
      },
      "execution_count": 61,
      "outputs": [
        {
          "output_type": "stream",
          "name": "stdout",
          "text": [
            "Enter a string: 264\n",
            "Modified string: 264\n"
          ]
        }
      ]
    },
    {
      "cell_type": "code",
      "source": [
        "# Python Program to Replace Every Blank Space with Hyphen in a String.\n",
        "string =str(input(\"enter a string: \"))\n",
        "new_string=string.replace(\" \" , '-')\n",
        "print('modified string:' + new_string)"
      ],
      "metadata": {
        "colab": {
          "base_uri": "https://localhost:8080/"
        },
        "id": "m2_LivAbGu-R",
        "outputId": "421d6950-f9e4-4b85-f8ab-250e06422183"
      },
      "execution_count": 62,
      "outputs": [
        {
          "output_type": "stream",
          "name": "stdout",
          "text": [
            "enter a string: 245\n",
            "modified string:245\n"
          ]
        }
      ]
    },
    {
      "cell_type": "code",
      "source": [
        "# Python Program to Reverse a String using Recursion.\n",
        "def reverse_string(string):\n",
        "    if len(string) == 0:\n",
        "        return string\n",
        "    else:\n",
        "        return reverse_string(string[1:]) + string[0]\n",
        "string = \"hello world\"\n",
        "print(\"Original string:\", string)\n",
        "print(\"Reversed string:\", reverse_string(string))\n"
      ],
      "metadata": {
        "colab": {
          "base_uri": "https://localhost:8080/"
        },
        "id": "PRxbwLGMH-9B",
        "outputId": "bc907e9b-e28a-4e73-c6b5-2090534fe387"
      },
      "execution_count": 63,
      "outputs": [
        {
          "output_type": "stream",
          "name": "stdout",
          "text": [
            "Original string: hello world\n",
            "Reversed string: dlrow olleh\n"
          ]
        }
      ]
    },
    {
      "cell_type": "code",
      "source": [
        "# Python Program to Reverse a String Without using Recursion.\n",
        "a=str(input(\"Enter a string: \"))\n",
        "print(\"Reverse of the string is: \")\n",
        "print(a[::-1])"
      ],
      "metadata": {
        "colab": {
          "base_uri": "https://localhost:8080/"
        },
        "id": "TQh1MbUdKd5L",
        "outputId": "ea262e65-e129-4adb-90b2-5bf6ced5df89"
      },
      "execution_count": 64,
      "outputs": [
        {
          "output_type": "stream",
          "name": "stdout",
          "text": [
            "Enter a string: 36\n",
            "Reverse of the string is: \n",
            "63\n"
          ]
        }
      ]
    },
    {
      "cell_type": "code",
      "source": [
        "# Python Program to Determine How Many Times a Given Letter Occurs in a String Recursively.\n",
        "def count_letter (string,letter):\n",
        "    if len(string)==0:\n",
        "       return 0\n",
        "    elif string [0]== letter:\n",
        "         return 1 + count_letter(string[1:],letter)\n",
        "    else:\n",
        "         return count_letter(string[1:], letter)\n",
        "string=\"hello world\"\n",
        "letter =\"l\"\n",
        "print(\"number of occurences of \",letter,\"in\",string,\":\", count_letter(string,letter))\n"
      ],
      "metadata": {
        "colab": {
          "base_uri": "https://localhost:8080/"
        },
        "id": "VztH1iQINVDo",
        "outputId": "78b2ecad-7d64-4942-e0fc-ac61fe02cbc1"
      },
      "execution_count": 65,
      "outputs": [
        {
          "output_type": "stream",
          "name": "stdout",
          "text": [
            "number of occurences of  l in hello world : 3\n"
          ]
        }
      ]
    },
    {
      "cell_type": "code",
      "source": [
        "# Python Program to Find the Length of a String without Library Function.\n",
        "def length_find(string):\n",
        "    count = 0 \n",
        "    for char in string:\n",
        "        count += 1 \n",
        "    return count \n",
        "string = \"shubham\"\n",
        "print(\"length of \",string,\":\",length_find(string)) "
      ],
      "metadata": {
        "colab": {
          "base_uri": "https://localhost:8080/"
        },
        "id": "h16g4hvtQvgm",
        "outputId": "5fefc54f-c053-478d-a69d-c09e709267a7"
      },
      "execution_count": 66,
      "outputs": [
        {
          "output_type": "stream",
          "name": "stdout",
          "text": [
            "length of  shubham : 7\n"
          ]
        }
      ]
    },
    {
      "cell_type": "code",
      "source": [
        "# Python Program to Count the Number of Words and Characters in a String.\n",
        "def count_words_chars(string):\n",
        "    word_count = len(string.split())\n",
        "    char_count = len(string.replace(\" \", \"\"))\n",
        "    return word_count, char_count\n",
        "\n",
        "# Example usage\n",
        "string = \"hello world,i like this?\"\n",
        "word_count, char_count = count_words_chars(string)\n",
        "print(\"Number of words in\", string, \":\", word_count)\n",
        "print(\"Number of characters in\", string, \":\", char_count)"
      ],
      "metadata": {
        "colab": {
          "base_uri": "https://localhost:8080/"
        },
        "id": "9lxg-3haTpAz",
        "outputId": "2b738374-3f94-41b5-8149-77ac20ee6a7d"
      },
      "execution_count": 67,
      "outputs": [
        {
          "output_type": "stream",
          "name": "stdout",
          "text": [
            "Number of words in hello world,i like this? : 4\n",
            "Number of characters in hello world,i like this? : 21\n"
          ]
        }
      ]
    },
    {
      "cell_type": "code",
      "source": [
        "# Python Program to Count Number of Lowercase Characters in a String.\n",
        "string=str(\"hello world\")\n",
        "count=0\n",
        "for i in string:\n",
        "      if(i.islower()):\n",
        "            count=count+1\n",
        "print(\"The number of lowercase characters is:\")\n",
        "print(count)"
      ],
      "metadata": {
        "colab": {
          "base_uri": "https://localhost:8080/"
        },
        "id": "5T9lpoWse7Qw",
        "outputId": "89fc1894-c103-4999-85b2-1702b18ab8e1"
      },
      "execution_count": 68,
      "outputs": [
        {
          "output_type": "stream",
          "name": "stdout",
          "text": [
            "The number of lowercase characters is:\n",
            "10\n"
          ]
        }
      ]
    },
    {
      "cell_type": "code",
      "source": [
        "# Python Program to Count the Number of Vowels in a String.\n",
        "def count_of_vowels(string):\n",
        "    vowel_count = 0\n",
        "    vowels = \"aeiouAEIOU\"\n",
        "    for char in string:\n",
        "        if char in vowels:\n",
        "            vowel_count += 1\n",
        "    return vowel_count\n",
        "string = \"my name is shubham \"\n",
        "vowel_count = count_of_vowels(string)\n",
        "print(\"Number of vowels in\", string, \":\", vowel_count)"
      ],
      "metadata": {
        "colab": {
          "base_uri": "https://localhost:8080/"
        },
        "id": "bz-L5QppJfHj",
        "outputId": "4b648272-d8e4-417b-e38a-77934d3ac3f0"
      },
      "execution_count": 69,
      "outputs": [
        {
          "output_type": "stream",
          "name": "stdout",
          "text": [
            "Number of vowels in my name is shubham  : 5\n"
          ]
        }
      ]
    },
    {
      "cell_type": "code",
      "source": [
        "# Python Program to Count Number of Uppercase and Lowercase Letters in a String.\n",
        "\n",
        "string=str(\"Hello World\")\n",
        "count1=0\n",
        "count2=0\n",
        "for i in string:\n",
        "      if(i.islower()):\n",
        "            count1=count1+1\n",
        "      elif(i.isupper()):\n",
        "            count2=count2+1\n",
        "print(\"The number of lowercase characters is:\")\n",
        "print(count1)\n",
        "print(\"The number of uppercase characters is:\")\n",
        "print(count2)"
      ],
      "metadata": {
        "colab": {
          "base_uri": "https://localhost:8080/"
        },
        "id": "MMshV2VlkD5g",
        "outputId": "b0c6f377-8870-490f-adb7-247ea985ecd7"
      },
      "execution_count": 70,
      "outputs": [
        {
          "output_type": "stream",
          "name": "stdout",
          "text": [
            "The number of lowercase characters is:\n",
            "8\n",
            "The number of uppercase characters is:\n",
            "2\n"
          ]
        }
      ]
    },
    {
      "cell_type": "code",
      "source": [
        "# Python Program to Check if the Substring is Present in the Given String.\n",
        "string=str(\"shubham is a good boy\")\n",
        "substring=str(\"akash\")\n",
        "if substring in string:\n",
        "  print(\"substring is present in string\")\n",
        "else:\n",
        "  print(\"substring is not present in string\")"
      ],
      "metadata": {
        "colab": {
          "base_uri": "https://localhost:8080/"
        },
        "id": "KUTxCBLFlu24",
        "outputId": "6a2c0121-c1ec-41d9-9a74-3b5f069ec3a2"
      },
      "execution_count": 71,
      "outputs": [
        {
          "output_type": "stream",
          "name": "stdout",
          "text": [
            "substring is not present in string\n"
          ]
        }
      ]
    },
    {
      "cell_type": "code",
      "source": [
        "# Python Program to Find Common Characters in Two Strings.\n",
        "# s1=raw_input(\"Enter first string:\")\n",
        "# s2=raw_input(\"Enter second string:\")\n",
        "# a=list(set(s1)&set(s2))\n",
        "# print(\"The common letters are:\")\n",
        "# for i in a:\n",
        "#     print(i)\n",
        "\n",
        "string1=str(\"shubham\")\n",
        "string2=str(\"rakesh\")\n",
        "common_char=list(set(string1) & set(string2))\n",
        "print(common_char)"
      ],
      "metadata": {
        "colab": {
          "base_uri": "https://localhost:8080/"
        },
        "id": "sHwpEgKbpKlw",
        "outputId": "2742ba99-8c6a-412f-cb62-b93db170f2ff"
      },
      "execution_count": 72,
      "outputs": [
        {
          "output_type": "stream",
          "name": "stdout",
          "text": [
            "['h', 's', 'a']\n"
          ]
        }
      ]
    },
    {
      "cell_type": "code",
      "source": [
        "# Python Program to Print All Letters Present in Both Strings.\n",
        "string1=\"shubham\"\n",
        "string2=\"raghav\"\n",
        "overall_string=string1+string2\n",
        "print(overall_string)"
      ],
      "metadata": {
        "colab": {
          "base_uri": "https://localhost:8080/"
        },
        "id": "fJRAmGpkqSsh",
        "outputId": "ab601f5f-e459-4755-befa-6c20e02cfa47"
      },
      "execution_count": 73,
      "outputs": [
        {
          "output_type": "stream",
          "name": "stdout",
          "text": [
            "shubhamraghav\n"
          ]
        }
      ]
    },
    {
      "cell_type": "code",
      "source": [
        "# Python Program that Displays which Letters are in First String but not in Second.\n",
        "string1=\"bapu\"\n",
        "string2=\"kapu\"\n",
        "ABCD=list(set(string1)-set(string2))\n",
        "print(ABCD)"
      ],
      "metadata": {
        "colab": {
          "base_uri": "https://localhost:8080/"
        },
        "id": "Wdl4lb28rHtH",
        "outputId": "58572da1-dc48-4c79-e882-cc0d65929a61"
      },
      "execution_count": 74,
      "outputs": [
        {
          "output_type": "stream",
          "name": "stdout",
          "text": [
            "['b']\n"
          ]
        }
      ]
    },
    {
      "cell_type": "code",
      "source": [
        "# Python Program that Displays Letters that are not Common in Two Strings.\n",
        "s1=str(\"shubham\")\n",
        "s2=str(\"jaguar\")\n",
        "a=list(set(s1)^set(s2))\n",
        "print(\"The letters are:\")\n",
        "for i in a:\n",
        "    print(i)"
      ],
      "metadata": {
        "colab": {
          "base_uri": "https://localhost:8080/"
        },
        "id": "WUR93_6Gr9dR",
        "outputId": "7122c34b-9093-4920-825e-b1d873a7da44"
      },
      "execution_count": 75,
      "outputs": [
        {
          "output_type": "stream",
          "name": "stdout",
          "text": [
            "The letters are:\n",
            "h\n",
            "s\n",
            "j\n",
            "g\n",
            "m\n",
            "r\n",
            "b\n"
          ]
        }
      ]
    },
    {
      "cell_type": "code",
      "source": [
        "# Python Program to Create a New String Made up of First and Last 2 Characters.\n",
        "string_input=\"shubham\"\n",
        "if len(string_input) < 2:\n",
        "  print(\"error\")\n",
        "else:\n",
        "  new_string=string_input[0:2] + string_input[-2:]\n",
        "  print(new_string)"
      ],
      "metadata": {
        "colab": {
          "base_uri": "https://localhost:8080/"
        },
        "id": "Fuw5kKU7tBBY",
        "outputId": "cbdeb8f3-5559-434c-a99f-304a8aff3777"
      },
      "execution_count": 76,
      "outputs": [
        {
          "output_type": "stream",
          "name": "stdout",
          "text": [
            "sham\n"
          ]
        }
      ]
    },
    {
      "cell_type": "code",
      "source": [
        "# Python Program to Find the Larger String without using Built-in Functions.\n",
        "string1 = \"shubh\"\n",
        "string2 = \"ramdas\"\n",
        "\n",
        "length1 = 0\n",
        "for char in string1:\n",
        "    length1 += 1\n",
        "\n",
        "length2 = 0\n",
        "for char in string2:\n",
        "    length2 += 1\n",
        "\n",
        "if length1 > length2:\n",
        "    print(\"The larger string is:\", string1)\n",
        "elif length2 > length1:\n",
        "    print(\"The larger string is:\", string2)\n",
        "else:\n",
        "    print(\"The two strings are of equal length.\")\n"
      ],
      "metadata": {
        "colab": {
          "base_uri": "https://localhost:8080/"
        },
        "id": "Gn4JUUrkuc1w",
        "outputId": "321bc391-6ac9-4b2f-82c1-36d7e02614e3"
      },
      "execution_count": 77,
      "outputs": [
        {
          "output_type": "stream",
          "name": "stdout",
          "text": [
            "The larger string is: ramdas\n"
          ]
        }
      ]
    },
    {
      "cell_type": "code",
      "source": [
        "# Python Program to Swap the First and the Last Character of a String.\n",
        "def change(string):\n",
        "      return string[-1:] + string[1:-1] + string[:1]\n",
        "string=(\"bourbon\")\n",
        "print(change(string))"
      ],
      "metadata": {
        "colab": {
          "base_uri": "https://localhost:8080/"
        },
        "id": "D-sN2lsmxpiH",
        "outputId": "e9434433-babc-4068-c4b3-e1ffdf6e5969"
      },
      "execution_count": 78,
      "outputs": [
        {
          "output_type": "stream",
          "name": "stdout",
          "text": [
            "nourbob\n"
          ]
        }
      ]
    },
    {
      "cell_type": "code",
      "source": [
        "# Python Program to Sort Hyphen Separated Sequence of Words in Alphabetical Order.\n",
        "input_str = (\"my-name-is-shubham\")\n",
        "words = input_str.split(\"-\")  # Split the input string into a list of words\n",
        "words.sort()  # Sort the list of words in alphabetical order\n",
        "output_str = \"-\".join(words)  # Join the sorted list of words back into a string\n",
        "\n",
        "print(\"Original sequence of words:\", input_str)\n",
        "print(\"Sorted sequence of words:\", output_str)"
      ],
      "metadata": {
        "colab": {
          "base_uri": "https://localhost:8080/"
        },
        "id": "rCnsHp2cyu7G",
        "outputId": "1723fe45-f635-41d0-c1ff-cece182d4f73"
      },
      "execution_count": 79,
      "outputs": [
        {
          "output_type": "stream",
          "name": "stdout",
          "text": [
            "Original sequence of words: my-name-is-shubham\n",
            "Sorted sequence of words: is-my-name-shubham\n"
          ]
        }
      ]
    },
    {
      "cell_type": "code",
      "source": [
        "# Python Program to Count Number of Vowels in a String using Sets.\n",
        "input_string=(\"shubham\")\n",
        "count = 0\n",
        "vowels = set(\"aeiou\")\n",
        "for letter in input_string:\n",
        "    if letter in vowels:\n",
        "        count += 1\n",
        "print(\"Count of the vowels is:\")\n",
        "print(count)"
      ],
      "metadata": {
        "colab": {
          "base_uri": "https://localhost:8080/"
        },
        "id": "3L1XJPUk1vsU",
        "outputId": "10de384b-6ff5-46f0-9abd-ac985a3c8197"
      },
      "execution_count": 80,
      "outputs": [
        {
          "output_type": "stream",
          "name": "stdout",
          "text": [
            "Count of the vowels is:\n",
            "2\n"
          ]
        }
      ]
    },
    {
      "cell_type": "code",
      "source": [
        "# Python Program to Check if a Given String is Palindrome.\n",
        "input_string=\"mad\"\n",
        "testing=input_string[::-1]\n",
        "if input_string==testing:\n",
        "  print(\"the string is palindrome\")\n",
        "else:\n",
        "  print(\"string is not palindrome\")"
      ],
      "metadata": {
        "colab": {
          "base_uri": "https://localhost:8080/"
        },
        "id": "tVebbM463ECr",
        "outputId": "0f19620b-d226-4373-c2c4-5f7d46863935"
      },
      "execution_count": 81,
      "outputs": [
        {
          "output_type": "stream",
          "name": "stdout",
          "text": [
            "string is not palindrome\n"
          ]
        }
      ]
    },
    {
      "cell_type": "code",
      "source": [
        "# Python Program to Check whether two Strings are Anagrams.\n",
        "s1=(\"shubham\")\n",
        "s2=(\"shubham\")\n",
        "if(sorted(s1)==sorted(s2)):\n",
        "      print(\"The strings are anagrams.\")\n",
        "else:\n",
        "      print(\"The strings aren't anagrams.\")"
      ],
      "metadata": {
        "colab": {
          "base_uri": "https://localhost:8080/"
        },
        "id": "PnmHbB6E3i_L",
        "outputId": "72b08c3b-b98d-4a24-8df6-ab951caa92f7"
      },
      "execution_count": 82,
      "outputs": [
        {
          "output_type": "stream",
          "name": "stdout",
          "text": [
            "The strings are anagrams.\n"
          ]
        }
      ]
    },
    {
      "cell_type": "code",
      "source": [
        "# Python Program to Check whether a String is Palindrome or not using Recursion.\n",
        "def is_palindrome(s):\n",
        "    if len(s) < 1:\n",
        "        return True\n",
        "    else:\n",
        "        if s[0] == s[-1]:\n",
        "            return is_palindrome(s[1:-1])\n",
        "        else:\n",
        "            return False\n",
        "a=\"madama\"\n",
        "if(is_palindrome(a)==True):\n",
        "    print(\"String is a palindrome!\")\n",
        "else:\n",
        "    print(\"String isn't a palindrome!\")\n"
      ],
      "metadata": {
        "colab": {
          "base_uri": "https://localhost:8080/"
        },
        "id": "oKtOVIiD38S1",
        "outputId": "98e1aa1d-474f-4b2b-b383-4b65c842a2f4"
      },
      "execution_count": 83,
      "outputs": [
        {
          "output_type": "stream",
          "name": "stdout",
          "text": [
            "String isn't a palindrome!\n"
          ]
        }
      ]
    },
    {
      "cell_type": "code",
      "source": [
        "# Python Program to Find All Odd Palindrome Numbers in a Range without using Recursion.\n",
        "a=[]\n",
        "l=int(input(\"Enter lower limit: \"))\n",
        "u=int(input(\"Enter upper limit: \"))\n",
        "a=[x for x in range(l,u+1) if x%2!=0 and str(x)==str(x)[::-1]]\n",
        "print(\"The numbers are: \",a)"
      ],
      "metadata": {
        "colab": {
          "base_uri": "https://localhost:8080/"
        },
        "id": "tq1x6x4-5Uwo",
        "outputId": "8399f8e3-3d51-41a9-f7a8-a6e3d034b662"
      },
      "execution_count": 84,
      "outputs": [
        {
          "output_type": "stream",
          "name": "stdout",
          "text": [
            "Enter lower limit: 25\n",
            "Enter upper limit: 14\n",
            "The numbers are:  []\n"
          ]
        }
      ]
    }
  ]
}