{
  "nbformat": 4,
  "nbformat_minor": 0,
  "metadata": {
    "colab": {
      "provenance": [],
      "authorship_tag": "ABX9TyPBd2FoJ71xlBh5xTrjlKIX",
      "include_colab_link": true
    },
    "kernelspec": {
      "name": "python3",
      "display_name": "Python 3"
    },
    "language_info": {
      "name": "python"
    }
  },
  "cells": [
    {
      "cell_type": "markdown",
      "metadata": {
        "id": "view-in-github",
        "colab_type": "text"
      },
      "source": [
        "<a href=\"https://colab.research.google.com/github/shubhs777c/python-practice/blob/main/dataset_analysis_.ipynb\" target=\"_parent\"><img src=\"https://colab.research.google.com/assets/colab-badge.svg\" alt=\"Open In Colab\"/></a>"
      ]
    },
    {
      "cell_type": "markdown",
      "source": [
        "# **understanding your data**"
      ],
      "metadata": {
        "id": "9vDMrV0cDjdb"
      }
    },
    {
      "cell_type": "code",
      "execution_count": null,
      "metadata": {
        "id": "wdQ_YhGcDdft"
      },
      "outputs": [],
      "source": [
        "1.how big is the data \n",
        "df.shape\n",
        "\n",
        "2.how does the data look like \n",
        "df.head()  also use df.sample(5)\n",
        "\n",
        "3. what is the data types of columns \n",
        "df.info()\n",
        "\n",
        "4.Are ther ny missing values\n",
        "df.isnull.sum()\n",
        "\n",
        "5. how does the dat look mathematically\n",
        "df.describe()\n",
        "\n",
        "6.are there duplicate values \n",
        "df.duplicated.sum()\n",
        "\n",
        "7. how is the correlation between cols\n",
        "df.corr()['particular column name shows exaxt relation with between all of the remian columns']\n"
      ]
    },
    {
      "cell_type": "markdown",
      "source": [
        "# **Univariate Analysis**"
      ],
      "metadata": {
        "id": "SBGAbyKtIxBU"
      }
    },
    {
      "cell_type": "code",
      "source": [
        "# we find out numerical and categorical features of dataset.\n",
        "\n",
        "1.Categorical data\n",
        "\n",
        "# count plot \n",
        "sns.countplot(df['column_name'])\n",
        "\n",
        "# barplot\n",
        "df['column_name'].value_counts().plot(kind='bar')\n",
        "\n",
        "# pie chart \n",
        "df['column_name'].value_counts().plot(kind='pie',autopct='%.2f')\n",
        "\n",
        "\n",
        "2.Numerical data \n",
        "\n",
        "# Histogram\n",
        "plt.hist(df['column_name'],bins=10).The value of bins depend on our side \n",
        "\n",
        "\n",
        "# Distplot\n",
        "sns.distplot(['column_name']).It is also called as kernel density function and probability density function.\n",
        "\n",
        "# boxplot\n",
        "sns.boxplot(df['column_name'])\n",
        "df(['column_name']).skew()"
      ],
      "metadata": {
        "id": "QuthzbKvIwpM"
      },
      "execution_count": null,
      "outputs": []
    },
    {
      "cell_type": "markdown",
      "source": [
        "# **Bivariate and Multivariate Analysis**"
      ],
      "metadata": {
        "id": "UZeMAGHYSZVw"
      }
    },
    {
      "cell_type": "code",
      "source": [
        "# scatter plot \n",
        "sns.scatterplot(df['column_name'],df['column_name'],hue=df['column_name']) #.Generally hue is a extra column name\n",
        "for comparision aur any purpose . we can do 5 columns analysis also.\n",
        "\n",
        "# bar plot (Numerical-Categorical) [on x axis categorical and y axis numerical]\n",
        "sns.barplot(df['column_name'],df['column_name']hue=df['column_name'])\n",
        "\n",
        "# box plot (Numerical-Categorical)\n",
        "sns.boxplot(df['column_name'],df['column_name']hue=df['column_name'])\n",
        "\n",
        "# distplot(Numerical-Categorical)\n",
        "sns.distplot(df[df['column_name']==0]['column_name'],hist=False)\n",
        "sns.distplot(df[df['column_name']==1]['column_name'],hist=False)  # This is used for deeper analysis.\n",
        "\n",
        "# Heatmap(categorical-categorical)\n",
        "we can perform groupby operations here with 2 different categorical feature and then plot the graph.\n",
        "\n",
        "# pairplot \n",
        "sns.pairplot(df,hue='column_name') using of hue its depend on ourself."
      ],
      "metadata": {
        "id": "EYFxVWQ6Sg8t"
      },
      "execution_count": null,
      "outputs": []
    }
  ]
}