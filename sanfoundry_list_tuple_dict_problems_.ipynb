{
  "nbformat": 4,
  "nbformat_minor": 0,
  "metadata": {
    "colab": {
      "provenance": [],
      "authorship_tag": "ABX9TyM5SJXSobOHvLoEgcQeIMqy",
      "include_colab_link": true
    },
    "kernelspec": {
      "name": "python3",
      "display_name": "Python 3"
    },
    "language_info": {
      "name": "python"
    }
  },
  "cells": [
    {
      "cell_type": "markdown",
      "metadata": {
        "id": "view-in-github",
        "colab_type": "text"
      },
      "source": [
        "<a href=\"https://colab.research.google.com/github/shubhs777c/python-practice/blob/main/sanfoundry_list_tuple_dict_problems_.ipynb\" target=\"_parent\"><img src=\"https://colab.research.google.com/assets/colab-badge.svg\" alt=\"Open In Colab\"/></a>"
      ]
    },
    {
      "cell_type": "code",
      "execution_count": 11,
      "metadata": {
        "colab": {
          "base_uri": "https://localhost:8080/"
        },
        "id": "OuzXdbhX5LMY",
        "outputId": "49b337bc-21f1-495a-d935-b4eeb062a32d"
      },
      "outputs": [
        {
          "output_type": "stream",
          "name": "stdout",
          "text": [
            "The largest number in the list is: 95\n"
          ]
        }
      ],
      "source": [
        "# Python Program to Find Largest Number in a List.\n",
        "numbers = [23, 95, 67, 12, 89, 56]\n",
        "largest = numbers[0]\n",
        "for number in numbers:\n",
        "    if number > largest:\n",
        "       largest = number\n",
        "print(\"The largest number in the list is:\", largest)"
      ]
    },
    {
      "cell_type": "code",
      "source": [
        "# Python Program to Find Second Largest Number in a List.\n",
        "\n",
        "output_list=[]\n",
        "input_elements=int(input(\"Enter number of elements:\"))\n",
        "for i in range(1,input_elements+1):\n",
        "    b=int(input(\"Enter element:\"))\n",
        "    output_list.append(b)\n",
        "output_list.sort()\n",
        "print(\"Second largest element is:\",output_list[input_elements-2])"
      ],
      "metadata": {
        "colab": {
          "base_uri": "https://localhost:8080/"
        },
        "id": "-c3VWb_p9VAq",
        "outputId": "49268dd5-a3ef-4840-9e67-3dfba30beec8"
      },
      "execution_count": 25,
      "outputs": [
        {
          "output_type": "stream",
          "name": "stdout",
          "text": [
            "Enter number of elements:5\n",
            "Enter element:1\n",
            "Enter element:2\n",
            "Enter element:3\n",
            "Enter element:4\n",
            "Enter element:5\n",
            "Second largest element is: 4\n"
          ]
        }
      ]
    },
    {
      "cell_type": "code",
      "source": [
        "# Python Program to Print Largest Even and Largest Odd Number in a List.\n",
        "\n",
        "numbers = [23, 45, 67, 12, 89, 34]\n",
        "largest_even = -1\n",
        "largest_odd = -1\n",
        "for num in numbers:\n",
        "    if num % 2 == 0:\n",
        "        if num > largest_even:\n",
        "            largest_even = num\n",
        "    else:\n",
        "        if num > largest_odd:\n",
        "            largest_odd = num\n",
        "print(\"The largest even number in the list is:\", largest_even)\n",
        "print(\"The largest odd number in the list is:\", largest_odd)"
      ],
      "metadata": {
        "colab": {
          "base_uri": "https://localhost:8080/"
        },
        "id": "tf5-98HrAW8J",
        "outputId": "b4a88311-7898-45ab-9555-898a19b08df9"
      },
      "execution_count": 31,
      "outputs": [
        {
          "output_type": "stream",
          "name": "stdout",
          "text": [
            "The largest even number in the list is: 34\n",
            "The largest odd number in the list is: 89\n"
          ]
        }
      ]
    },
    {
      "cell_type": "code",
      "source": [
        "# Python Program to Split Even and Odd Elements into Two Lists.\n",
        "numbers=[12,24,36,13,15,17]\n",
        "even_list=[]\n",
        "odd_list=[]\n",
        "for num in numbers:\n",
        "  if num % 2 ==0:\n",
        "    even_list.append(num)\n",
        "  else:\n",
        "    odd_list.append(num)\n",
        "print(\"Even_list:\", even_list)\n",
        "print(\"Odd_list:\", odd_list)    "
      ],
      "metadata": {
        "colab": {
          "base_uri": "https://localhost:8080/"
        },
        "id": "eHXESLQ_FvdG",
        "outputId": "6d053c69-33cd-472c-f753-86fe11a717bb"
      },
      "execution_count": 33,
      "outputs": [
        {
          "output_type": "stream",
          "name": "stdout",
          "text": [
            "Even_list: [12, 24, 36]\n",
            "Odd_list: [13, 15, 17]\n"
          ]
        }
      ]
    },
    {
      "cell_type": "code",
      "source": [
        "# Python Program to Find Average of a List.\n",
        "list=[12,24,36]\n",
        "total=sum(list)\n",
        "length=len(list)\n",
        "average_list=total/length\n",
        "print(\"The average of the list is:\", average_list)"
      ],
      "metadata": {
        "colab": {
          "base_uri": "https://localhost:8080/"
        },
        "id": "-oJyls7rFvS0",
        "outputId": "48047aa3-9cdc-445e-bb33-4134a9e40385"
      },
      "execution_count": 38,
      "outputs": [
        {
          "output_type": "stream",
          "name": "stdout",
          "text": [
            "The average of the list is: 24.0\n"
          ]
        }
      ]
    },
    {
      "cell_type": "code",
      "source": [
        "# Python Program to Print Sum of Negative Numbers, Positive Even & Odd Numbers in a List.\n",
        "numbers=[-34,-24,-14,12,14,16,15,13,17]\n",
        "negative=0\n",
        "even=0\n",
        "odd=0\n",
        "for num in numbers:\n",
        "  if num < 0:\n",
        "    negative+=num\n",
        "  elif num % 2==0:\n",
        "    even+=num\n",
        "  else:\n",
        "    odd+=num\n",
        "print(negative)\n",
        "print(even)\n",
        "print(odd)"
      ],
      "metadata": {
        "colab": {
          "base_uri": "https://localhost:8080/"
        },
        "id": "I2RbPWBAIVic",
        "outputId": "c40cdd7a-ee23-48b6-f8c1-f9b255e5716f"
      },
      "execution_count": 45,
      "outputs": [
        {
          "output_type": "stream",
          "name": "stdout",
          "text": [
            "-72\n",
            "42\n",
            "45\n"
          ]
        }
      ]
    },
    {
      "cell_type": "code",
      "source": [
        "# Python Program to Count Occurrences of Element in List.\n",
        "list=[1,1,2,3,4,4,4,4,5,6]\n",
        "element=int(input(\"enter a number\"))\n",
        "count=list.count(element)\n",
        "print(\"the number of occurence of count is \",count)"
      ],
      "metadata": {
        "colab": {
          "base_uri": "https://localhost:8080/"
        },
        "id": "dwRKZ2nAKPEp",
        "outputId": "e0aff071-0fab-4ab2-8e41-f3d085a3aafb"
      },
      "execution_count": 49,
      "outputs": [
        {
          "output_type": "stream",
          "name": "stdout",
          "text": [
            "enter a number4\n",
            "the number of occurence of count is  4\n"
          ]
        }
      ]
    },
    {
      "cell_type": "code",
      "source": [
        "# Python Program to Find the Sum of Elements in a List using Recursion.\n",
        "def list_sum (numbers):\n",
        "  if not numbers:\n",
        "    return 0\n",
        "  else :\n",
        "    return numbers[0] + list_sum(numbers[1:])\n",
        "numbers = ([1, 2, 3, 4, 5])\n",
        "sum_of_list = list_sum(numbers)\n",
        "print(\"The sum of the numbers in the list is:\", sum_of_list)"
      ],
      "metadata": {
        "colab": {
          "base_uri": "https://localhost:8080/"
        },
        "id": "D185AcCILIQI",
        "outputId": "c419c7c9-b19d-4236-db18-cdfa23b1e309"
      },
      "execution_count": 57,
      "outputs": [
        {
          "output_type": "stream",
          "name": "stdout",
          "text": [
            "The sum of the numbers in the list is: 15\n"
          ]
        }
      ]
    },
    {
      "cell_type": "code",
      "source": [
        "# Python Program to Find the Length of a List using Recursion.\n",
        "def length_of_list(numbers):\n",
        "   if not numbers:\n",
        "      return 0\n",
        "   else:\n",
        "      return 1 + length_of_list(numbers[1:])\n",
        "my_list=[1,2,3,4,'abcd']     \n",
        "list_length=length_of_list(my_list)\n",
        "print(\"The length of the list is:\", list_length)"
      ],
      "metadata": {
        "colab": {
          "base_uri": "https://localhost:8080/"
        },
        "id": "G_fUhN64NvjE",
        "outputId": "3b961a74-3294-451d-ffc0-83096a98d348"
      },
      "execution_count": 62,
      "outputs": [
        {
          "output_type": "stream",
          "name": "stdout",
          "text": [
            "The length of the list is: 5\n"
          ]
        }
      ]
    },
    {
      "cell_type": "code",
      "source": [
        "# Python Program to Merge Two Lists and Sort it.\n",
        "list1=[1,2,3,9,10]\n",
        "list2=[6,7,8,4,5]\n",
        "merge_list=list1+list2\n",
        "merge_list.sort()\n",
        "merge_list"
      ],
      "metadata": {
        "colab": {
          "base_uri": "https://localhost:8080/"
        },
        "id": "4f-85AoMQJId",
        "outputId": "284cc1be-2ed9-43a7-a8d2-7dc689f2efb4"
      },
      "execution_count": 71,
      "outputs": [
        {
          "output_type": "execute_result",
          "data": {
            "text/plain": [
              "[1, 2, 3, 4, 5, 6, 7, 8, 9, 10]"
            ]
          },
          "metadata": {},
          "execution_count": 71
        }
      ]
    },
    {
      "cell_type": "code",
      "source": [
        "# Python Program to Merge Two Lists and Sort it by using recursion .\n",
        "def merge_sort(list1,list2):\n",
        "    merged_list=list1+list2\n",
        "    merged_list.sort()\n",
        "    return merged_list\n",
        "list1 = [3, 7, 12, 18]\n",
        "list2 = [1, 5, 9, 15]\n",
        "sorted_list=merge_sort(list1,list2)\n",
        "print(\"The sorted merged list is:\", sorted_list)"
      ],
      "metadata": {
        "colab": {
          "base_uri": "https://localhost:8080/"
        },
        "id": "JPdNHpJvRwnk",
        "outputId": "7c6f1130-9302-4151-f0f2-90462cbc15e3"
      },
      "execution_count": 89,
      "outputs": [
        {
          "output_type": "stream",
          "name": "stdout",
          "text": [
            "The sorted merged list is: [1, 3, 5, 7, 9, 12, 15, 18]\n"
          ]
        }
      ]
    },
    {
      "cell_type": "code",
      "source": [
        "# Python Program to Remove Duplicates from a List.\n",
        "list=[1,1,2,2,3,3,4,4,5,5]\n",
        "distinct_list=set(list)\n",
        "distinct_list"
      ],
      "metadata": {
        "colab": {
          "base_uri": "https://localhost:8080/"
        },
        "id": "1dSF_q4KaQ8z",
        "outputId": "6f84fd34-fb94-49a9-b46d-6669439bc12a"
      },
      "execution_count": 102,
      "outputs": [
        {
          "output_type": "execute_result",
          "data": {
            "text/plain": [
              "{1, 2, 3, 4, 5}"
            ]
          },
          "metadata": {},
          "execution_count": 102
        }
      ]
    },
    {
      "cell_type": "code",
      "source": [
        "# Python Program to Swap the First and Last Element in a List.\n",
        "def swap_list(list):\n",
        "  if len(list)<2:\n",
        "    return list\n",
        "  list[0],list[-1]=list[-1],list[0]\n",
        "  return list\n",
        "list = [1, 2, 3, 4, 5]\n",
        "print(\"Original list:\", list)\n",
        "print(\"List after swapping first and last element:\", swap_list(list))"
      ],
      "metadata": {
        "colab": {
          "base_uri": "https://localhost:8080/"
        },
        "id": "yJe_JKAPTfYS",
        "outputId": "88732faa-f9b4-4bcd-bb42-e16dbe68c4fe"
      },
      "execution_count": 93,
      "outputs": [
        {
          "output_type": "stream",
          "name": "stdout",
          "text": [
            "Original list: [1, 2, 3, 4, 5]\n",
            "List after swapping first and last element: [5, 2, 3, 4, 1]\n"
          ]
        }
      ]
    },
    {
      "cell_type": "code",
      "source": [
        "# Python Program to Sort a List According to the Second Element in Sublist.\n",
        "def sort_list_third(list1):\n",
        "    return sorted(list1, key=lambda x: x[1])\n",
        "\n",
        "# Test the function\n",
        "my_list = [(1, 4), (2, 1), (3, 3), (4, 2)]\n",
        "print(\"Original list:\", my_list)\n",
        "print(\"Sorted list according to the second element in each sublist:\", sort_list_third(my_list))\n",
        "\n"
      ],
      "metadata": {
        "colab": {
          "base_uri": "https://localhost:8080/"
        },
        "id": "yktatFT8WowP",
        "outputId": "b0b05cf9-d567-43c1-f871-a5adee0ad3d3"
      },
      "execution_count": 100,
      "outputs": [
        {
          "output_type": "stream",
          "name": "stdout",
          "text": [
            "Original list: [(1, 4), (2, 1), (3, 3), (4, 2)]\n",
            "Sorted list according to the second element in each sublist: [(2, 1), (4, 2), (3, 3), (1, 4)]\n"
          ]
        }
      ]
    },
    {
      "cell_type": "code",
      "source": [
        "# Python Program to Return the Length of the Longest Word from the List of Words.\n",
        "def longest_word_length(words):\n",
        "  max_length=0\n",
        "  for word in words:\n",
        "    if len(word)> max_length:\n",
        "      max_length=len(word)\n",
        "  return(max_length)    \n",
        "word_list = ['apple', 'banana', 'cherry', 'dragonfruit', 'elderberry']\n",
        "print(longest_word_length(word_list))  "
      ],
      "metadata": {
        "colab": {
          "base_uri": "https://localhost:8080/"
        },
        "id": "U1AMl-cuX9hk",
        "outputId": "634364e8-944d-4105-d354-c8f1ed23cdd9"
      },
      "execution_count": 101,
      "outputs": [
        {
          "output_type": "stream",
          "name": "stdout",
          "text": [
            "11\n"
          ]
        }
      ]
    },
    {
      "cell_type": "code",
      "source": [
        "# Python Program to Find the Number Occurring Odd Number of Times in a List.\n",
        "def find_odd_occurrence(input_list):\n",
        "    result = 0\n",
        "    for num in input_list:\n",
        "        result ^= num\n",
        "    return result\n",
        "my_list = [1,1,1,2,3,2,3]\n",
        "print(find_odd_occurrence(my_list)) "
      ],
      "metadata": {
        "colab": {
          "base_uri": "https://localhost:8080/"
        },
        "id": "YA0XlH0_aCNS",
        "outputId": "3c8fc976-6c72-4413-835a-ce9baa8c87d5"
      },
      "execution_count": 109,
      "outputs": [
        {
          "output_type": "stream",
          "name": "stdout",
          "text": [
            "1\n"
          ]
        }
      ]
    },
    {
      "cell_type": "code",
      "source": [
        "# Python Program to Generate Random Numbers from 1 to 20 and Append Them to the List\n",
        "import random\n",
        "def generate_random_numbers(num):\n",
        "    list=[]\n",
        "    for i in range(num):\n",
        "      list.append(random.randint(1, 20))\n",
        "    return list\n",
        "random_numbers = generate_random_numbers(5)\n",
        "print(random_numbers)  "
      ],
      "metadata": {
        "colab": {
          "base_uri": "https://localhost:8080/"
        },
        "id": "hkDIVHUGeH-B",
        "outputId": "988c45da-1b3a-4e8b-d9fe-0aabda4c88b0"
      },
      "execution_count": 127,
      "outputs": [
        {
          "output_type": "stream",
          "name": "stdout",
          "text": [
            "[17, 14, 18, 2, 11]\n"
          ]
        }
      ]
    },
    {
      "cell_type": "code",
      "source": [
        "# Python Program to Remove the ith Occurrence of the Given Word in a List.\n",
        "def remove_ith_occurrence(input_list, word, i):\n",
        "    count = 0\n",
        "    for index, element in enumerate(input_list):\n",
        "        if element == word:\n",
        "            count += 1\n",
        "            if count == i:\n",
        "                del input_list[index]\n",
        "                break\n",
        "    return input_list\n",
        "my_list = ['apple', 'banana', 'cherry', 'banana', 'apple']\n",
        "print(remove_ith_occurrence(my_list, 'banana', 2))  \n",
        " "
      ],
      "metadata": {
        "colab": {
          "base_uri": "https://localhost:8080/"
        },
        "id": "LAt9I_BugaX6",
        "outputId": "2eb680a7-141b-4021-f4ed-544f4f4570a0"
      },
      "execution_count": 128,
      "outputs": [
        {
          "output_type": "stream",
          "name": "stdout",
          "text": [
            "['apple', 'banana', 'cherry', 'apple']\n"
          ]
        }
      ]
    },
    {
      "cell_type": "code",
      "source": [
        "# Python Program to Find the Cumulative Sum of a List.\n",
        "def cumulative_sum(input_list):\n",
        "    result=[]\n",
        "    cum_sum=0\n",
        "    for number in input_list:\n",
        "      cum_sum+=number\n",
        "      result.append(cum_sum)\n",
        "    return result\n",
        "my_list = [1, 2, 3, 4, 5]\n",
        "print(cumulative_sum(my_list)) "
      ],
      "metadata": {
        "colab": {
          "base_uri": "https://localhost:8080/"
        },
        "id": "xV4g2zkkhwWO",
        "outputId": "f765cc50-4d18-4fbe-be92-db0b8e671010"
      },
      "execution_count": 132,
      "outputs": [
        {
          "output_type": "stream",
          "name": "stdout",
          "text": [
            "[1, 3, 6, 10, 15]\n"
          ]
        }
      ]
    },
    {
      "cell_type": "code",
      "source": [
        "# Python Program to Find the Union of Two Lists.\n",
        "# def union_of_lists(list1,list2):\n",
        "#   union=list1\n",
        "#   for element in list2:\n",
        "#      if element not in union:\n",
        "#         union.append(element)\n",
        "#   return union\n",
        "# my_list1 = [1, 2, 3, 4]\n",
        "# my_list2 = [ 1,5, 6]\n",
        "# print(union_of_lists(my_list1, my_list2)) \n",
        "\n",
        "# alternate way\n",
        "def union_list(list1,list2):\n",
        "    for element in list2:\n",
        "       if element not in list1:\n",
        "          list1.append(element)\n",
        "    return list1\n",
        "my_list1 = [1, 2, 3, 4]\n",
        "my_list2 = [ 1,5, 6]\n",
        "print(union_list(my_list1, my_list2))"
      ],
      "metadata": {
        "colab": {
          "base_uri": "https://localhost:8080/"
        },
        "id": "qpNM51bOkIYP",
        "outputId": "450a9bc2-40a5-4aae-c87c-3dc0119b284e"
      },
      "execution_count": 141,
      "outputs": [
        {
          "output_type": "stream",
          "name": "stdout",
          "text": [
            "[1, 2, 3, 4, 5, 6]\n"
          ]
        }
      ]
    },
    {
      "cell_type": "code",
      "source": [
        "# Python Program to Find the Intersection of Two Lists.\n",
        "def intersection_list(list1,list2):\n",
        "  intersection=[]\n",
        "  for element in list1:\n",
        "      if element in list2 and element not in intersection:\n",
        "         intersection.append(element)\n",
        "  return intersection\n",
        "my_list1 = [1, 2, 3, 4]\n",
        "my_list2 = [3, 4, 5, 6]\n",
        "print(intersection_list(my_list1, my_list2))  \n"
      ],
      "metadata": {
        "colab": {
          "base_uri": "https://localhost:8080/"
        },
        "id": "8v-o0MC-neyY",
        "outputId": "62ddc388-7f27-4a90-873e-39cc884e79c8"
      },
      "execution_count": 150,
      "outputs": [
        {
          "output_type": "stream",
          "name": "stdout",
          "text": [
            "[3, 4]\n"
          ]
        }
      ]
    },
    {
      "cell_type": "code",
      "source": [
        "# Python Program to Create a List of Tuples with the First Element as the Number and Second Element as the Square of the Number.\n",
        "numbers=[1,2,3,4,5]\n",
        "squares=[(num, num**2) for num in numbers]\n",
        "print(squares)"
      ],
      "metadata": {
        "colab": {
          "base_uri": "https://localhost:8080/"
        },
        "id": "9vOcb4Qyscd1",
        "outputId": "98919cd0-20ad-488a-b0c4-276a58625144"
      },
      "execution_count": 153,
      "outputs": [
        {
          "output_type": "stream",
          "name": "stdout",
          "text": [
            "[(1, 1), (2, 4), (3, 9), (4, 16), (5, 25)]\n"
          ]
        }
      ]
    },
    {
      "cell_type": "code",
      "source": [
        "# Python Program to Sort a List of Tuples in Increasing Order by the Last Element in Each Tuple.\n",
        "def sort_tuples_by_last_element(lst):\n",
        "   return sorted(lst, key=lambda x: x[-1])\n",
        "lst = [(1, 3), (2, 2), (3, 1)]\n",
        "new_lst = sort_tuples_by_last_element(lst)\n",
        "print(new_lst) "
      ],
      "metadata": {
        "colab": {
          "base_uri": "https://localhost:8080/"
        },
        "id": "8f3dW0W75ZvS",
        "outputId": "9b6bda09-6fd2-413b-c296-30040b14bb2e"
      },
      "execution_count": 154,
      "outputs": [
        {
          "output_type": "stream",
          "name": "stdout",
          "text": [
            "[(3, 1), (2, 2), (1, 3)]\n"
          ]
        }
      ]
    },
    {
      "cell_type": "code",
      "source": [
        "# Python Program to Create Dictionary from an Object.\n",
        "class A(object):  \n",
        "     def __init__(self):  \n",
        "         self.A=1  \n",
        "         self.B=2  \n",
        "obj=A()  \n",
        "print(obj.__dict__)"
      ],
      "metadata": {
        "colab": {
          "base_uri": "https://localhost:8080/"
        },
        "id": "ZB8xEKLv5s_Q",
        "outputId": "58fbcd43-a78e-4337-d6a3-345301d5bcfa"
      },
      "execution_count": 156,
      "outputs": [
        {
          "output_type": "stream",
          "name": "stdout",
          "text": [
            "{'A': 1, 'B': 2}\n"
          ]
        }
      ]
    },
    {
      "cell_type": "code",
      "source": [
        "# Python Program to Check if a Key Exists in a Dictionary or Not.\n",
        "dict={'A':1,'B':2,'C':3}\n",
        "key=input(\"Enter key to check:\")\n",
        "if key in dict.keys():\n",
        "      print(\"Key is present and value of the key is:\")\n",
        "      print(dict[key])\n",
        "else:\n",
        "      print(\"Key isn't present!\")"
      ],
      "metadata": {
        "colab": {
          "base_uri": "https://localhost:8080/"
        },
        "id": "gFccVEeX6-JC",
        "outputId": "6c8c90ef-8aff-484b-b83f-2559087d1eb9"
      },
      "execution_count": 161,
      "outputs": [
        {
          "output_type": "stream",
          "name": "stdout",
          "text": [
            "Enter key to check:A\n",
            "Key is present and value of the key is:\n",
            "1\n"
          ]
        }
      ]
    },
    {
      "cell_type": "code",
      "source": [
        "# Python Program to Add a Key-Value Pair to the Dictionary.\n",
        "def add_key_value_to_dict (d,key,value):\n",
        "  d[key]=value\n",
        "  return d\n",
        "my_dict={'A':1,'B':2}\n",
        "key='c'\n",
        "value=3\n",
        "updated_dict=add_key_value_to_dict(my_dict,key,value)\n",
        "print(updated_dict)"
      ],
      "metadata": {
        "colab": {
          "base_uri": "https://localhost:8080/"
        },
        "id": "naKvMV7B7oxu",
        "outputId": "ca3419f8-79d0-4802-945c-a2c5f879eb4f"
      },
      "execution_count": 163,
      "outputs": [
        {
          "output_type": "stream",
          "name": "stdout",
          "text": [
            "{'A': 1, 'B': 2, 'c': 3}\n"
          ]
        }
      ]
    },
    {
      "cell_type": "code",
      "source": [
        "# Python Program to Find the Sum of All the Items in a Dictionary.\n",
        "def sum_all_items_in_the_dict(d):\n",
        "  return sum(d.values())\n",
        "my_dict = {\"a\": 1, \"b\": 2, \"c\": 3}\n",
        "sum_of_items = sum_all_items_in_the_dict(my_dict) \n",
        "print(sum_of_items) "
      ],
      "metadata": {
        "colab": {
          "base_uri": "https://localhost:8080/"
        },
        "id": "6d-GHjZq9NQ7",
        "outputId": "fcc51040-4f57-4016-a727-ee9c6a1188ac"
      },
      "execution_count": 166,
      "outputs": [
        {
          "output_type": "stream",
          "name": "stdout",
          "text": [
            "6\n"
          ]
        }
      ]
    },
    {
      "cell_type": "code",
      "source": [
        "# Python Program to Multiply All the Items in a Dictionary.\n",
        "def multiply(d):\n",
        "    product = 1\n",
        "    for value in d.values():\n",
        "        product *= value\n",
        "    return product\n",
        "my_dict={'a':1,'b':2,'c':3}\n",
        "multiply_of_item=multiply(my_dict)\n",
        "print(multiply_of_item)"
      ],
      "metadata": {
        "colab": {
          "base_uri": "https://localhost:8080/"
        },
        "id": "UnHATxWN-lyn",
        "outputId": "953f5a00-c1e5-48a9-ace4-fe272d48ce08"
      },
      "execution_count": 170,
      "outputs": [
        {
          "output_type": "stream",
          "name": "stdout",
          "text": [
            "6\n"
          ]
        }
      ]
    },
    {
      "cell_type": "code",
      "source": [
        "# Python Program to Remove a Key from a Dictionary.\n",
        "def remove_key(dictionary,key):\n",
        "     if key in dictionary:\n",
        "        del dictionary[key]\n",
        "     return dictionary\n",
        "my_dict = {\"a\": 1, \"b\": 2, \"c\": 3}\n",
        "key_to_remove = \"c\"\n",
        "updated_dict = remove_key(my_dict, key_to_remove)\n",
        "print(updated_dict) "
      ],
      "metadata": {
        "colab": {
          "base_uri": "https://localhost:8080/"
        },
        "id": "wAZKDEPPABGq",
        "outputId": "4f1fcc7f-8673-47f0-d3a1-a62be1bd3fcc"
      },
      "execution_count": 173,
      "outputs": [
        {
          "output_type": "stream",
          "name": "stdout",
          "text": [
            "{'a': 1, 'b': 2}\n"
          ]
        }
      ]
    },
    {
      "cell_type": "code",
      "source": [
        "# Python Program to Concatenate Two Dictionaries.\n",
        "def concatenate (d1,d2):\n",
        "    concatenated_dict = d1.copy()\n",
        "    concatenated_dict.update(d2)\n",
        "    return concatenated_dict\n",
        "\n",
        "dict1 = {\"a\": 1, \"b\": 2}\n",
        "dict2 = {\"c\": 3, \"d\": 4}\n",
        "concatenated_dict = concatenate(dict1, dict2)\n",
        "concatenated_dict"
      ],
      "metadata": {
        "colab": {
          "base_uri": "https://localhost:8080/"
        },
        "id": "-2CKJhESBVbJ",
        "outputId": "b843401f-5e6d-4d1e-9321-505f699dbfb8"
      },
      "execution_count": 178,
      "outputs": [
        {
          "output_type": "execute_result",
          "data": {
            "text/plain": [
              "{'a': 1, 'b': 2, 'c': 3, 'd': 4}"
            ]
          },
          "metadata": {},
          "execution_count": 178
        }
      ]
    },
    {
      "cell_type": "code",
      "source": [
        "# Python Program to Create a Dictionary with Key as First Character and Value as Words Starting with that Character.\n",
        "def create_dict(words):\n",
        "    my_dict = {}\n",
        "    for word in words:\n",
        "        if word[0] in my_dict:\n",
        "            my_dict[word[0]].append(word)\n",
        "        else:\n",
        "            my_dict[word[0]] = [word]\n",
        "    return my_dict\n",
        "word_list = [\"apple\", \"banana\", \"cherry\", \"date\", \"elderberry\", \"fig\", \"grape\"]\n",
        "my_dict = create_dict(word_list)\n",
        "print(my_dict)"
      ],
      "metadata": {
        "colab": {
          "base_uri": "https://localhost:8080/"
        },
        "id": "sptOcLLPFj0x",
        "outputId": "02b4e1ca-e3e8-4b5f-ca94-55cdcb8b0cd1"
      },
      "execution_count": 183,
      "outputs": [
        {
          "output_type": "stream",
          "name": "stdout",
          "text": [
            "{'a': ['apple'], 'b': ['banana'], 'c': ['cherry'], 'd': ['date'], 'e': ['elderberry'], 'f': ['fig'], 'g': ['grape']}\n"
          ]
        }
      ]
    }
  ]
}