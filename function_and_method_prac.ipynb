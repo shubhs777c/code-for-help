{
  "nbformat": 4,
  "nbformat_minor": 0,
  "metadata": {
    "colab": {
      "provenance": [],
      "include_colab_link": true
    },
    "kernelspec": {
      "name": "python3",
      "display_name": "Python 3"
    },
    "language_info": {
      "name": "python"
    }
  },
  "cells": [
    {
      "cell_type": "markdown",
      "metadata": {
        "id": "view-in-github",
        "colab_type": "text"
      },
      "source": [
        "<a href=\"https://colab.research.google.com/github/shubhs777c/python-practice/blob/main/function_and_method_prac.ipynb\" target=\"_parent\"><img src=\"https://colab.research.google.com/assets/colab-badge.svg\" alt=\"Open In Colab\"/></a>"
      ]
    },
    {
      "cell_type": "code",
      "source": [
        "# Write a Python function that takes a list and returns a new list with unique elements of the first list.\n",
        "def new_list(input_list):\n",
        "    new_list = []\n",
        "    for item in input_list:\n",
        "        if item not in new_list:\n",
        "            new_list.append(item)\n",
        "    return new_list\n",
        "input_list = [1, 2, 3, 3, 4, 4, 5, 5, 6]\n",
        "new_list = new_list(input_list)\n",
        "print(new_list)"
      ],
      "metadata": {
        "id": "R5pq1C9LGe1y",
        "colab": {
          "base_uri": "https://localhost:8080/"
        },
        "outputId": "9e17da8d-114d-4829-f40f-70966c755b93"
      },
      "execution_count": 8,
      "outputs": [
        {
          "output_type": "stream",
          "name": "stdout",
          "text": [
            "[1, 2, 3, 4, 5, 6]\n"
          ]
        }
      ]
    },
    {
      "cell_type": "markdown",
      "source": [
        "### **`Problem-2:`** Write a Python function that accepts a hyphen-separated sequence of words as parameter and returns the words in a hyphen-separated sequence after sorting them alphabetically.\n",
        "\n",
        "**Example 1:**\n",
        "\n",
        "Input:\n",
        "```bash\n",
        "green-red-yellow-black-white\n",
        "```\n",
        "\n",
        "Output:\n",
        "```bash\n",
        "black-green-red-white-yellow\n",
        "```"
      ],
      "metadata": {
        "id": "UxQ_VoyJGwHj"
      }
    },
    {
      "cell_type": "code",
      "source": [
        "#  Write a Python function that accepts a hyphen-separated sequence of words as parameter and \n",
        "# returns the words in a hyphen-separated sequence after sorting them alphabetically.\n",
        "\n",
        "def sort_words(input_string):\n",
        "    words = input_string.split(\"-\")\n",
        "    sorted_words = sorted(words)\n",
        "    sorted_string = \"-\".join(sorted_words)\n",
        "    return sorted_string\n",
        "input_string = 'my -name- is -shubham'\n",
        "sorted_string = sort_words(input_string)\n",
        "print(sorted_string)"
      ],
      "metadata": {
        "id": "AAts2m5zGwiQ",
        "colab": {
          "base_uri": "https://localhost:8080/"
        },
        "outputId": "0e3685e1-1374-491a-fbb2-2989ec818c09"
      },
      "execution_count": 10,
      "outputs": [
        {
          "output_type": "stream",
          "name": "stdout",
          "text": [
            " is -my -name-shubham\n"
          ]
        }
      ]
    },
    {
      "cell_type": "markdown",
      "source": [
        "### **`Problem 3:`** Write a Python function that accepts a string and calculate the number of upper case letters and lower case letters.\n",
        "\n",
        "```\n",
        "Sample String : 'CampusX is an Online Mentorship Program fOr EnginEering studentS.'\n",
        "Expected Output :\n",
        "No. of Upper case characters :  9\n",
        "No. of Lower case Characters :  47\n",
        "```"
      ],
      "metadata": {
        "id": "IRGH62S7Gx_n"
      }
    },
    {
      "cell_type": "code",
      "source": [
        "# Write a Python function that accepts a string and calculate the number of upper case letters and lower case letters.\n",
        "def upper_lower(input_string):\n",
        "    upper_case=0\n",
        "    lower_case=0\n",
        "    for word in input_string:\n",
        "        if word.isupper():\n",
        "            upper_case+=1\n",
        "        elif word.islower():\n",
        "            lower_case+=1\n",
        "    return upper_case,lower_case\n",
        "input_string = \"ThiS iS a MiXeD CaSe StrinG\"\n",
        "upper_case,lower_case =upper_lower(input_string)\n",
        "print(\"Number of uppercase letters:\",upper_case)\n",
        "print(\"Number of lowercase letters:\",lower_case)"
      ],
      "metadata": {
        "id": "OaUrD8vVG5o8",
        "colab": {
          "base_uri": "https://localhost:8080/"
        },
        "outputId": "fdee3226-538a-4df6-bccd-fce5484fbee9"
      },
      "execution_count": 17,
      "outputs": [
        {
          "output_type": "stream",
          "name": "stdout",
          "text": [
            "Number of uppercase letters: 10\n",
            "Number of lowercase letters: 12\n"
          ]
        }
      ]
    },
    {
      "cell_type": "markdown",
      "source": [
        "### **`Problem 4:`** Write a Python program to print the even numbers from a given list.\n",
        "```\n",
        "Sample List : [1, 2, 3, 4, 5, 6, 7, 8, 9]\n",
        "Expected Result : [2, 4, 6, 8]\n",
        "```"
      ],
      "metadata": {
        "id": "V1BFFdYQG7Sn"
      }
    },
    {
      "cell_type": "code",
      "source": [
        "# Write a Python program to print the even numbers from a given list.\n",
        "def even_numbers(input_list):\n",
        "  answer_list=[]\n",
        "  for i in input_list:\n",
        "     if i%2==0:\n",
        "         answer_list.append(i)\n",
        "  return answer_list\n",
        "input_list= [1, 2, 3, 4, 5, 6, 7, 8, 9]\n",
        "answer_list=even_numbers(input_list)\n",
        "print(answer_list)"
      ],
      "metadata": {
        "id": "VvAReLoDG_Z3",
        "colab": {
          "base_uri": "https://localhost:8080/"
        },
        "outputId": "296181ed-132b-4a85-a3bf-d06e8cdfa1de"
      },
      "execution_count": 29,
      "outputs": [
        {
          "output_type": "stream",
          "name": "stdout",
          "text": [
            "[2, 4, 6, 8]\n"
          ]
        }
      ]
    },
    {
      "cell_type": "markdown",
      "source": [
        "### **`Problem 5:`** Write a Python function to check whether a number is perfect or not.\n",
        "\n",
        "A Perfect number is a number that is half the sum of all of its positive divisors (including itself).\n",
        "\n",
        "Example : \n",
        "\n",
        "```\n",
        "The first perfect number is 6, because 1, 2, and 3 are its proper positive divisors, and 1 + 2 + 3 = 6. \n",
        "Equivalently, the number 6 is equal to half the sum of all its positive divisors: ( 1 + 2 + 3 + 6 ) / 2 = 6. \n",
        "\n",
        "The next perfect number is 28 = 1 + 2 + 4 + 7 + 14. This is followed by the perfect numbers 496 and 8128.\n",
        "```\n"
      ],
      "metadata": {
        "id": "qrK39Gn-HHb4"
      }
    },
    {
      "cell_type": "code",
      "source": [
        "#  Write a Python function to check whether a number is perfect or not.\n",
        "def is_perfect_number(num):\n",
        "    divisors=[]\n",
        "    for i in range (1,num):\n",
        "         if num % i==0:\n",
        "             divisors.append(i)\n",
        "    if sum(divisors)==num:\n",
        "        return True\n",
        "    else:\n",
        "        return False\n",
        "num =6\n",
        "if is_perfect_number(num):\n",
        "    print(num, \"is a perfect number\")\n",
        "else:\n",
        "    print(num, \"is not a perfect number\")"
      ],
      "metadata": {
        "id": "P-OI7H78HICs",
        "colab": {
          "base_uri": "https://localhost:8080/"
        },
        "outputId": "df505c39-e3bb-4d66-9772-be06146517da"
      },
      "execution_count": 31,
      "outputs": [
        {
          "output_type": "stream",
          "name": "stdout",
          "text": [
            "6 is a perfect number\n"
          ]
        }
      ]
    },
    {
      "cell_type": "markdown",
      "source": [
        "### **`Problem-6:`** Write a Python function to concatenate any no of dictionaries to create a new one.\n",
        "\n",
        "```\n",
        "Sample Dictionary :\n",
        "dic1={1:10, 2:20}\n",
        "dic2={3:30, 4:40}\n",
        "dic3={5:50,6:60}\n",
        "Expected Result : {1: 10, 2: 20, 3: 30, 4: 40, 5: 50, 6: 60}\n",
        "```"
      ],
      "metadata": {
        "id": "oZdpcG77HO-6"
      }
    },
    {
      "cell_type": "code",
      "source": [
        "# Write a Python function to concatenate any no of dictionaries to create a new one.\n",
        "def concat_dict(*dict):\n",
        "   new_dict={}\n",
        "   for i in dict:\n",
        "        new_dict.update(dict)\n",
        "   return new_dict\n",
        "dic1={1:10, 2:20}\n",
        "dic2={3:30, 4:40}\n",
        "dic3={5:50,6:60} \n",
        "new_dict = concat_dict(dic1, dic2, dic3)\n",
        "print(new_list)"
      ],
      "metadata": {
        "id": "LQgfAY4ZHPhj",
        "colab": {
          "base_uri": "https://localhost:8080/"
        },
        "outputId": "acc1e654-5442-40b8-df27-78cd9d851fe3"
      },
      "execution_count": 38,
      "outputs": [
        {
          "output_type": "stream",
          "name": "stdout",
          "text": [
            "[1, 2, 3, 4, 5, 6]\n"
          ]
        }
      ]
    },
    {
      "cell_type": "markdown",
      "source": [
        "`Problem-7` Write a python function that accepts a string as input and returns the word with most occurence.\n",
        "\n",
        "```\n",
        "Input:\n",
        "hello how are you i am fine thank you\n",
        "```\n",
        "\n",
        "```\n",
        "Output\n",
        "you -> 2\n",
        "```"
      ],
      "metadata": {
        "id": "jQ6SzbCkHRd0"
      }
    },
    {
      "cell_type": "markdown",
      "source": [
        "`Problem-9` Write a python function that accepts a list of 2D co-ordinates and a query point, and then finds the the co-ordinate which is closest in terms of distance from the query point.\n",
        "\n",
        "```\n",
        "List of Coordinates\n",
        "[(1,1),(2,2),(3,3),(4,4)]\n",
        "Query Point\n",
        "(0,0)\n",
        "```\n",
        "\n",
        "```\n",
        "Output\n",
        "Nearest to (0,0) is (1,1)\n",
        "```"
      ],
      "metadata": {
        "id": "1P2-rbgXKE53"
      }
    },
    {
      "cell_type": "code",
      "source": [
        "# Write a python function that accepts a list of 2D co-ordinates and a query point, \n",
        "# and then finds the the co-ordinate which is closest in terms of distance from the query point.\n",
        "import math\n",
        "\n",
        "def find_closest_point(coordinate_list, query_point):\n",
        "    \n",
        "    closest_point = None\n",
        "    closest_distance = math.infinity\n",
        "\n",
        "    \n",
        "    for coordinate in coordinate_list:\n",
        "        \n",
        "        distance = math.sqrt((coordinate[0] - query_point[0])**2 + (coordinate[1] - query_point[1])**2)\n",
        "\n",
        "        if distance < closest_distance:\n",
        "            closest_point = coordinate\n",
        "            closest_distance = distance\n",
        "\n",
        "   \n",
        "    return closest_point\n",
        "coordinate_list = [(1,1),(2,2),(3,3),(4,4)]\n",
        "query_point = (3,4)\n",
        "closest_point = find_closest_point(coordinate_list, query_point)\n",
        "print(closest_point)"
      ],
      "metadata": {
        "id": "zjn7vSTIJ81G",
        "colab": {
          "base_uri": "https://localhost:8080/"
        },
        "outputId": "eddf4fc0-06c6-4e1e-bcdc-d3e82854719b"
      },
      "execution_count": 44,
      "outputs": [
        {
          "output_type": "stream",
          "name": "stdout",
          "text": [
            "(3, 3)\n"
          ]
        }
      ]
    },
    {
      "cell_type": "markdown",
      "source": [
        "`Problem-10`:Write a python program that receives a list of strings and performs bag of word operation on those strings\n",
        "\n",
        "https://en.wikipedia.org/wiki/Bag-of-words_model"
      ],
      "metadata": {
        "id": "i-B6igmyK9hB"
      }
    },
    {
      "cell_type": "code",
      "source": [
        "# Write a python program that receives a list of strings and performs bag of word operation on those strings.\n",
        "def bag_of_words(string_list):\n",
        "    \n",
        "    word_counts = {}\n",
        "\n",
        "    \n",
        "    for string in string_list:\n",
        "        \n",
        "        words = string.split()\n",
        "\n",
        "        \n",
        "        for word in words:\n",
        "            \n",
        "            if word in word_counts:\n",
        "                word_counts[word] += 1\n",
        "            \n",
        "            else:\n",
        "                word_counts[word] = 1\n",
        "\n",
        "   \n",
        "    return word_counts\n",
        "string_list = [\"i know a guy who know a guys\"]\n",
        "word_counts = bag_of_words(string_list)\n",
        "print(word_counts)"
      ],
      "metadata": {
        "id": "N2l1_AWULT-z",
        "colab": {
          "base_uri": "https://localhost:8080/"
        },
        "outputId": "a89a7684-b211-4eaf-c4a5-eccb9c51b2c6"
      },
      "execution_count": 56,
      "outputs": [
        {
          "output_type": "stream",
          "name": "stdout",
          "text": [
            "{'i': 1, 'know': 2, 'a': 2, 'guy': 1, 'who': 1, 'guys': 1}\n"
          ]
        }
      ]
    },
    {
      "cell_type": "markdown",
      "source": [
        "###`Problem 11:` Write a Python program to add three given lists using Python map and lambda."
      ],
      "metadata": {
        "id": "dHTRKb-DqMLw"
      }
    },
    {
      "cell_type": "code",
      "source": [
        "# Write a Python program to create a list containing the power of said number in bases raised to the corresponding number in the index using Python map\n",
        "num = 3\n",
        "n = 7\n",
        "\n",
        "\n",
        "# Define a lambda function that raises a number to a power\n",
        "power = lambda x, y: x ** y\n",
        "\n",
        "# Use map to apply the lambda function to each corresponding index and base\n",
        "result = tuple(map(power, [num]*n, range(n)))\n",
        "\n",
        "# Print the result\n",
        "print(result)\n"
      ],
      "metadata": {
        "id": "gG3Dc6N3qbvN",
        "colab": {
          "base_uri": "https://localhost:8080/"
        },
        "outputId": "8df06c1d-4d8e-4a98-a48a-8c3c7ff3e14c"
      },
      "execution_count": 66,
      "outputs": [
        {
          "output_type": "stream",
          "name": "stdout",
          "text": [
            "(1, 3, 9, 27, 81, 243, 729)\n"
          ]
        }
      ]
    },
    {
      "cell_type": "markdown",
      "source": [
        "###`Problem-13` Using filter() and list() functions and .lower() method filter all the vowels in a given string.\n",
        "\n"
      ],
      "metadata": {
        "id": "G26SYq6vqdLN"
      }
    },
    {
      "cell_type": "code",
      "source": [
        "# Using filter() and list() functions and .lower() method filter all the vowels in a given string. \n",
        "string = \"my name is umbrella\"\n",
        "\n",
        "# vowels = list(filter(lambda x: x.lower() in ['a', 'e', 'i', 'o', 'u'], string))\n",
        "vowels = tuple(filter(lambda x: x.lower() in ['a','e','i','o','u'],string))\n",
        "print(vowels)"
      ],
      "metadata": {
        "id": "zurga3DIqmEx",
        "colab": {
          "base_uri": "https://localhost:8080/"
        },
        "outputId": "d2a13d57-b4b6-48d0-8f72-eb97f54bbed9"
      },
      "execution_count": 71,
      "outputs": [
        {
          "output_type": "stream",
          "name": "stdout",
          "text": [
            "('a', 'e', 'i', 'u', 'e', 'a')\n"
          ]
        }
      ]
    },
    {
      "cell_type": "markdown",
      "source": [
        "`Problem-14`: Use reduce to convert a 2D list to 1D"
      ],
      "metadata": {
        "id": "uQrsunZSqoYu"
      }
    },
    {
      "cell_type": "code",
      "source": [
        "# Use reduce to convert a 2D list to 1D.\n",
        "from functools import reduce\n",
        "list_2d = [[1, 2], [3, 4], [5, 6]]\n",
        "list_1d = reduce(lambda x ,y : x+y,list_2d)\n",
        "print(list_1d)"
      ],
      "metadata": {
        "id": "E1YUwnfgqnka",
        "colab": {
          "base_uri": "https://localhost:8080/"
        },
        "outputId": "04f2e88f-2d56-491b-c5f3-059fe93e507a"
      },
      "execution_count": 73,
      "outputs": [
        {
          "output_type": "stream",
          "name": "stdout",
          "text": [
            "[1, 2, 3, 4, 5, 6]\n"
          ]
        }
      ]
    },
    {
      "cell_type": "markdown",
      "source": [
        "`Problem 15`- A dictionary contains following information about 5 employees:\n",
        "- First name\n",
        "- Last name\n",
        "- Age\n",
        "- Grade(Skilled,Semi-skilled,Highly skilled)<br>\n",
        "Write a program using map/filter/reduce to a list of employees(first name + last name) who are highly skilled"
      ],
      "metadata": {
        "id": "8-DLQEawt-_t"
      }
    },
    {
      "cell_type": "code",
      "source": [
        "# Write code here\n",
        "employees = [\n",
        "    {\n",
        "        'fname':'Nitish',\n",
        "        'lname':'Singh',\n",
        "        'age' : 33,\n",
        "        'grade':'skilled'\n",
        "    },\n",
        "    {\n",
        "        'fname':'Ankit',\n",
        "        'lname':'Verma',\n",
        "        'age' : 34,\n",
        "        'grade':'semi-skilled'\n",
        "    },\n",
        "    {\n",
        "        'fname':'Neha',\n",
        "        'lname':'Singh',\n",
        "        'age' : 35,\n",
        "        'grade':'highly-skilled'\n",
        "    },\n",
        "    {\n",
        "        'fname':'Anurag',\n",
        "        'lname':'Kumar',\n",
        "        'age' : 30,\n",
        "        'grade':'skilled'\n",
        "    },\n",
        "    {\n",
        "        'fname':'Abhinav',\n",
        "        'lname':'Sharma',\n",
        "        'age' : 37,\n",
        "        'grade':'highly-skilled'\n",
        "    }\n",
        "    \n",
        "]"
      ],
      "metadata": {
        "id": "OLvptttLs6OU"
      },
      "execution_count": 75,
      "outputs": []
    },
    {
      "cell_type": "code",
      "source": [
        "tuple(map(lambda x:x['fname'] + ' ' + x['lname'],tuple(filter(lambda x:True if x['grade'] == 'highly-skilled' else False,employees))))"
      ],
      "metadata": {
        "id": "vLX0FAQkui3y",
        "colab": {
          "base_uri": "https://localhost:8080/"
        },
        "outputId": "4ec45e50-2c59-47a8-d037-0b103c606659"
      },
      "execution_count": 78,
      "outputs": [
        {
          "output_type": "execute_result",
          "data": {
            "text/plain": [
              "('Neha Singh', 'Abhinav Sharma')"
            ]
          },
          "metadata": {},
          "execution_count": 78
        }
      ]
    }
  ]
}