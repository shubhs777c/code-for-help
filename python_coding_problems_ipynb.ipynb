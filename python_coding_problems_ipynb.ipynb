{
  "nbformat": 4,
  "nbformat_minor": 0,
  "metadata": {
    "colab": {
      "provenance": [],
      "authorship_tag": "ABX9TyPvHSNo9lNz7F9YPsu3jndl",
      "include_colab_link": true
    },
    "kernelspec": {
      "name": "python3",
      "display_name": "Python 3"
    },
    "language_info": {
      "name": "python"
    }
  },
  "cells": [
    {
      "cell_type": "markdown",
      "metadata": {
        "id": "view-in-github",
        "colab_type": "text"
      },
      "source": [
        "<a href=\"https://colab.research.google.com/github/shubhs777c/python-practice/blob/main/python_coding_problems_ipynb.ipynb\" target=\"_parent\"><img src=\"https://colab.research.google.com/assets/colab-badge.svg\" alt=\"Open In Colab\"/></a>"
      ]
    },
    {
      "cell_type": "markdown",
      "source": [
        "# **FOR LOOP and while loop**"
      ],
      "metadata": {
        "id": "jSZw1afdfRqX"
      }
    },
    {
      "cell_type": "code",
      "source": [
        "# Printing numbers from 1 to 10 using a for loop.\n",
        "numbers=[]\n",
        "for i in range(1, 10):\n",
        "    numbers.append(i)\n",
        "print(numbers)  \n",
        "\n",
        "\n",
        "# Printing numbers from 1 to 5 using a while loop:\n",
        "i=1\n",
        "while i<=5:\n",
        "     print(i)\n",
        "     i+=1"
      ],
      "metadata": {
        "colab": {
          "base_uri": "https://localhost:8080/"
        },
        "id": "T1Uw3Q10fRRc",
        "outputId": "bf8322af-4b2b-47f1-8a56-24a2fb64daba"
      },
      "execution_count": null,
      "outputs": [
        {
          "output_type": "stream",
          "name": "stdout",
          "text": [
            "[1, 2, 3, 4, 5, 6, 7, 8, 9]\n",
            "1\n",
            "2\n",
            "3\n",
            "4\n",
            "5\n"
          ]
        }
      ]
    },
    {
      "cell_type": "code",
      "execution_count": null,
      "metadata": {
        "colab": {
          "base_uri": "https://localhost:8080/"
        },
        "id": "fKL0RQinfH54",
        "outputId": "7a3ac386-147b-4cc6-ad2a-73995142fa89"
      },
      "outputs": [
        {
          "output_type": "stream",
          "name": "stdout",
          "text": [
            "[2, 4, 6, 8, 10, 12, 14, 16, 18, 20, 22, 24, 26, 28, 30, 32, 34, 36, 38, 40, 42, 44, 46, 48]\n",
            "[2, 4, 6, 8, 10]\n",
            "[2, 4, 6, 8, 10, 12, 14, 16, 18, 20, 22, 24, 26, 28]\n"
          ]
        }
      ],
      "source": [
        "# Printing the even numbers from 1 to 50 using a for loop:\n",
        "even=[]\n",
        "for i in range(2, 50, 2):\n",
        "    even.append(i)\n",
        "print(even)\n",
        "\n",
        "\n",
        "# Printing the even numbers from 1 to 10 using a while loop:\n",
        "even_list=[]\n",
        "i = 2\n",
        "while i <= 10:\n",
        "     even_list.append(i)\n",
        "     i += 2\n",
        "print(even_list)\n",
        "\n",
        "# using lambda function\n",
        "even_lambda = lambda x: x if x%2 == 0 else None\n",
        "\n",
        "even_list = []\n",
        "for i in range(1, 30):\n",
        "    even_number= even_lambda(i)\n",
        "    if even_number:\n",
        "        even_list.append(even_number)\n",
        "\n",
        "print(even_list)"
      ]
    },
    {
      "cell_type": "code",
      "source": [
        "# Printing the sum of the first n natural numbers using a for loop:\n",
        "natural_number=20\n",
        "sum=0\n",
        "for i in range(1,natural_number+1):\n",
        "    sum+=i\n",
        "print(\"sum of first\",natural_number,\"natural numbers\",sum)\n",
        "\n",
        "\n",
        "# Printing the sum of the first n natural numbers using a while loop:\n",
        "number=10\n",
        "sum=0\n",
        "i=1\n",
        "while i<=number:\n",
        "    sum+=i\n",
        "    i+=1\n",
        "print(\"Sum of first\", number, \"natural numbers is\", sum) "
      ],
      "metadata": {
        "colab": {
          "base_uri": "https://localhost:8080/"
        },
        "id": "D_35Tr3qiewf",
        "outputId": "f06d9317-f9cf-4cb9-bd8c-903fd7860857"
      },
      "execution_count": null,
      "outputs": [
        {
          "output_type": "stream",
          "name": "stdout",
          "text": [
            "sum of first 20 natural numbers 210\n",
            "Sum of first 10 natural numbers is 55\n"
          ]
        }
      ]
    },
    {
      "cell_type": "code",
      "source": [
        "# Printing the multiplication table of a number using a for loop:\n",
        "number=7\n",
        "for i in range (1,7):\n",
        "    print(number,\"x\",i,\"=\",number*i)\n",
        "\n",
        "print(\"**************************************************************************\")\n",
        "\n",
        "# Printing the multiplication table of a number using a while loop:\n",
        "num = 5\n",
        "i = 1\n",
        "while i <= 7:\n",
        "    print(num, \"x\", i, \"=\", num*i)\n",
        "    i += 1"
      ],
      "metadata": {
        "colab": {
          "base_uri": "https://localhost:8080/"
        },
        "id": "0FzUn1dCjh-V",
        "outputId": "3a3b089b-fd67-41b7-963e-05c3b39bf543"
      },
      "execution_count": null,
      "outputs": [
        {
          "output_type": "stream",
          "name": "stdout",
          "text": [
            "7 x 1 = 7\n",
            "7 x 2 = 14\n",
            "7 x 3 = 21\n",
            "7 x 4 = 28\n",
            "7 x 5 = 35\n",
            "7 x 6 = 42\n",
            "**************************************************************************\n",
            "5 x 1 = 5\n",
            "5 x 2 = 10\n",
            "5 x 3 = 15\n",
            "5 x 4 = 20\n",
            "5 x 5 = 25\n",
            "5 x 6 = 30\n",
            "5 x 7 = 35\n"
          ]
        }
      ]
    },
    {
      "cell_type": "code",
      "source": [
        "# Printing the Fibonacci series up to n terms using a for loop:\n",
        "number= 10\n",
        "a, b = 0, 1\n",
        "for i in range(number):\n",
        "   print(a)\n",
        "   a, b = b, a+b\n",
        "\n",
        "print(\"***********************************************\")\n",
        "\n",
        " # Printing the Fibonacci series up to n terms using a while loop:\n",
        "number = 5\n",
        "a, b = 0, 1\n",
        "i = 0\n",
        "while i < number:\n",
        "    print(a)\n",
        "    a, b = b, a+b\n",
        "    i += 1   "
      ],
      "metadata": {
        "colab": {
          "base_uri": "https://localhost:8080/"
        },
        "id": "6hV5t6oZkMnE",
        "outputId": "b14f4e09-7acf-4244-ae69-cc591d3383eb"
      },
      "execution_count": null,
      "outputs": [
        {
          "output_type": "stream",
          "name": "stdout",
          "text": [
            "0\n",
            "1\n",
            "1\n",
            "2\n",
            "3\n",
            "5\n",
            "8\n",
            "13\n",
            "21\n",
            "34\n",
            "***********************************************\n",
            "0\n",
            "1\n",
            "1\n",
            "2\n",
            "3\n"
          ]
        }
      ]
    },
    {
      "cell_type": "code",
      "source": [
        "# Printing the factorial of a number using a for loop:\n",
        "number=5\n",
        "fact=1\n",
        "for i in range(1,number+1):\n",
        "    fact*=i\n",
        "print(\"factorial of\",number,\"is\",fact)\n",
        "\n",
        "\n",
        "# Printing the factorial of a number using a while loop.\n",
        "number=5\n",
        "fact=1\n",
        "i==1\n",
        "while i<=number:\n",
        "    fact*=i\n",
        "    i+=1\n",
        "print(\"factorial of\",number ,\"is\",fact)"
      ],
      "metadata": {
        "colab": {
          "base_uri": "https://localhost:8080/"
        },
        "id": "W53-petbliNW",
        "outputId": "1eb0da11-e18d-4a42-c811-2e23c5ba48dc"
      },
      "execution_count": null,
      "outputs": [
        {
          "output_type": "stream",
          "name": "stdout",
          "text": [
            "factorial of 5 is 120\n",
            "factorial of 5 is 5\n"
          ]
        }
      ]
    },
    {
      "cell_type": "code",
      "source": [
        "# Checking whether a number is prime or not using a for loop:\n",
        "number=8\n",
        "for i in range (2,int(number/2)+1):\n",
        "    if number%i==0:\n",
        "      print(number,\"is not a prime number\")\n",
        "      break\n",
        "else:\n",
        "  print(number,\"is a prime number\")\n",
        "\n",
        "# Checking whether a number is prime or not using a while loop:\n",
        "num = 7\n",
        "i = 2\n",
        "while i <= int(num/2):\n",
        "    if num%i == 0:\n",
        "        print(num, \"is not a prime number\")\n",
        "        break\n",
        "    i += 1\n",
        "else:\n",
        "    print(num, \"is a prime number\")"
      ],
      "metadata": {
        "colab": {
          "base_uri": "https://localhost:8080/"
        },
        "id": "iYHmBtOUmqFQ",
        "outputId": "96f04711-d563-49b1-b097-29b419d0f8e0"
      },
      "execution_count": null,
      "outputs": [
        {
          "output_type": "stream",
          "name": "stdout",
          "text": [
            "8 is not a prime number\n",
            "7 is a prime number\n"
          ]
        }
      ]
    },
    {
      "cell_type": "code",
      "source": [
        "# Finding the largest and smallest numbers in a list using a for loop:\n",
        "numbers=[5,8,11,22,52,62]\n",
        "largest=smallest=numbers[3]\n",
        "for num in numbers:\n",
        "    if num >largest:\n",
        "       largest=num\n",
        "    elif num < smallest:\n",
        "       smallest=num\n",
        "print(\"largest number is\",largest,\"smallest number\",smallest)\n",
        "\n",
        "\n",
        "# Finding the largest and smallest numbers in a list using a while loop:\n",
        "numbers = [5, 8, 2, 6, 1, 9]\n",
        "i = 0\n",
        "largest = smallest = numbers[0]\n",
        "while i < len(numbers):\n",
        "    if numbers[i] > largest:\n",
        "        largest = numbers[i]\n",
        "    elif numbers[i] < smallest:\n",
        "        smallest = numbers[i]\n",
        "    i += 1\n",
        "print(\"Largest number is\", largest, \"and smallest number is\", smallest)\n"
      ],
      "metadata": {
        "colab": {
          "base_uri": "https://localhost:8080/"
        },
        "id": "Sf7wj3_upDXA",
        "outputId": "1d55cfe8-1c64-4c39-dc24-3d21b05b4c29"
      },
      "execution_count": null,
      "outputs": [
        {
          "output_type": "stream",
          "name": "stdout",
          "text": [
            "largest number is 62 smallest number 5\n",
            "Largest number is 9 and smallest number is 1\n"
          ]
        }
      ]
    },
    {
      "cell_type": "code",
      "source": [
        "# Sorting a list of numbers using a for loop and bubble sort algorithm:\n",
        "numbers = [5, 8, 2, 6, 1, 9]\n",
        "for i in range(len(numbers)):\n",
        "    for j in range(len(numbers)-i-1):\n",
        "        if numbers[j] > numbers[j+1]:\n",
        "            numbers[j], numbers[j+1] = numbers[j+1], numbers[j]\n",
        "print(\"Sorted list:\", numbers)\n",
        "\n",
        "\n",
        "# Sorting a list of numbers using a while loop and bubble sort algorithm:\n",
        "numbers = [5, 8, 2, 6, 1, 9]\n",
        "n = len(numbers)\n",
        "while n > 1:\n",
        "    i = 0\n",
        "    while i < n-1:\n",
        "        if numbers[i] > numbers[i+1]:\n",
        "            numbers[i], numbers[i+1] = numbers[i+1], numbers[i]\n",
        "        i += 1\n",
        "    n -= 1\n",
        "print(\"Sorted list:\", numbers)"
      ],
      "metadata": {
        "colab": {
          "base_uri": "https://localhost:8080/"
        },
        "id": "tBUTQBiprf-b",
        "outputId": "da377230-6cc9-4a01-f1c4-3bdcc5756a19"
      },
      "execution_count": null,
      "outputs": [
        {
          "output_type": "stream",
          "name": "stdout",
          "text": [
            "Sorted list: [1, 2, 5, 6, 8, 9]\n",
            "Sorted list: [1, 2, 5, 6, 8, 9]\n"
          ]
        }
      ]
    },
    {
      "cell_type": "code",
      "source": [
        "# Counting the number of vowels in a string using a for loop:\n",
        "string=\"shubham\"\n",
        "vowels=\"aeiouAEIOU\"\n",
        "count=0\n",
        "for char in string:\n",
        "  if char in vowels:\n",
        "    count+=1\n",
        "print(\"number of vowels in the string is\",count)\n",
        "\n",
        "\n",
        "# Counting the number of vowels in a string using a while loop:\n",
        "string = \"Hello, World!\"\n",
        "vowels = \"aeiouAEIOU\"\n",
        "count = 0\n",
        "i = 0\n",
        "while i < len(string):\n",
        "    if string[i] in vowels:\n",
        "        count += 1\n",
        "    i += 1\n",
        "print(\"Number of vowels in the string is\", count)"
      ],
      "metadata": {
        "colab": {
          "base_uri": "https://localhost:8080/"
        },
        "id": "UPlkwH_BwpRM",
        "outputId": "e50b564b-d97a-4dcd-baa8-adc7af0cd116"
      },
      "execution_count": null,
      "outputs": [
        {
          "output_type": "stream",
          "name": "stdout",
          "text": [
            "number of vowels in the string is 2\n",
            "Number of vowels in the string is 3\n"
          ]
        }
      ]
    },
    {
      "cell_type": "markdown",
      "source": [
        "# **MAP FUNCTION**"
      ],
      "metadata": {
        "id": "Wq9PLrxgcPeP"
      }
    },
    {
      "cell_type": "code",
      "source": [
        "# Squaring each element in a list using map() function:\n",
        "numbers=[1,2,3,4,5]\n",
        "square_number=list(map(lambda x :x**2,numbers))\n",
        "print(square_number)"
      ],
      "metadata": {
        "colab": {
          "base_uri": "https://localhost:8080/"
        },
        "id": "s-e3yWIJ3aJo",
        "outputId": "f7a5d398-eb7c-413b-ff68-6d489968d3a0"
      },
      "execution_count": null,
      "outputs": [
        {
          "output_type": "stream",
          "name": "stdout",
          "text": [
            "[1, 4, 9, 16, 25]\n"
          ]
        }
      ]
    },
    {
      "cell_type": "code",
      "source": [
        "# Converting a list of strings to integers using map() function:\n",
        "string=[\"1\",\"2\",\"3\",\"4\"]\n",
        "numbers=tuple(map(int,string))\n",
        "numbers"
      ],
      "metadata": {
        "colab": {
          "base_uri": "https://localhost:8080/"
        },
        "id": "3Ejus9YDc1SG",
        "outputId": "533c6d44-b6d5-4e45-bece-77cc3b0189ac"
      },
      "execution_count": null,
      "outputs": [
        {
          "output_type": "execute_result",
          "data": {
            "text/plain": [
              "(1, 2, 3, 4)"
            ]
          },
          "metadata": {},
          "execution_count": 12
        }
      ]
    },
    {
      "cell_type": "code",
      "source": [
        "# Doubling each element in a list using map() function:\n",
        "numbers=[1,2,3,4]\n",
        "doubled_numbers=set(map(lambda x:x*2,numbers))\n",
        "doubled_numbers"
      ],
      "metadata": {
        "colab": {
          "base_uri": "https://localhost:8080/"
        },
        "id": "_SokrkRlc2Dy",
        "outputId": "05873cb2-7439-4f5d-bcd7-da51215b3f98"
      },
      "execution_count": null,
      "outputs": [
        {
          "output_type": "execute_result",
          "data": {
            "text/plain": [
              "{2, 4, 6, 8}"
            ]
          },
          "metadata": {},
          "execution_count": 13
        }
      ]
    },
    {
      "cell_type": "code",
      "source": [
        "# Reversing a list of strings using map() function:\n",
        "string=[\"hello\"]\n",
        "reverse_string=list(map(lambda x :x[::-1],string))\n",
        "reverse_string"
      ],
      "metadata": {
        "colab": {
          "base_uri": "https://localhost:8080/"
        },
        "id": "lmex4D0Dc2HW",
        "outputId": "16cf6afe-6c47-4332-a3ce-01c98f21fcb8"
      },
      "execution_count": null,
      "outputs": [
        {
          "output_type": "execute_result",
          "data": {
            "text/plain": [
              "['olleh']"
            ]
          },
          "metadata": {},
          "execution_count": 14
        }
      ]
    },
    {
      "cell_type": "code",
      "source": [
        "# Removing whitespace from a list of strings using map() function:\n",
        "strings = [\"   Hello  \", \"   World  \", \"   Python  \"]\n",
        "stripped_strings= list(map(str.strip, strings))\n",
        "print(stripped_strings)"
      ],
      "metadata": {
        "colab": {
          "base_uri": "https://localhost:8080/"
        },
        "id": "0EM3mgiBc2Nr",
        "outputId": "9a8bd26a-fbbe-4821-e5b6-11110461ec60"
      },
      "execution_count": null,
      "outputs": [
        {
          "output_type": "stream",
          "name": "stdout",
          "text": [
            "['Hello', 'World', 'Python']\n"
          ]
        }
      ]
    },
    {
      "cell_type": "code",
      "source": [
        "# Capitalizing the first letter of each word in a list of strings using map() function:\n",
        "strings = [\"hello world\", \"python programming\", \"data science\"]\n",
        "capitalized_strings=list(map(lambda x:x.title(),strings))\n",
        "print(capitalized_strings)"
      ],
      "metadata": {
        "id": "HwkWXp7Mc2TO",
        "colab": {
          "base_uri": "https://localhost:8080/"
        },
        "outputId": "88870469-bfc7-4720-a265-d49554897f1f"
      },
      "execution_count": null,
      "outputs": [
        {
          "output_type": "stream",
          "name": "stdout",
          "text": [
            "['Hello World', 'Python Programming', 'Data Science']\n"
          ]
        }
      ]
    },
    {
      "cell_type": "code",
      "source": [
        "# Multiplying elements of two lists using map() function:\n",
        "list1 = [1, 2, 3, 4, 5]\n",
        "list2 = [10, 20, 30, 40, 50]\n",
        "product=list(map(lambda x,y:x*y,list1,list2))\n",
        "product"
      ],
      "metadata": {
        "id": "HEDeqk-Jc2U8",
        "colab": {
          "base_uri": "https://localhost:8080/"
        },
        "outputId": "ecdf5768-67cf-4780-8c29-58b7c5099518"
      },
      "execution_count": null,
      "outputs": [
        {
          "output_type": "execute_result",
          "data": {
            "text/plain": [
              "[10, 40, 90, 160, 250]"
            ]
          },
          "metadata": {},
          "execution_count": 54
        }
      ]
    },
    {
      "cell_type": "code",
      "source": [
        "# Finding the length of each word in a list of strings using map() function:\n",
        "strings = [\"hello world\", \"python programming\", \"data science\"]\n",
        "lengths=list(map(lambda x:len(x),strings))\n",
        "lengths"
      ],
      "metadata": {
        "id": "MQjfkerxc2jQ",
        "colab": {
          "base_uri": "https://localhost:8080/"
        },
        "outputId": "489327ea-8633-4762-e626-347ff8e7c478"
      },
      "execution_count": null,
      "outputs": [
        {
          "output_type": "execute_result",
          "data": {
            "text/plain": [
              "[11, 18, 12]"
            ]
          },
          "metadata": {},
          "execution_count": 18
        }
      ]
    },
    {
      "cell_type": "code",
      "source": [
        "# Converting a list of numbers to their binary representation using map() function:\n",
        "numbers=[1,2,3,4,5]\n",
        "binary_numbers=list(map(lambda x : bin(x)[2:],numbers))\n",
        "print(binary_numbers)"
      ],
      "metadata": {
        "id": "DXaU0qryc3dv",
        "colab": {
          "base_uri": "https://localhost:8080/"
        },
        "outputId": "13cce4ec-35f5-4438-c6b1-4a9241d7b549"
      },
      "execution_count": null,
      "outputs": [
        {
          "output_type": "stream",
          "name": "stdout",
          "text": [
            "['1', '10', '11', '100', '101']\n"
          ]
        }
      ]
    },
    {
      "cell_type": "markdown",
      "source": [
        "# **FILTER FUNCTION**"
      ],
      "metadata": {
        "id": "yIzGYIlFts4L"
      }
    },
    {
      "cell_type": "code",
      "source": [
        "# Filtering out even numbers from a list:\n",
        "my_list=[1,2,3,4,5,6,7,8]\n",
        "even_numbers=list(filter(lambda x :x%2==0,my_list))\n",
        "even_numbers"
      ],
      "metadata": {
        "id": "T1pj2m5Qc3gd",
        "colab": {
          "base_uri": "https://localhost:8080/"
        },
        "outputId": "0fed89d7-03d7-43e9-d75e-6e6f78e3aac0"
      },
      "execution_count": null,
      "outputs": [
        {
          "output_type": "execute_result",
          "data": {
            "text/plain": [
              "[2, 4, 6, 8]"
            ]
          },
          "metadata": {},
          "execution_count": 20
        }
      ]
    },
    {
      "cell_type": "code",
      "source": [
        "# Filtering out odd numbers from a list:\n",
        "my_list=[1,2,3,4,5,6,7,8]\n",
        "even_numbers=list(filter(lambda x :x%2!=0,my_list))\n",
        "even_numbers"
      ],
      "metadata": {
        "id": "gwPvIKRHc3jE",
        "colab": {
          "base_uri": "https://localhost:8080/"
        },
        "outputId": "96cc5a10-fbc2-4db1-a236-0802c48e0e47"
      },
      "execution_count": null,
      "outputs": [
        {
          "output_type": "execute_result",
          "data": {
            "text/plain": [
              "[1, 3, 5, 7]"
            ]
          },
          "metadata": {},
          "execution_count": 21
        }
      ]
    },
    {
      "cell_type": "code",
      "source": [
        "# Filtering out negative numbers from a list:\n",
        "numbers=[1,2,-4,-5,-8,8,9,-7]\n",
        "positive_numbers=list(filter(lambda x :x >=0,numbers))\n",
        "print(positive_numbers)"
      ],
      "metadata": {
        "id": "FY5Q9rnQc3or",
        "colab": {
          "base_uri": "https://localhost:8080/"
        },
        "outputId": "da9c8d55-6780-4307-a4f8-fd536a1b7389"
      },
      "execution_count": null,
      "outputs": [
        {
          "output_type": "stream",
          "name": "stdout",
          "text": [
            "[1, 2, 8, 9]\n"
          ]
        }
      ]
    },
    {
      "cell_type": "code",
      "source": [
        "# Filtering out even-length strings from a list:\n",
        "my_list = [\"apple\", \"banana\", \"pear\", \"kiwi\", \"orange\"]\n",
        "even_length_words=list(filter(lambda x : len(x)%2==0 ,my_list))\n",
        "even_length_words"
      ],
      "metadata": {
        "id": "OeXQU_5Lc3va",
        "colab": {
          "base_uri": "https://localhost:8080/"
        },
        "outputId": "8ef4bc5b-654d-446d-a10d-4de932c443ae"
      },
      "execution_count": null,
      "outputs": [
        {
          "output_type": "execute_result",
          "data": {
            "text/plain": [
              "['banana', 'pear', 'kiwi', 'orange']"
            ]
          },
          "metadata": {},
          "execution_count": 23
        }
      ]
    },
    {
      "cell_type": "code",
      "source": [
        "# Filtering out numbers less than or equal to a given value from a list:\n",
        "my_list = [1, 2, 3, 4, 5, 6, 7, 8, 9, 10]\n",
        "less_than_seven=list(filter(lambda x : x <=6,my_list))\n",
        "less_than_seven"
      ],
      "metadata": {
        "id": "thwAcZ96c34P",
        "colab": {
          "base_uri": "https://localhost:8080/"
        },
        "outputId": "b2f71169-79bb-473d-850b-b733957f1310"
      },
      "execution_count": null,
      "outputs": [
        {
          "output_type": "execute_result",
          "data": {
            "text/plain": [
              "[1, 2, 3, 4, 5, 6]"
            ]
          },
          "metadata": {},
          "execution_count": 24
        }
      ]
    },
    {
      "cell_type": "code",
      "source": [
        "# Filtering out duplicates from a list:\n",
        "my_list = [1, 2, 3, 2, 4, 5, 1, 6, 7, 7, 8, 9]\n",
        "unique_numbers = list(filter(lambda x: my_list.count(x) == 1, my_list))\n",
        "print(unique_numbers)\n"
      ],
      "metadata": {
        "id": "jbhJvvlUc361",
        "colab": {
          "base_uri": "https://localhost:8080/"
        },
        "outputId": "bebf1c05-eb2c-4920-b295-d1cc2488f2c4"
      },
      "execution_count": null,
      "outputs": [
        {
          "output_type": "stream",
          "name": "stdout",
          "text": [
            "[3, 4, 5, 6, 8, 9]\n"
          ]
        }
      ]
    },
    {
      "cell_type": "code",
      "source": [
        "# Filtering out empty strings from a list:\n",
        "my_list = [\"apple\", \"\", \"banana\", \"\", \"pear\", \"kiwi\", \"orange\", \"\"]\n",
        "non_empty_strings = list(filter(lambda x: x != \"\", my_list))\n",
        "print(non_empty_strings)\n"
      ],
      "metadata": {
        "id": "oJRcMrxJc3_y",
        "colab": {
          "base_uri": "https://localhost:8080/"
        },
        "outputId": "bd65ee86-5c86-4b07-e4e6-474adb7999de"
      },
      "execution_count": null,
      "outputs": [
        {
          "output_type": "stream",
          "name": "stdout",
          "text": [
            "['apple', 'banana', 'pear', 'kiwi', 'orange']\n"
          ]
        }
      ]
    },
    {
      "cell_type": "code",
      "source": [
        "# Filtering out numbers divisible by a certain value from a list:\n",
        "my_list = [1, 2, 3, 4, 5, 6, 7, 8, 9, 10]\n",
        "not_divisible_by_three = list(filter(lambda x: x % 3 != 0, my_list))\n",
        "print(not_divisible_by_three)\n"
      ],
      "metadata": {
        "id": "VIsLLzRuc4Cj",
        "colab": {
          "base_uri": "https://localhost:8080/"
        },
        "outputId": "cc2e4b8a-21da-4fd2-a38c-09b3fbbab92e"
      },
      "execution_count": null,
      "outputs": [
        {
          "output_type": "stream",
          "name": "stdout",
          "text": [
            "[1, 2, 4, 5, 7, 8, 10]\n"
          ]
        }
      ]
    },
    {
      "cell_type": "code",
      "source": [
        "# Filtering out strings that contain a certain substring from a list:\n",
        "my_list = [\"apple\", \"banana\", \"pear\", \"kiwi\", \"orange\"]\n",
        "not_containing_ow = list(filter(lambda x: \"ow\" not in x, my_list))\n",
        "print(not_containing_ow)\n"
      ],
      "metadata": {
        "id": "ohWrHRDEc4J0",
        "colab": {
          "base_uri": "https://localhost:8080/"
        },
        "outputId": "86f2ab54-1fff-4df3-d71c-ea4d2432edb9"
      },
      "execution_count": null,
      "outputs": [
        {
          "output_type": "stream",
          "name": "stdout",
          "text": [
            "['apple', 'banana', 'pear', 'kiwi', 'orange']\n"
          ]
        }
      ]
    },
    {
      "cell_type": "code",
      "source": [
        "# Filtering out strings that start with a certain character from a list:\n",
        "my_list = [\"apple\", \"banana\", \"pear\", \"kiwi\", \"orange\"]\n",
        "not_starting_with_p = list(filter(lambda x: not x.startswith(\"p\"), my_list))\n",
        "print(not_starting_with_p)\n"
      ],
      "metadata": {
        "id": "OPR_lEosc4Mi",
        "colab": {
          "base_uri": "https://localhost:8080/"
        },
        "outputId": "ea3f2d10-055f-40cd-f44f-eb4944258d65"
      },
      "execution_count": null,
      "outputs": [
        {
          "output_type": "stream",
          "name": "stdout",
          "text": [
            "['apple', 'banana', 'kiwi', 'orange']\n"
          ]
        }
      ]
    },
    {
      "cell_type": "code",
      "source": [
        "# Filtering out strings that end with a certain character from a list:\n",
        "my_list = [\"apple\", \"banana\", \"pear\", \"kiwi\", \"orange\"]\n",
        "not_ending_with_e = list(filter(lambda x: not x.endswith(\"e\"), my_list))\n",
        "print(not_ending_with_e)\n"
      ],
      "metadata": {
        "id": "z5HfeFFJc4N-",
        "colab": {
          "base_uri": "https://localhost:8080/"
        },
        "outputId": "38c67604-c0de-4b7d-f99a-e7416dfadb33"
      },
      "execution_count": null,
      "outputs": [
        {
          "output_type": "stream",
          "name": "stdout",
          "text": [
            "['banana', 'pear', 'kiwi']\n"
          ]
        }
      ]
    },
    {
      "cell_type": "code",
      "source": [
        "# Filter a list of strings to only include strings longer than 5 characters:\n",
        "strings = ['hello', 'world', 'python', 'is', 'awesome']\n",
        "long_strings=list(filter(lambda x:len(x)>5,strings))\n",
        "long_strings"
      ],
      "metadata": {
        "id": "HxP66vfLc4Uf",
        "colab": {
          "base_uri": "https://localhost:8080/"
        },
        "outputId": "b2aa2b93-c7f2-495d-96ce-ad24d2a35dff"
      },
      "execution_count": null,
      "outputs": [
        {
          "output_type": "execute_result",
          "data": {
            "text/plain": [
              "['python', 'awesome']"
            ]
          },
          "metadata": {},
          "execution_count": 32
        }
      ]
    },
    {
      "cell_type": "code",
      "source": [
        "# Filter a list of dictionaries to only include dictionaries where a certain key exists:\n",
        "people = [{'name': 'John', 'age': 25},\n",
        "          {'name': 'Sarah'},\n",
        "          {'name': 'Mike', 'age': 30}]\n",
        "valid_people=list(filter(lambda x :'age' in x ,people))\n",
        "valid_people"
      ],
      "metadata": {
        "id": "0d3jlUbXc4Xr",
        "colab": {
          "base_uri": "https://localhost:8080/"
        },
        "outputId": "443c4258-5945-49f3-d929-3a43810e737f"
      },
      "execution_count": null,
      "outputs": [
        {
          "output_type": "execute_result",
          "data": {
            "text/plain": [
              "[{'name': 'John', 'age': 25}, {'name': 'Mike', 'age': 30}]"
            ]
          },
          "metadata": {},
          "execution_count": 33
        }
      ]
    },
    {
      "cell_type": "code",
      "source": [
        "# Filter a list of tuples to only include tuples where the first element is greater than 5.\n",
        "tuples = [(1, 2), (6, 4), (2, 7), (8, 5)]\n",
        "filter_tuple=tuple(filter(lambda x :x[0]>5,tuples))\n",
        "filter_tuple"
      ],
      "metadata": {
        "id": "gkYA4o6Uc4Zt",
        "colab": {
          "base_uri": "https://localhost:8080/"
        },
        "outputId": "02d65637-dbbc-42c2-bc63-391233b3dd9b"
      },
      "execution_count": null,
      "outputs": [
        {
          "output_type": "execute_result",
          "data": {
            "text/plain": [
              "((6, 4), (8, 5))"
            ]
          },
          "metadata": {},
          "execution_count": 37
        }
      ]
    },
    {
      "cell_type": "code",
      "source": [
        "# Filter a list of dictionaries to only include dictionaries where a certain key has a certain value:\n",
        "people = [{'name': 'John', 'age': 25},\n",
        "          {'name': 'Sarah', 'age': 30},\n",
        "          {'name': 'Mike', 'age': 30}]\n",
        "thirty_year_old=list(filter(lambda x:x['age']==30,people))\n",
        "thirty_year_old"
      ],
      "metadata": {
        "id": "D06qTl6tc4cJ",
        "colab": {
          "base_uri": "https://localhost:8080/"
        },
        "outputId": "a57412cf-8363-495a-d6a8-9f87d586c4d2"
      },
      "execution_count": null,
      "outputs": [
        {
          "output_type": "execute_result",
          "data": {
            "text/plain": [
              "[{'name': 'Sarah', 'age': 30}, {'name': 'Mike', 'age': 30}]"
            ]
          },
          "metadata": {},
          "execution_count": 38
        }
      ]
    },
    {
      "cell_type": "code",
      "source": [
        "# Filter a list of numbers to only include numbers greater than 10:\n",
        "numbers = [5, 10, 15, 20, 25]\n",
        "updated_number=list(filter(lambda x:x>10,numbers))\n",
        "updated_number"
      ],
      "metadata": {
        "id": "0xFWqzPRc4dr",
        "colab": {
          "base_uri": "https://localhost:8080/"
        },
        "outputId": "282ca0a4-e91c-4fee-899e-13a4d514317f"
      },
      "execution_count": null,
      "outputs": [
        {
          "output_type": "execute_result",
          "data": {
            "text/plain": [
              "[15, 20, 25]"
            ]
          },
          "metadata": {},
          "execution_count": 39
        }
      ]
    },
    {
      "cell_type": "code",
      "source": [
        "# Filter a list of strings to only include strings that contain the letter 'e':\n",
        "strings = ['hello', 'world', 'python', 'is', 'awesome']\n",
        "e_strings=list(filter(lambda x: 'e' in x,strings))\n",
        "e_strings"
      ],
      "metadata": {
        "id": "EhPjReZ3c4fk",
        "colab": {
          "base_uri": "https://localhost:8080/"
        },
        "outputId": "944e8d5c-8f0c-4fef-ff41-83a226103534"
      },
      "execution_count": null,
      "outputs": [
        {
          "output_type": "execute_result",
          "data": {
            "text/plain": [
              "['hello', 'awesome']"
            ]
          },
          "metadata": {},
          "execution_count": 40
        }
      ]
    },
    {
      "cell_type": "code",
      "source": [
        "# Filter a list of dictionaries to only include dictionaries where a certain key is not null:\n",
        "people = [{'name': 'John', 'age': 25},\n",
        "          {'name': 'Sarah'},\n",
        "          {'name': 'Mike', 'age': 30}]\n",
        "valid_people=list(filter(lambda x : x.get('age') is not None,people))\n",
        "valid_people"
      ],
      "metadata": {
        "id": "l_l4KRiUc4hS",
        "colab": {
          "base_uri": "https://localhost:8080/"
        },
        "outputId": "479737dd-ec2d-4856-b5c9-9d7bcbfc0039"
      },
      "execution_count": null,
      "outputs": [
        {
          "output_type": "execute_result",
          "data": {
            "text/plain": [
              "[{'name': 'John', 'age': 25}, {'name': 'Mike', 'age': 30}]"
            ]
          },
          "metadata": {},
          "execution_count": 45
        }
      ]
    },
    {
      "cell_type": "markdown",
      "source": [
        "# **REDUCE FUNCTION**"
      ],
      "metadata": {
        "id": "vRt-_kkKc1tr"
      }
    },
    {
      "cell_type": "code",
      "source": [
        "from functools import reduce"
      ],
      "metadata": {
        "id": "uUIaWTX-cyuf"
      },
      "execution_count": null,
      "outputs": []
    },
    {
      "cell_type": "code",
      "source": [
        "# Find the sum of all numbers in a list:\n",
        "numbers=[2,5,6,8,9]\n",
        "total=reduce(lambda x ,y:x+y,numbers)\n",
        "total"
      ],
      "metadata": {
        "id": "oxdqjx8yc4jz",
        "colab": {
          "base_uri": "https://localhost:8080/"
        },
        "outputId": "0c45ca98-5e34-47f4-e0ea-8363a96da5a8"
      },
      "execution_count": null,
      "outputs": [
        {
          "output_type": "execute_result",
          "data": {
            "text/plain": [
              "30"
            ]
          },
          "metadata": {},
          "execution_count": 48
        }
      ]
    },
    {
      "cell_type": "code",
      "source": [
        "# Find the product of all numbers in a list:\n",
        "numbers=[2,5,7,8,2]\n",
        "product=reduce(lambda x,y:x*y,numbers)\n",
        "product"
      ],
      "metadata": {
        "id": "tdMmRxQzc4k9",
        "colab": {
          "base_uri": "https://localhost:8080/"
        },
        "outputId": "b7109e1b-1716-4216-c05c-a545c49a6077"
      },
      "execution_count": null,
      "outputs": [
        {
          "output_type": "execute_result",
          "data": {
            "text/plain": [
              "1120"
            ]
          },
          "metadata": {},
          "execution_count": 52
        }
      ]
    },
    {
      "cell_type": "code",
      "source": [
        "# Find the maximum value in a list of numbers:\n",
        "numbers=[1,3,5,6,7]\n",
        "max_value=reduce(lambda x,y:x if x > y else y,numbers)\n",
        "max_value"
      ],
      "metadata": {
        "id": "bNRGXGQyc4mb",
        "colab": {
          "base_uri": "https://localhost:8080/"
        },
        "outputId": "a18206a5-acbd-4186-e9f8-9279eeadf175"
      },
      "execution_count": null,
      "outputs": [
        {
          "output_type": "execute_result",
          "data": {
            "text/plain": [
              "7"
            ]
          },
          "metadata": {},
          "execution_count": 56
        }
      ]
    },
    {
      "cell_type": "code",
      "source": [
        "# Find the minimum value in a list of numbers:\n",
        "numbers=[2,5,7,8,3]\n",
        "min_value=reduce(lambda x ,y:x if x<y else y,numbers)\n",
        "min_value"
      ],
      "metadata": {
        "id": "ObNxvkTJc4ni",
        "colab": {
          "base_uri": "https://localhost:8080/"
        },
        "outputId": "bca89e2f-edf9-4167-da04-e0534275b9fb"
      },
      "execution_count": null,
      "outputs": [
        {
          "output_type": "execute_result",
          "data": {
            "text/plain": [
              "2"
            ]
          },
          "metadata": {},
          "execution_count": 57
        }
      ]
    },
    {
      "cell_type": "code",
      "source": [
        "# Concatenate a list of strings into a single string:\n",
        "strings = ['hello', 'world', 'python']\n",
        "result=reduce(lambda x,y:x+ \" \" +y,strings)\n",
        "result"
      ],
      "metadata": {
        "id": "K-WYVdByc4pB",
        "colab": {
          "base_uri": "https://localhost:8080/",
          "height": 35
        },
        "outputId": "1fbb82a7-403e-4962-f2f8-016fe47d8711"
      },
      "execution_count": null,
      "outputs": [
        {
          "output_type": "execute_result",
          "data": {
            "text/plain": [
              "'hello world python'"
            ],
            "application/vnd.google.colaboratory.intrinsic+json": {
              "type": "string"
            }
          },
          "metadata": {},
          "execution_count": 59
        }
      ]
    },
    {
      "cell_type": "code",
      "source": [
        "# Find the average of a list of numbers:\n",
        "numbers=[5,2,4,9,6]\n",
        "avg_list=reduce(lambda x,y:x+y,numbers)/len(numbers)\n",
        "avg_list"
      ],
      "metadata": {
        "id": "K6EJlLW-c4qP",
        "colab": {
          "base_uri": "https://localhost:8080/"
        },
        "outputId": "b62d9008-e0a3-4e09-ebc8-e1f4f4ccd80b"
      },
      "execution_count": null,
      "outputs": [
        {
          "output_type": "execute_result",
          "data": {
            "text/plain": [
              "5.2"
            ]
          },
          "metadata": {},
          "execution_count": 64
        }
      ]
    },
    {
      "cell_type": "code",
      "source": [
        "# Remove duplicates from a list of strings:\n",
        "strings = ['hello', 'world', 'python', 'world', 'python']\n",
        "unique_strings=reduce(lambda x, y: x + [y] if y not in x else x, strings, [])\n",
        "unique_strings"
      ],
      "metadata": {
        "id": "qH_11cdEc4r7",
        "colab": {
          "base_uri": "https://localhost:8080/"
        },
        "outputId": "636e712b-7dc2-4fe9-f05a-c82f94b09597"
      },
      "execution_count": null,
      "outputs": [
        {
          "output_type": "execute_result",
          "data": {
            "text/plain": [
              "['hello', 'world', 'python']"
            ]
          },
          "metadata": {},
          "execution_count": 69
        }
      ]
    },
    {
      "cell_type": "code",
      "source": [
        "# Find the factorial of a number:\n",
        "number=int(input(\"Enter the number: \"))\n",
        "factorial=reduce(lambda x,y:x*y,range(1,number+1))\n",
        "factorial"
      ],
      "metadata": {
        "id": "mD9K1Of4c4to",
        "colab": {
          "base_uri": "https://localhost:8080/"
        },
        "outputId": "a4197ec2-23df-4e70-a3b0-817143c23856"
      },
      "execution_count": null,
      "outputs": [
        {
          "name": "stdout",
          "output_type": "stream",
          "text": [
            "Enter the number: 5\n"
          ]
        },
        {
          "output_type": "execute_result",
          "data": {
            "text/plain": [
              "120"
            ]
          },
          "metadata": {},
          "execution_count": 73
        }
      ]
    },
    {
      "cell_type": "code",
      "source": [
        "# Reverse a list of numbers:\n",
        "numbers = [1, 2, 3, 4, 5]\n",
        "reverse_list=reduce(lambda x,y:[y]+x,numbers,[])\n",
        "print(reverse_list)"
      ],
      "metadata": {
        "colab": {
          "base_uri": "https://localhost:8080/"
        },
        "id": "V0QbKYKzj5SH",
        "outputId": "d91bd4d2-18de-4d04-866a-2e745e1ea2e3"
      },
      "execution_count": null,
      "outputs": [
        {
          "output_type": "stream",
          "name": "stdout",
          "text": [
            "[5, 4, 3, 2, 1]\n"
          ]
        }
      ]
    },
    {
      "cell_type": "markdown",
      "source": [
        "# **PROBLEMS ON TRY EXCEPT**"
      ],
      "metadata": {
        "id": "fDybWUHZppQy"
      }
    },
    {
      "cell_type": "code",
      "source": [
        "# Handle a ZeroDivisionError exception:\n",
        "try:\n",
        "  division=10/0\n",
        "except:\n",
        "    print(\"Cannot divide by zero\")\n"
      ],
      "metadata": {
        "colab": {
          "base_uri": "https://localhost:8080/"
        },
        "id": "k3U6G5bro8aD",
        "outputId": "60b401a6-12a7-43df-b89f-adaa9b803ca0"
      },
      "execution_count": null,
      "outputs": [
        {
          "output_type": "stream",
          "name": "stdout",
          "text": [
            "Cannot divide by zero\n"
          ]
        }
      ]
    },
    {
      "cell_type": "code",
      "source": [
        "# Handle a TypeError exception:\n",
        "try:\n",
        "  x=\"hello\"+5\n",
        "except:\n",
        "  print(\"cannot concatenate string and int\")"
      ],
      "metadata": {
        "colab": {
          "base_uri": "https://localhost:8080/"
        },
        "id": "2O4n5-x5rARy",
        "outputId": "340fbb4e-7e8c-4834-c5f8-960931b239e3"
      },
      "execution_count": null,
      "outputs": [
        {
          "output_type": "stream",
          "name": "stdout",
          "text": [
            "cannot concatenate string and int\n"
          ]
        }
      ]
    },
    {
      "cell_type": "code",
      "source": [
        "# Handle multiple exceptions:\n",
        "try:\n",
        "  x=10/0\n",
        "except(ZeroDivisionError,TypeError):\n",
        "  print(\"an error occured\")"
      ],
      "metadata": {
        "colab": {
          "base_uri": "https://localhost:8080/"
        },
        "id": "fgx-QpJ3rjwy",
        "outputId": "251f6ab2-54d6-4d66-c404-985434bebcbc"
      },
      "execution_count": null,
      "outputs": [
        {
          "output_type": "stream",
          "name": "stdout",
          "text": [
            "an error occured\n"
          ]
        }
      ]
    },
    {
      "cell_type": "code",
      "source": [
        "# Handle an exception and continue execution:\n",
        "numbers=[1,2,3,\"hello\",5]\n",
        "for i in numbers:\n",
        "  try:\n",
        "      x=int(i)\n",
        "  except ValueError:\n",
        "      continue\n",
        "  print(x)"
      ],
      "metadata": {
        "colab": {
          "base_uri": "https://localhost:8080/"
        },
        "id": "b8sFfbov0WQq",
        "outputId": "b460b445-0663-4930-c1c2-c32be20d6e5d"
      },
      "execution_count": null,
      "outputs": [
        {
          "output_type": "stream",
          "name": "stdout",
          "text": [
            "1\n",
            "2\n",
            "3\n",
            "5\n"
          ]
        }
      ]
    },
    {
      "cell_type": "code",
      "source": [
        "# Handle an exception and execute a finally block:\n",
        "try:\n",
        "  x=10/0\n",
        "except:\n",
        "  print(\"can not divide zero\")\n",
        "finally:\n",
        "  print(\"This will always execute\")"
      ],
      "metadata": {
        "colab": {
          "base_uri": "https://localhost:8080/"
        },
        "id": "618iqvCO4FdG",
        "outputId": "bf9a2cad-f480-4849-e534-abd12551b7aa"
      },
      "execution_count": null,
      "outputs": [
        {
          "output_type": "stream",
          "name": "stdout",
          "text": [
            "can not divide zero\n",
            "This will always execute\n"
          ]
        }
      ]
    },
    {
      "cell_type": "code",
      "source": [
        "# Handle an exception and access the exception object:\n",
        "try:\n",
        "  x=int(\"hello\")\n",
        "except ValueError as e:\n",
        "  print(e)"
      ],
      "metadata": {
        "colab": {
          "base_uri": "https://localhost:8080/"
        },
        "id": "cnJErI0t5bgP",
        "outputId": "19afabda-0725-41a7-c832-36406ed60c6b"
      },
      "execution_count": null,
      "outputs": [
        {
          "output_type": "stream",
          "name": "stdout",
          "text": [
            "invalid literal for int() with base 10: 'hello'\n"
          ]
        }
      ]
    },
    {
      "cell_type": "code",
      "source": [
        "# Handle an exception and display a custom error message:\n",
        "try:\n",
        "  x=int(\"hello\")\n",
        "except ValueError:\n",
        "  print(\"Invalid input:must be an integer\")"
      ],
      "metadata": {
        "colab": {
          "base_uri": "https://localhost:8080/"
        },
        "id": "eg5bN2eJ6DZH",
        "outputId": "fcdd1566-08d3-412e-f3fa-18cea6cf9567"
      },
      "execution_count": null,
      "outputs": [
        {
          "output_type": "stream",
          "name": "stdout",
          "text": [
            "Invalid input:must be an integer\n"
          ]
        }
      ]
    },
    {
      "cell_type": "code",
      "source": [
        "# Handle a name error:\n",
        "try:\n",
        "  print(b)\n",
        "except NameError:\n",
        "  print(\"variable not defined\")"
      ],
      "metadata": {
        "colab": {
          "base_uri": "https://localhost:8080/"
        },
        "id": "o7ac_6Fr6gEz",
        "outputId": "46e3573c-10d4-4d37-829b-73673664fa33"
      },
      "execution_count": null,
      "outputs": [
        {
          "output_type": "stream",
          "name": "stdout",
          "text": [
            "8\n"
          ]
        }
      ]
    },
    {
      "cell_type": "code",
      "source": [
        "# Handle a key error:\n",
        "my_dict={\"key1\": \"value1\", \"key2\": \"value2\"}\n",
        "try:\n",
        "  print(my_dict[\"key4\"])\n",
        "except:\n",
        "  print(\"key not found\")"
      ],
      "metadata": {
        "colab": {
          "base_uri": "https://localhost:8080/"
        },
        "id": "Fkp8joPt9KUB",
        "outputId": "b0240039-c8a7-468a-8bc2-e8e514885832"
      },
      "execution_count": null,
      "outputs": [
        {
          "output_type": "stream",
          "name": "stdout",
          "text": [
            "key not found\n"
          ]
        }
      ]
    },
    {
      "cell_type": "code",
      "source": [
        "# Example 1: Dividing two numbers and handling errors.\n",
        "try:\n",
        "    number1 = float(input(\"Enter the first number: \"))\n",
        "    number2 = float(input(\"Enter the second number: \"))\n",
        "    result = number1 / number2\n",
        "except ValueError:\n",
        "    print(\"Invalid input. Please enter a valid number.\")\n",
        "except :\n",
        "    print(\"Cannot divide by zero.\")\n",
        "else:\n",
        "    print(f\"{num1} / {num2} = {result:.2f}\")\n",
        "finally:\n",
        "    print(\"Program executed.\")\n"
      ],
      "metadata": {
        "colab": {
          "base_uri": "https://localhost:8080/"
        },
        "id": "x-W1KAakCBqG",
        "outputId": "d6344948-f0ae-436d-94c0-51da552ccf04"
      },
      "execution_count": null,
      "outputs": [
        {
          "output_type": "stream",
          "name": "stdout",
          "text": [
            "Enter the first number: 25\n",
            "Enter the second number: bho\n",
            "Invalid input. Please enter a valid number.\n",
            "Program executed.\n"
          ]
        }
      ]
    },
    {
      "cell_type": "code",
      "source": [
        "# Reading and writing files, and handling errors.\n",
        "try:\n",
        "    with open(\"input.txt\", \"r\") as f:\n",
        "        data = f.read()\n",
        "    with open(\"output.txt\", \"w\") as f:\n",
        "        f.write(data)\n",
        "except FileNotFoundError:\n",
        "    print(\"File not found.\")\n",
        "except IOError:\n",
        "    print(\"IO error occurred.\")\n",
        "else:\n",
        "    print(\"File copied successfully.\")\n",
        "finally:\n",
        "    print(\"Program executed.\")\n"
      ],
      "metadata": {
        "colab": {
          "base_uri": "https://localhost:8080/"
        },
        "id": "LZx3He3eFzzs",
        "outputId": "7c788e02-0240-41b8-89d2-9517d9a8ab48"
      },
      "execution_count": null,
      "outputs": [
        {
          "output_type": "stream",
          "name": "stdout",
          "text": [
            "File not found.\n",
            "Program executed.\n"
          ]
        }
      ]
    },
    {
      "cell_type": "code",
      "source": [
        "# Handling multiple exceptions.\n",
        "try:\n",
        "    num1 = int(input(\"Enter the first number: \"))\n",
        "    num2 = int(input(\"Enter the second number: \"))\n",
        "    result = num1 / num2\n",
        "except (ValueError, TypeError):\n",
        "    print(\"Invalid input. Please enter a valid number.\")\n",
        "except ZeroDivisionError:\n",
        "    print(\"Cannot divide by zero.\")\n",
        "else:\n",
        "    print(f\"{num1} / {num2} = {result:.2f}\")\n",
        "finally:\n",
        "    print(\"Program executed.\")"
      ],
      "metadata": {
        "colab": {
          "base_uri": "https://localhost:8080/"
        },
        "id": "tEF_yLhiGMzg",
        "outputId": "165e892a-25bf-4f53-ecb6-aa26e6838a6c"
      },
      "execution_count": null,
      "outputs": [
        {
          "output_type": "stream",
          "name": "stdout",
          "text": [
            "Enter the first number: 12\n",
            "Enter the second number: 2\n",
            "12 / 2 = 6.00\n",
            "Program executed.\n"
          ]
        }
      ]
    },
    {
      "cell_type": "code",
      "source": [
        "# Using try-except blocks to handle recursion errors.\n",
        "def factorial(n):\n",
        "    if n == 0:\n",
        "        return 1\n",
        "    else:\n",
        "        return n * factorial(n-1)\n",
        "try:\n",
        "    result = factorial(5)\n",
        "except RecursionError:\n",
        "    print(\"Recursion error occurred.\")\n",
        "else:\n",
        "    print(f\"The result is {result}\")\n",
        "finally:\n",
        "    print(\"Program executed.\")"
      ],
      "metadata": {
        "colab": {
          "base_uri": "https://localhost:8080/"
        },
        "id": "g8Ws9cS-J18S",
        "outputId": "052d994d-6a9d-444f-d5d6-48d12cadfccb"
      },
      "execution_count": null,
      "outputs": [
        {
          "output_type": "stream",
          "name": "stdout",
          "text": [
            "The result is 120\n",
            "Program executed.\n"
          ]
        }
      ]
    },
    {
      "cell_type": "markdown",
      "source": [
        "# **DEF FUNCTION**"
      ],
      "metadata": {
        "id": "iaxG65eOLPxo"
      }
    },
    {
      "cell_type": "code",
      "source": [
        "# A function that computes the nth Fibonacci number using recursion.\n",
        "def fibonacci(number):\n",
        "   if number==0:\n",
        "      return 0\n",
        "   elif number==1:\n",
        "      return 1\n",
        "   else:\n",
        "      return fibonacci(number-1)+fibonacci(number-2)\n",
        "result=fibonacci(13)\n",
        "print(result)\n"
      ],
      "metadata": {
        "colab": {
          "base_uri": "https://localhost:8080/"
        },
        "id": "uNKaugRwKbrm",
        "outputId": "4edd2c8a-d297-4a7e-f3a9-1be800a0b306"
      },
      "execution_count": null,
      "outputs": [
        {
          "output_type": "stream",
          "name": "stdout",
          "text": [
            "233\n"
          ]
        }
      ]
    },
    {
      "cell_type": "code",
      "source": [
        "# A function that checks whether a number is prime or not.\n",
        "def is_prime(number):\n",
        "    if number <= 1:\n",
        "        return False\n",
        "    for i in range(2, int(number**0.5)+1):\n",
        "        if number % i == 0:\n",
        "            return (\"number is not prime number\")\n",
        "    return (\"number is prime number\")\n",
        "number=int(input(\"enter a number:\"))\n",
        "result = is_prime(number)\n",
        "print(result)"
      ],
      "metadata": {
        "colab": {
          "base_uri": "https://localhost:8080/"
        },
        "id": "H41DQ-iENAkY",
        "outputId": "88b5b152-39f1-4b58-a638-a04764dd58f5"
      },
      "execution_count": null,
      "outputs": [
        {
          "output_type": "stream",
          "name": "stdout",
          "text": [
            "enter a number:19\n",
            "number is prime number\n"
          ]
        }
      ]
    },
    {
      "cell_type": "code",
      "source": [
        "# A function that finds the largest palindrome in a given string.\n",
        "def largest_palindrome(word):\n",
        "    palindromes = []\n",
        "    for i in range(len(word)):\n",
        "        for j in range(i+1, len(word)+1):\n",
        "            substr = word[i:j]\n",
        "            if substr == substr[::-1]:\n",
        "                palindromes.append(substr)\n",
        "    return max(palindromes, key=len)\n",
        "word=str(input(\"enter a string:\"))\n",
        "result = largest_palindrome(word)\n",
        "print(result)"
      ],
      "metadata": {
        "colab": {
          "base_uri": "https://localhost:8080/"
        },
        "id": "74ZUVz7FP-gB",
        "outputId": "68e50a53-9e8b-47d0-fc99-f8a011b7ae84"
      },
      "execution_count": null,
      "outputs": [
        {
          "output_type": "stream",
          "name": "stdout",
          "text": [
            "enter a string:mom\n",
            "mom\n"
          ]
        }
      ]
    },
    {
      "cell_type": "code",
      "source": [
        "# A function that computes the greatest common divisor of two numbers using recursion.\n",
        "def gcd(a,b):\n",
        "  if b==0:\n",
        "    return a\n",
        "  else:\n",
        "    return gcd(b,a%b)\n",
        "result=gcd(48,36)\n",
        "print(result)"
      ],
      "metadata": {
        "colab": {
          "base_uri": "https://localhost:8080/"
        },
        "id": "NDvJTGvBeccH",
        "outputId": "16ca0b71-d1b9-429a-ad81-7eed610d6583"
      },
      "execution_count": null,
      "outputs": [
        {
          "output_type": "stream",
          "name": "stdout",
          "text": [
            "12\n"
          ]
        }
      ]
    },
    {
      "cell_type": "code",
      "source": [
        "# A function that sorts a list of integers using the quicksort algorithm.\n",
        "def quicksort(nums):\n",
        "    if len(nums) <= 1:\n",
        "        return nums\n",
        "    pivot = nums[0]\n",
        "    less = [x for x in nums[1:] if x < pivot]\n",
        "    greater = [x for x in nums[1:] if x >= pivot]\n",
        "    return quicksort(less) + [pivot] + quicksort(greater)\n",
        "\n",
        "result = quicksort([4, 2, 8, 1, 6, 5, 3, 7])\n",
        "print(result)"
      ],
      "metadata": {
        "colab": {
          "base_uri": "https://localhost:8080/"
        },
        "id": "q4GN-8Ofl7x5",
        "outputId": "9ba5295d-63e0-4ca2-c4d0-8ecc7ca8d500"
      },
      "execution_count": null,
      "outputs": [
        {
          "output_type": "stream",
          "name": "stdout",
          "text": [
            "[1, 2, 3, 4, 5, 6, 7, 8]\n"
          ]
        }
      ]
    },
    {
      "cell_type": "code",
      "source": [
        "# A function that computes the power of a number using recursion.\n",
        "def power(base,exponent):\n",
        "    if exponent==0:\n",
        "      return 1\n",
        "    else:\n",
        "      return base * power(base, exponent-1)\n",
        "result=power(2,3)\n",
        "print(result)"
      ],
      "metadata": {
        "colab": {
          "base_uri": "https://localhost:8080/"
        },
        "id": "Xs01pDKgm1GB",
        "outputId": "b4e71812-247f-4445-8892-d677c72ce34e"
      },
      "execution_count": null,
      "outputs": [
        {
          "output_type": "stream",
          "name": "stdout",
          "text": [
            "8\n"
          ]
        }
      ]
    },
    {
      "cell_type": "code",
      "source": [
        "# A function that reverses a string using recursion.\n",
        "def reverse(string):\n",
        "    if len(string)==0:\n",
        "     return string        \n",
        "    else:\n",
        "     return reverse (string[1:]) + string[0]\n",
        "result=reverse(\"hello\")\n",
        "result"
      ],
      "metadata": {
        "colab": {
          "base_uri": "https://localhost:8080/",
          "height": 35
        },
        "id": "9jbUbbgEooGB",
        "outputId": "543de798-a37a-4570-c787-7cab46718286"
      },
      "execution_count": null,
      "outputs": [
        {
          "output_type": "execute_result",
          "data": {
            "text/plain": [
              "'olleh'"
            ],
            "application/vnd.google.colaboratory.intrinsic+json": {
              "type": "string"
            }
          },
          "metadata": {},
          "execution_count": 229
        }
      ]
    },
    {
      "cell_type": "code",
      "source": [
        "# A function that computes the sum of digits of a number using recursion.\n",
        "def sum_of_digit(number):\n",
        "    if number < 10:\n",
        "       return number\n",
        "    else:\n",
        "       return number%10 + sum_of_digit(number//10)\n",
        "input_number=int(input(\"enter a numbers:\"))\n",
        "result=sum_of_digit(input_number)\n",
        "print(result)"
      ],
      "metadata": {
        "colab": {
          "base_uri": "https://localhost:8080/"
        },
        "id": "WcjxH7BMqfm-",
        "outputId": "39063011-cd89-4541-883b-fc8c4be04908"
      },
      "execution_count": null,
      "outputs": [
        {
          "output_type": "stream",
          "name": "stdout",
          "text": [
            "enter a numbers:236\n",
            "11\n"
          ]
        }
      ]
    },
    {
      "cell_type": "code",
      "source": [
        "# A function that computes the factorial of a number using recursion.\n",
        "def factorial(number):\n",
        "   if number == 0:\n",
        "        return 1\n",
        "   else:\n",
        "      return number * factorial(number-1)\n",
        "number=int(input(\"enter a number:\"))\n",
        "result = factorial(number)\n",
        "print(result)"
      ],
      "metadata": {
        "colab": {
          "base_uri": "https://localhost:8080/"
        },
        "id": "-awF-YyXtkWQ",
        "outputId": "ddfaccc7-3ed6-4f98-d04a-fc5a0334529b"
      },
      "execution_count": null,
      "outputs": [
        {
          "output_type": "stream",
          "name": "stdout",
          "text": [
            "enter a number:6\n",
            "720\n"
          ]
        }
      ]
    },
    {
      "cell_type": "markdown",
      "source": [
        "# **LIST COMPREHENSIONS**"
      ],
      "metadata": {
        "id": "MXMEHe3VljsN"
      }
    },
    {
      "cell_type": "code",
      "source": [
        "# Program to find the squares of numbers from 1 to 10 using list comprehension:\n",
        "squares=[x**2 for x in range(1,11)]\n",
        "print(squares)"
      ],
      "metadata": {
        "id": "7PDWvculz75p",
        "colab": {
          "base_uri": "https://localhost:8080/"
        },
        "outputId": "9551b6f9-c590-4192-f4b8-7c859cc5ee99"
      },
      "execution_count": null,
      "outputs": [
        {
          "output_type": "stream",
          "name": "stdout",
          "text": [
            "[1, 4, 9, 16, 25, 36, 49, 64, 81, 100]\n"
          ]
        }
      ]
    },
    {
      "cell_type": "code",
      "source": [
        "# Program to find the even numbers from 1 to 20 using list comprehension:\n",
        "even_numbers=[num for num in range (1,21) if num%2==0]\n",
        "print(even_numbers)"
      ],
      "metadata": {
        "colab": {
          "base_uri": "https://localhost:8080/"
        },
        "id": "6h0Ou7b5mKAm",
        "outputId": "24e5889c-63a5-4793-edc4-12d936438dd5"
      },
      "execution_count": null,
      "outputs": [
        {
          "output_type": "stream",
          "name": "stdout",
          "text": [
            "[2, 4, 6, 8, 10, 12, 14, 16, 18, 20]\n"
          ]
        }
      ]
    },
    {
      "cell_type": "code",
      "source": [
        "# Program to convert a list of strings to uppercase and capitalize using list comprehension:\n",
        "strings=['hello','world']\n",
        "uppercase=[s.capitalize() for s in strings]\n",
        "print(uppercase)\n",
        "\n",
        "strings=['hello','world']\n",
        "uppercase=[s.upper() for s in strings]\n",
        "print(uppercase)"
      ],
      "metadata": {
        "colab": {
          "base_uri": "https://localhost:8080/"
        },
        "id": "z7qqdLdvmzpY",
        "outputId": "e8d83b2f-1d75-4de1-8fa0-5783700335dc"
      },
      "execution_count": null,
      "outputs": [
        {
          "output_type": "stream",
          "name": "stdout",
          "text": [
            "['Hello', 'World']\n",
            "['HELLO', 'WORLD']\n"
          ]
        }
      ]
    },
    {
      "cell_type": "code",
      "source": [
        "# Program to create a list of tuples from two separate lists using list comprehension:\n",
        "list1=[1,2,3]\n",
        "list2=['a','b','c']\n",
        "pairs=[(x,y) for x in list1 for y in list2]\n",
        "print(pairs)"
      ],
      "metadata": {
        "colab": {
          "base_uri": "https://localhost:8080/"
        },
        "id": "I-u0gS0FntbB",
        "outputId": "62f5d943-0287-4bc5-dbfe-afb89191f1fd"
      },
      "execution_count": null,
      "outputs": [
        {
          "output_type": "stream",
          "name": "stdout",
          "text": [
            "[(1, 'a'), (1, 'b'), (1, 'c'), (2, 'a'), (2, 'b'), (2, 'c'), (3, 'a'), (3, 'b'), (3, 'c')]\n"
          ]
        }
      ]
    },
    {
      "cell_type": "code",
      "source": [
        "# Program to create a list of numbers divisible by both 2 and 3 using list comprehension:\n",
        "numbers=[6,12,15,18,20]\n",
        "divisible=[num for num in numbers if num%2==0 and num%3==0]\n",
        "print(divisible)"
      ],
      "metadata": {
        "colab": {
          "base_uri": "https://localhost:8080/"
        },
        "id": "NS2YlRG1oTGU",
        "outputId": "bb86c1ee-dd8d-4cae-eabe-9db72aea3398"
      },
      "execution_count": null,
      "outputs": [
        {
          "output_type": "stream",
          "name": "stdout",
          "text": [
            "[6, 12, 18]\n"
          ]
        }
      ]
    },
    {
      "cell_type": "code",
      "source": [
        "# Program to create a list of vowels from a given string using list comprehension:\n",
        "string=\"hello world \"\n",
        "vowels=[char for char in string if char in 'aeiouAEIOU']\n",
        "print(vowels)\n",
        "\n",
        "# string = \"Hello World\"\n",
        "# vowels = [char for char in string if char in 'aeiouAEIOU']\n",
        "# print(vowels)"
      ],
      "metadata": {
        "colab": {
          "base_uri": "https://localhost:8080/"
        },
        "id": "oIOxxpIzpHj6",
        "outputId": "9001d402-09ae-4805-a46a-5b786a1db838"
      },
      "execution_count": null,
      "outputs": [
        {
          "output_type": "stream",
          "name": "stdout",
          "text": [
            "['e', 'o', 'o']\n"
          ]
        }
      ]
    },
    {
      "cell_type": "code",
      "source": [
        "# Program to find the length of strings in a given list using list comprehension:\n",
        "strings=['hello','world','shubham','hero']\n",
        "string_length=[len(word) for word in strings]\n",
        "string_length"
      ],
      "metadata": {
        "colab": {
          "base_uri": "https://localhost:8080/"
        },
        "id": "GKGuQiUapzWm",
        "outputId": "b0b01602-935d-4014-f644-9ff5db86552f"
      },
      "execution_count": null,
      "outputs": [
        {
          "output_type": "execute_result",
          "data": {
            "text/plain": [
              "[5, 5, 7, 4]"
            ]
          },
          "metadata": {},
          "execution_count": 20
        }
      ]
    },
    {
      "cell_type": "code",
      "source": [
        "# Program to create a list of unique elements from a given list using list comprehension:\n",
        "numbers=[1,2,3,4,5,6,7,8,9,1,2,3,4,5,6,7,8,9]\n",
        "unique_numbers=tuple(set([number for number in numbers]))\n",
        "unique_numbers"
      ],
      "metadata": {
        "colab": {
          "base_uri": "https://localhost:8080/"
        },
        "id": "jMgmNqVsqZOD",
        "outputId": "2a0aefe5-fc23-41c6-9970-bd2f02814285"
      },
      "execution_count": null,
      "outputs": [
        {
          "output_type": "execute_result",
          "data": {
            "text/plain": [
              "(1, 2, 3, 4, 5, 6, 7, 8, 9)"
            ]
          },
          "metadata": {},
          "execution_count": 26
        }
      ]
    },
    {
      "cell_type": "code",
      "source": [
        "# Program to create a list of tuples from two separate lists where the elements in the tuple are equal using list comprehension:\n",
        "list1=[1,2,3]\n",
        "list2=[1,2,9]\n",
        "equal_pairs=[(x,y) for x in list1 for y in list2 if x==y]\n",
        "equal_pairs"
      ],
      "metadata": {
        "colab": {
          "base_uri": "https://localhost:8080/"
        },
        "id": "yT_rBSFuqfEX",
        "outputId": "1c57b47e-907c-434e-e504-72a814ee25f1"
      },
      "execution_count": null,
      "outputs": [
        {
          "output_type": "execute_result",
          "data": {
            "text/plain": [
              "[(1, 1), (2, 2)]"
            ]
          },
          "metadata": {},
          "execution_count": 29
        }
      ]
    },
    {
      "cell_type": "code",
      "source": [
        "# Program to create a list of all prime numbers less than a given number using list comprehension:\n",
        "n = 20\n",
        "primes = [x for x in range(2,n) if all(x % i != 0 for i in range(2, int(x**0.5)+1))]\n",
        "print(primes)"
      ],
      "metadata": {
        "colab": {
          "base_uri": "https://localhost:8080/"
        },
        "id": "fuV8p56vtdkV",
        "outputId": "c71990ba-78b9-4f9c-d269-f9afe4be0c7e"
      },
      "execution_count": null,
      "outputs": [
        {
          "output_type": "stream",
          "name": "stdout",
          "text": [
            "[2, 3, 5, 7, 11, 13, 17, 19]\n"
          ]
        }
      ]
    },
    {
      "cell_type": "code",
      "source": [
        "# Program to create a list of all possible permutations of a given string using list comprehension:\n",
        "import itertools\n",
        "string='abc'\n",
        "perms = [''.join(p) for p in itertools.permutations(string)]\n",
        "perms"
      ],
      "metadata": {
        "colab": {
          "base_uri": "https://localhost:8080/"
        },
        "id": "ICvDicj9tzZJ",
        "outputId": "9a660840-6e4a-4386-e423-6d0a3d1476a5"
      },
      "execution_count": null,
      "outputs": [
        {
          "output_type": "execute_result",
          "data": {
            "text/plain": [
              "['abc', 'acb', 'bac', 'bca', 'cab', 'cba']"
            ]
          },
          "metadata": {},
          "execution_count": 31
        }
      ]
    },
    {
      "cell_type": "markdown",
      "source": [
        "# **OOPS PROGRAMMING**"
      ],
      "metadata": {
        "id": "cqh5gDldy8bC"
      }
    },
    {
      "cell_type": "code",
      "source": [
        "class BankAccount:\n",
        "    def __init__(self, account_number, balance):\n",
        "        self.__account_number = account_number\n",
        "        self.__balance = balance\n",
        "    \n",
        "    def get_account_number(self):\n",
        "        return self.__account_number\n",
        "    \n",
        "    def get_balance(self):\n",
        "        return self.__balance\n",
        "    \n",
        "    def deposit(self, amount):\n",
        "        self.__balance += amount\n",
        "    \n",
        "    def withdraw(self, amount):\n",
        "        if amount <= self.__balance:\n",
        "            self.__balance -= amount\n",
        "        else:\n",
        "            print(\"Insufficient balance.\")\n",
        "    \n",
        "# Example usage\n",
        "account = BankAccount(\"123456\", 1000)\n",
        "print(\"Account number:\", account.get_account_number())\n",
        "print(\"Current balance:\", account.get_balance())\n",
        "account.deposit(500)\n",
        "print(\"New balance after deposit:\", account.get_balance())\n",
        "account.withdraw(200)\n",
        "print(\"New balance after withdrawal:\", account.get_balance())"
      ],
      "metadata": {
        "colab": {
          "base_uri": "https://localhost:8080/"
        },
        "id": "bMSiIUb85arX",
        "outputId": "2b6777b4-44be-455a-a4ff-139306b543b4"
      },
      "execution_count": null,
      "outputs": [
        {
          "output_type": "stream",
          "name": "stdout",
          "text": [
            "Account number: 123456\n",
            "Current balance: 1000\n",
            "New balance after deposit: 1500\n",
            "New balance after withdrawal: 1300\n"
          ]
        }
      ]
    }
  ]
}