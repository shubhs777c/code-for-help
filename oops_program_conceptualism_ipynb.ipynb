{
  "nbformat": 4,
  "nbformat_minor": 0,
  "metadata": {
    "colab": {
      "provenance": [],
      "authorship_tag": "ABX9TyNURx0NXM8HmodD+f48rU3S",
      "include_colab_link": true
    },
    "kernelspec": {
      "name": "python3",
      "display_name": "Python 3"
    },
    "language_info": {
      "name": "python"
    }
  },
  "cells": [
    {
      "cell_type": "markdown",
      "metadata": {
        "id": "view-in-github",
        "colab_type": "text"
      },
      "source": [
        "<a href=\"https://colab.research.google.com/github/shubhs777c/python-practice/blob/main/oops_program_conceptualism_ipynb.ipynb\" target=\"_parent\"><img src=\"https://colab.research.google.com/assets/colab-badge.svg\" alt=\"Open In Colab\"/></a>"
      ]
    },
    {
      "cell_type": "code",
      "source": [
        "# Basic oops concept: \n",
        "\n",
        "class Vehicle:\n",
        "    def __init__(self, make, model, year):\n",
        "        self.make = make\n",
        "        self.model = model\n",
        "        self.year = year\n",
        "        \n",
        "    def get_make(self):\n",
        "        return self.make\n",
        "    \n",
        "    def get_model(self):\n",
        "        return self.model\n",
        "    \n",
        "    def get_year(self):\n",
        "        return self.year\n",
        "    \n",
        "    def drive(self):\n",
        "        print(\"The\", self.make, self.model, \"is driving.\")\n",
        "\n",
        "# In this program, we define a base class Vehicle and two derived classes Car and Motorcycle.\n",
        "# The Vehicle class has attributes make, model, and year, and methods get_make, get_model, and get_year to retrieve these attributes.\n",
        "# It also has a drive method which is overridden in the derived classes.\n",
        "        \n",
        "class Car(Vehicle):\n",
        "    def __init__(self, make, model, year, num_doors):\n",
        "        super().__init__(make, model, year)\n",
        "        self.num_doors = num_doors\n",
        "        \n",
        "    def get_num_doors(self):\n",
        "        return self.num_doors\n",
        "    \n",
        "    def drive(self):\n",
        "        print(\"The\", self.make, self.model, \"car with\", self.num_doors, \"doors is driving.\")\n",
        "\n",
        "# The Car class inherits from Vehicle and adds an attribute num_doors and a get_num_doors method. \n",
        "# It also overrides the drive method to include the number of doors.\n",
        "\n",
        "class Motorcycle(Vehicle):\n",
        "    def __init__(self, make, model, year, engine_size):\n",
        "        super().__init__(make, model, year)\n",
        "        self.engine_size = engine_size\n",
        "        \n",
        "    def get_engine_size(self):\n",
        "        return self.engine_size\n",
        "    \n",
        "    def drive(self):\n",
        "        print(\"The\", self.make, self.model, \"motorcycle with a\", self.engine_size, \"engine is driving.\")\n",
        "\n",
        "# The Motorcycle class inherits from Vehicle and adds an attribute engine_size and a get_engine_size method. \n",
        "# It also overrides the drive method to include the engine size.\n",
        "\n",
        "car1 = Car(\"Toyota\", \"Camry\", 2022, 4)\n",
        "motorcycle1 = Motorcycle(\"Honda\", \"CBR1000RR\", 2021, \"1000cc\")\n",
        "\n",
        "print(\"Car:\", car1.get_make(), car1.get_model(), car1.get_year(), car1.get_num_doors(), \"doors\")\n",
        "print(\"Motorcycle:\", motorcycle1.get_make(), motorcycle1.get_model(), motorcycle1.get_year(), motorcycle1.get_engine_size(), \"engine\")\n",
        "\n",
        "car1.drive()\n",
        "motorcycle1.drive()\n",
        "\n",
        "# In the last part of the program, we create instances of Car and Motorcycle, and print their attributes using the get methods. \n",
        "# We then call the drive method on both instances to see the overridden behavior."
      ],
      "metadata": {
        "colab": {
          "base_uri": "https://localhost:8080/"
        },
        "id": "1guMHBPIz1FK",
        "outputId": "c741f467-4012-4ad4-bffb-328ee1b2145a"
      },
      "execution_count": null,
      "outputs": [
        {
          "output_type": "stream",
          "name": "stdout",
          "text": [
            "Car: Toyota Camry 2022 4 doors\n",
            "Motorcycle: Honda CBR1000RR 2021 1000cc engine\n",
            "The Toyota Camry car with 4 doors is driving.\n",
            "The Honda CBR1000RR motorcycle with a 1000cc engine is driving.\n"
          ]
        }
      ]
    },
    {
      "cell_type": "code",
      "execution_count": null,
      "metadata": {
        "colab": {
          "base_uri": "https://localhost:8080/"
        },
        "id": "UTinpvPWy80D",
        "outputId": "a217bcac-d0e8-4eab-ddfc-cd78adabdb29"
      },
      "outputs": [
        {
          "output_type": "stream",
          "name": "stdout",
          "text": [
            "Name: John\n",
            "Age: 30\n",
            "*******\n",
            "Name: Babu\n",
            "Age: 35\n",
            "*******\n",
            "Name: Babu\n",
            "Age: 35\n"
          ]
        }
      ],
      "source": [
        "# Encapsulation code :\n",
        "\n",
        "class Person:\n",
        "    def __init__(self, name, age):\n",
        "        self.__name = name # private attribute\n",
        "        self.__age = age # private attribute\n",
        "\n",
        "# In this program, the Person class has two private attributes (__name and __age) which are accessed only within the class using getter and setter methods. \n",
        "        \n",
        "    def display_details(self):\n",
        "        print(\"Name:\", self.__name)\n",
        "        print(\"Age:\", self.__age)\n",
        "\n",
        "# The display_details method is used to print the values of these private attributes.  \n",
        "\n",
        "    def set_name(self, name):\n",
        "        self.__name = name\n",
        "    def set_age(self, age):\n",
        "        self.__age = age\n",
        "    \n",
        "# The set_age method is used to set the value of the __age attribute and __name attribute.\n",
        "        \n",
        "    def get_name(self):\n",
        "        return self.__name\n",
        "    def get_age(self):\n",
        "        return self.__age\n",
        "\n",
        "# and the get_age method is used to retrieve the value of the __age attribute.\n",
        "\n",
        "person1 = Person(\"John\", 30)\n",
        "person1.display_details()\n",
        "\n",
        "print(\"*******\")\n",
        "\n",
        "person1.set_name(\"Babu\")\n",
        "person1.set_age(35)\n",
        "person1.display_details()\n",
        "\n",
        "print(\"*******\")\n",
        "\n",
        "person1.__age = 40        \n",
        "person1.display_details()\n",
        "\n",
        "# Will not work as __age is a private attribute .\n",
        "# In the last part of the program, an attempt is made to modify the __age attribute directly, \n",
        "# which fails because it is private and can only be accessed through its getter and setter methods."
      ]
    },
    {
      "cell_type": "code",
      "source": [
        "# inheritance in oops.\n",
        "\n",
        "# In this program, we define a base class Animal and two derived classes Dog and Cat.\n",
        "class Animal:\n",
        "    def __init__(self, name, species):\n",
        "        self.name = name\n",
        "        self.species = species\n",
        "        \n",
        "    def make_sound(self):\n",
        "        print(\"The\", self.species, self.name, \"says something.\")\n",
        "\n",
        "# The Animal class has attributes name and species, and a make_sound method that prints a generic sound message.\n",
        "\n",
        "class Dog(Animal):\n",
        "    def __init__(self, name, breed):\n",
        "        super().__init__(name, \"Dog\")\n",
        "        self.breed = breed\n",
        "        \n",
        "    def make_sound(self):\n",
        "        print(\"The\", self.breed, \"dog\", self.name, \"barks.\")\n",
        "\n",
        "# The Dog class inherits from Animal and adds an attribute breed and overrides the make_sound method to print a bark message.\n",
        "\n",
        "class Cat(Animal):\n",
        "    def __init__(self, name, color):\n",
        "        super().__init__(name, \"Cat\")\n",
        "        self.color = color\n",
        "        \n",
        "    def make_sound(self):\n",
        "        print(\"The\", self.color, \"cat\", self.name, \"meows.\")\n",
        "\n",
        "# The Cat class inherits from Animal and adds an attribute color and overrides the make_sound method to print a meow message.\n",
        " \n",
        "animal1 = Animal(\"Elephant\", \"Mammal\")\n",
        "dog1 = Dog(\"Rex\", \"German Shepherd\")\n",
        "cat1 = Cat(\"Whiskers\", \"Black\")\n",
        "\n",
        "animal1.make_sound()\n",
        "dog1.make_sound()\n",
        "cat1.make_sound()\n",
        "\n",
        "# In the last part of the program, we create instances of Animal, Dog, and Cat, and call their make_sound methods to see the overridden behavior. \n",
        "# We can see that the make_sound method of each derived class prints a species-specific sound message, \n",
        "# while the make_sound method of the base class prints a generic sound message. This demonstrates the concept of inheritance in OOP, \n",
        "# where the derived classes inherit the attributes and methods of the base class and can override them to add their own specific behavior."
      ],
      "metadata": {
        "colab": {
          "base_uri": "https://localhost:8080/"
        },
        "id": "upBkE8X5V5Pa",
        "outputId": "5ea38f8b-7ea4-43bf-d6e9-51acf3af8fc3"
      },
      "execution_count": null,
      "outputs": [
        {
          "output_type": "stream",
          "name": "stdout",
          "text": [
            "The Mammal Elephant says something.\n",
            "The German Shepherd dog Rex barks.\n",
            "The Black cat Whiskers meows.\n"
          ]
        }
      ]
    },
    {
      "cell_type": "code",
      "source": [
        "# polymorphism in oops .\n",
        "\n",
        "# In this program, we define an Animal base class with an __init__ method and a make_sound method,\n",
        "#  which is marked as abstract by not providing an implementation.\n",
        "\n",
        "class Animal:\n",
        "    def __init__(self, name):\n",
        "        self.name = name\n",
        "\n",
        "    def make_sound(self):\n",
        "        pass\n",
        "\n",
        "class Dog(Animal):\n",
        "    def make_sound(self):\n",
        "        print(self.name + \" says woof!\")\n",
        "\n",
        "class Cat(Animal):\n",
        "    def make_sound(self):\n",
        "        print(self.name + \" says meow!\")\n",
        "\n",
        "class Cow(Animal):\n",
        "    def make_sound(self):\n",
        "        print(self.name + \" says moo!\")\n",
        "\n",
        "#  We then define three subclasses of Animal: Dog, Cat, and Cow.\n",
        "# Each of these subclasses overrides the make_sound method with a specific implementation for that animal.\n",
        "\n",
        "animals = [Dog(\"Buddy\"), Cat(\"Whiskers\"), Cow(\"Betsy\")]\n",
        "# Finally, we create a list of Animal objects, containing one instance of each subclass.\n",
        "\n",
        "for animal in animals:\n",
        "    animal.make_sound()\n",
        "# We then loop through this list and call the make_sound method on each animal.\n",
        " \n",
        "#  Because of polymorphism, each animal will produce a different sound when its make_sound method is called, \n",
        "#  even though we are calling the same method on each object.\n",
        "#   This is because each subclass of Animal has its own implementation of make_sound, demonstrating the concept of polymorphism."
      ],
      "metadata": {
        "colab": {
          "base_uri": "https://localhost:8080/"
        },
        "id": "fUfu5gfScFTO",
        "outputId": "fa3041d9-6a69-4ebb-95a4-ecd46c940f9e"
      },
      "execution_count": null,
      "outputs": [
        {
          "output_type": "stream",
          "name": "stdout",
          "text": [
            "Buddy says woof!\n",
            "Whiskers says meow!\n",
            "Betsy says moo!\n"
          ]
        }
      ]
    },
    {
      "cell_type": "code",
      "source": [
        "# abstraction in oops.\n",
        "\n",
        "from abc import ABC, abstractmethod\n",
        "\n",
        "class Shape(ABC):\n",
        "    @abstractmethod\n",
        "    def area(self):\n",
        "        pass\n",
        "    \n",
        "    @abstractmethod\n",
        "    def perimeter(self):\n",
        "        pass\n",
        "    \n",
        "class Square(Shape):\n",
        "    def __init__(self, side):\n",
        "        self.side = side\n",
        "    \n",
        "    def area(self):\n",
        "        return self.side ** 2\n",
        "    \n",
        "    def perimeter(self):\n",
        "        return 4 * self.side\n",
        "\n",
        "class Circle(Shape):\n",
        "    def __init__(self, radius):\n",
        "        self.radius = radius\n",
        "    \n",
        "    def area(self):\n",
        "        return 3.14 * (self.radius ** 2)\n",
        "    \n",
        "    def perimeter(self):\n",
        "        return 2 * 3.14 * self.radius\n",
        "    \n",
        "s = Square(5)\n",
        "c = Circle(3)\n",
        "\n",
        "print(\"Area of Square:\", s.area())\n",
        "print(\"Perimeter of Square:\", s.perimeter())\n",
        "print(\"Area of Circle:\", c.area())\n",
        "print(\"Perimeter of Circle:\", c.perimeter())\n",
        "\n",
        "\n",
        "# In this example, we have defined an abstract class Shape that has two abstract methods, area() and perimeter(). \n",
        "# We cannot create an object of the Shape class, as it is an abstract class. \n",
        "# Instead, we create two concrete classes, Square and Circle, that inherit from the Shape class and implement the abstract methods.\n",
        "\n",
        "\n",
        "# The Square class takes the length of the side of the square as input and calculates its area and perimeter using the area() and perimeter() methods.\n",
        "#  Similarly, the Circle class takes the radius of the circle as input and calculates its area and perimeter using the area() and perimeter() methods.\n",
        "\n",
        "# Finally, we create objects of the Square and Circle classes and call their area() and perimeter() methods to calculate their respective areas and perimeters.\n",
        "\n",
        "# Note that the Shape class serves as an abstraction, as it defines what methods must be implemented by the concrete classes,\n",
        "#  without specifying how they should be implemented."
      ],
      "metadata": {
        "colab": {
          "base_uri": "https://localhost:8080/"
        },
        "id": "lOSjg2-8nXZv",
        "outputId": "0bcd1f14-90ca-4473-e88b-03791f59379e"
      },
      "execution_count": null,
      "outputs": [
        {
          "output_type": "stream",
          "name": "stdout",
          "text": [
            "Area of Square: 25\n",
            "Perimeter of Square: 20\n",
            "Area of Circle: 28.26\n",
            "Perimeter of Circle: 18.84\n"
          ]
        }
      ]
    }
  ]
}