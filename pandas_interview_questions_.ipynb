{
  "nbformat": 4,
  "nbformat_minor": 0,
  "metadata": {
    "colab": {
      "provenance": [],
      "authorship_tag": "ABX9TyNtMZ21b49KlHPP6ueembo8",
      "include_colab_link": true
    },
    "kernelspec": {
      "name": "python3",
      "display_name": "Python 3"
    },
    "language_info": {
      "name": "python"
    }
  },
  "cells": [
    {
      "cell_type": "markdown",
      "metadata": {
        "id": "view-in-github",
        "colab_type": "text"
      },
      "source": [
        "<a href=\"https://colab.research.google.com/github/shubhs777c/python-practice/blob/main/pandas_interview_questions_.ipynb\" target=\"_parent\"><img src=\"https://colab.research.google.com/assets/colab-badge.svg\" alt=\"Open In Colab\"/></a>"
      ]
    },
    {
      "cell_type": "code",
      "execution_count": null,
      "metadata": {
        "colab": {
          "base_uri": "https://localhost:8080/"
        },
        "id": "XaFB08i2lEAO",
        "outputId": "ec8c6448-5f30-4c78-b79d-56cb4ead2e06"
      },
      "outputs": [
        {
          "output_type": "stream",
          "name": "stdout",
          "text": [
            "      name  age    country\n",
            "0    Alice   25        USA\n",
            "1      Bob   32     Canada\n",
            "2  Charlie   18         UK\n",
            "3    David   47  Australia\n"
          ]
        }
      ],
      "source": [
        "# how do you create dataframe in pandas.\n",
        "# Creating a DataFrame from a dictionary:\n",
        "import pandas as pd\n",
        "\n",
        "data = {'name': ['Alice', 'Bob', 'Charlie', 'David'],\n",
        "        'age': [25, 32, 18, 47],\n",
        "        'country': ['USA', 'Canada', 'UK', 'Australia']}\n",
        "\n",
        "df = pd.DataFrame(data)\n",
        "print(df)\n"
      ]
    },
    {
      "cell_type": "code",
      "source": [
        "# Creating a DataFrame from a list of lists:\n",
        "import pandas as pd\n",
        "\n",
        "data = [['Alice', 25, 'USA'], \n",
        "        ['Bob', 32, 'Canada'], \n",
        "        ['Charlie', 18, 'UK'], \n",
        "        ['David', 47, 'Australia']]\n",
        "\n",
        "df = pd.DataFrame(data, columns=['name', 'age', 'country'])\n",
        "print(df)\n"
      ],
      "metadata": {
        "colab": {
          "base_uri": "https://localhost:8080/"
        },
        "id": "liyazYG718iC",
        "outputId": "5d109313-c262-4a0d-cdb1-be08c52592e4"
      },
      "execution_count": null,
      "outputs": [
        {
          "output_type": "stream",
          "name": "stdout",
          "text": [
            "      name  age    country\n",
            "0    Alice   25        USA\n",
            "1      Bob   32     Canada\n",
            "2  Charlie   18         UK\n",
            "3    David   47  Australia\n"
          ]
        }
      ]
    },
    {
      "cell_type": "code",
      "source": [
        "# Creating a DataFrame from a NumPy array:\n",
        "import pandas as pd\n",
        "import numpy as np\n",
        "\n",
        "data = np.array([[1, 2, 3], [4, 5, 6], [7, 8, 9]])\n",
        "\n",
        "df = pd.DataFrame(data, columns=['A', 'B', 'C'])\n",
        "print(df)\n"
      ],
      "metadata": {
        "colab": {
          "base_uri": "https://localhost:8080/"
        },
        "id": "7-TDgo7B2G6F",
        "outputId": "b15c63de-3c00-4cfe-c889-e120790b1e9f"
      },
      "execution_count": null,
      "outputs": [
        {
          "output_type": "stream",
          "name": "stdout",
          "text": [
            "   A  B  C\n",
            "0  1  2  3\n",
            "1  4  5  6\n",
            "2  7  8  9\n"
          ]
        }
      ]
    },
    {
      "cell_type": "code",
      "source": [
        "# how can you select specific columns from a dataframe in pandas.\n",
        "# Selecting one column:\n",
        "import pandas as pd\n",
        "\n",
        "data = {'name': ['Alice', 'Bob', 'Charlie', 'David'],\n",
        "        'age': [25, 32, 18, 47],\n",
        "        'country': ['USA', 'Canada', 'UK', 'Australia']}\n",
        "\n",
        "df = pd.DataFrame(data)\n",
        "name_col = df['name']\n",
        "\n",
        "print(name_col)\n"
      ],
      "metadata": {
        "colab": {
          "base_uri": "https://localhost:8080/"
        },
        "id": "kYnvpN-h2RLH",
        "outputId": "48ed466b-9804-4d3c-df74-b0b1cb625e65"
      },
      "execution_count": null,
      "outputs": [
        {
          "output_type": "stream",
          "name": "stdout",
          "text": [
            "0      Alice\n",
            "1        Bob\n",
            "2    Charlie\n",
            "3      David\n",
            "Name: name, dtype: object\n"
          ]
        }
      ]
    },
    {
      "cell_type": "code",
      "source": [
        "# Selecting multiple columns:\n",
        "import pandas as pd\n",
        "\n",
        "data = {'name': ['Alice', 'Bob', 'Charlie', 'David'],\n",
        "        'age': [25, 32, 18, 47],\n",
        "        'country': ['USA', 'Canada', 'UK', 'Australia']}\n",
        "\n",
        "df = pd.DataFrame(data)\n",
        "selected_cols = df[['name', 'age']]\n",
        "\n",
        "print(selected_cols)\n"
      ],
      "metadata": {
        "colab": {
          "base_uri": "https://localhost:8080/"
        },
        "id": "zTDbUISs2dAt",
        "outputId": "332ee7ce-ddb0-4d3a-aa10-347702c91adf"
      },
      "execution_count": null,
      "outputs": [
        {
          "output_type": "stream",
          "name": "stdout",
          "text": [
            "      name  age\n",
            "0    Alice   25\n",
            "1      Bob   32\n",
            "2  Charlie   18\n",
            "3    David   47\n"
          ]
        }
      ]
    },
    {
      "cell_type": "code",
      "source": [
        "# Selecting columns using iloc or loc:\n",
        "import pandas as pd\n",
        "\n",
        "data = {'name': ['Alice', 'Bob', 'Charlie', 'David'],\n",
        "        'age': [25, 32, 18, 47],\n",
        "        'country': ['USA', 'Canada', 'UK', 'Australia']}\n",
        "\n",
        "df = pd.DataFrame(data)\n",
        "selected_cols = df.iloc[:, 0:2]  # Select columns 0 and 1 (name and age)\n",
        "\n",
        "print(selected_cols)\n"
      ],
      "metadata": {
        "colab": {
          "base_uri": "https://localhost:8080/"
        },
        "id": "qTn6zmFt2kvd",
        "outputId": "1864f331-f2cf-4ac5-b099-553d9f862f9f"
      },
      "execution_count": null,
      "outputs": [
        {
          "output_type": "stream",
          "name": "stdout",
          "text": [
            "      name  age\n",
            "0    Alice   25\n",
            "1      Bob   32\n",
            "2  Charlie   18\n",
            "3    David   47\n"
          ]
        }
      ]
    },
    {
      "cell_type": "code",
      "source": [
        "# how do you filter roes in a dataframe based on a conditions in pandas.\n",
        "import pandas as pd\n",
        "\n",
        "data = {'name': ['Alice', 'Bob', 'Charlie', 'David'],\n",
        "        'age': [25, 32, 18, 47],\n",
        "        'country': ['USA', 'Canada', 'UK', 'Australia']}\n",
        "\n",
        "df = pd.DataFrame(data)\n",
        "\n",
        "# Filter rows where age is greater than or equal to 30\n",
        "filtered_df = df[df['age'] >= 30]\n",
        "\n",
        "print(filtered_df)\n",
        "\n",
        "# Filter rows where age is between 30 and 40, and country is USA or Canada\n",
        "filtered_df = df[(df['age'] >= 30) & (df['age'] <= 40) & ((df['country'] == 'USA') | (df['country'] == 'Canada'))]\n",
        "print(\"\")\n",
        "print(filtered_df)\n",
        "\n"
      ],
      "metadata": {
        "colab": {
          "base_uri": "https://localhost:8080/"
        },
        "id": "4MFjysfJ2zDf",
        "outputId": "6ca6a7cb-8bae-4ea8-d721-96831066f52e"
      },
      "execution_count": null,
      "outputs": [
        {
          "output_type": "stream",
          "name": "stdout",
          "text": [
            "    name  age    country\n",
            "1    Bob   32     Canada\n",
            "3  David   47  Australia\n",
            "\n",
            "  name  age country\n",
            "1  Bob   32  Canada\n"
          ]
        }
      ]
    },
    {
      "cell_type": "code",
      "source": [
        "# how do you handle missing values in a dataframe.\n",
        "# isnull() and notnull() methods:\n",
        "import pandas as pd\n",
        "import numpy as np\n",
        "\n",
        "data = {'name': ['Alice', 'Bob', 'Charlie', 'David'],\n",
        "        'age': [25, np.nan, 18, 47],\n",
        "        'country': ['USA', 'Canada', np.nan, 'Australia']}\n",
        "\n",
        "df = pd.DataFrame(data)\n",
        "\n",
        "# Count the number of missing values in each column\n",
        "print(df.isnull().sum())\n",
        "\n",
        "# Filter rows with missing values in any column\n",
        "filtered_df = df[df.isnull().any(axis=1)]\n",
        "print(filtered_df)\n"
      ],
      "metadata": {
        "colab": {
          "base_uri": "https://localhost:8080/"
        },
        "id": "H61UgIkA25q1",
        "outputId": "561ed0a0-43bf-40f6-c124-0b877ff83708"
      },
      "execution_count": null,
      "outputs": [
        {
          "output_type": "stream",
          "name": "stdout",
          "text": [
            "name       0\n",
            "age        1\n",
            "country    1\n",
            "dtype: int64\n",
            "      name   age country\n",
            "1      Bob   NaN  Canada\n",
            "2  Charlie  18.0     NaN\n"
          ]
        }
      ]
    },
    {
      "cell_type": "code",
      "source": [
        "# fillna() method:\n",
        "import pandas as pd\n",
        "import numpy as np\n",
        "\n",
        "data = {'name': ['Alice', 'Bob', 'Charlie', 'David'],\n",
        "        'age': [25, np.nan, 18, 47],\n",
        "        'country': ['USA', 'Canada', np.nan, 'Australia']}\n",
        "\n",
        "df = pd.DataFrame(data)\n",
        "\n",
        "# Fill missing values with 0\n",
        "filled_df = df.fillna(0)\n",
        "print(filled_df)\n",
        "print(\" \")\n",
        "# Fill missing values with the previous non-missing value (ffill)\n",
        "ffill_df = df.fillna(method='ffill')\n",
        "print(ffill_df)\n"
      ],
      "metadata": {
        "colab": {
          "base_uri": "https://localhost:8080/"
        },
        "id": "as4dPEWz3wMc",
        "outputId": "ec5f6104-7c06-429f-ca71-47e12cc31241"
      },
      "execution_count": null,
      "outputs": [
        {
          "output_type": "stream",
          "name": "stdout",
          "text": [
            "      name   age    country\n",
            "0    Alice  25.0        USA\n",
            "1      Bob   0.0     Canada\n",
            "2  Charlie  18.0          0\n",
            "3    David  47.0  Australia\n",
            " \n",
            "      name   age    country\n",
            "0    Alice  25.0        USA\n",
            "1      Bob  25.0     Canada\n",
            "2  Charlie  18.0     Canada\n",
            "3    David  47.0  Australia\n"
          ]
        }
      ]
    },
    {
      "cell_type": "code",
      "source": [
        "# dropna() method:\n",
        "import pandas as pd\n",
        "import numpy as np\n",
        "\n",
        "data = {'name': ['Alice', 'Bob', 'Charlie', 'David'],\n",
        "        'age': [25, np.nan, 18, 47],\n",
        "        'country': ['USA', 'Canada', np.nan, 'Australia']}\n",
        "\n",
        "df = pd.DataFrame(data)\n",
        "\n",
        "# Remove rows with any missing value\n",
        "dropped_rows_df = df.dropna()\n",
        "print(dropped_rows_df)\n",
        "\n",
        "# Remove columns with less than 3 non-missing values\n",
        "dropped_cols_df = df.drop\n"
      ],
      "metadata": {
        "colab": {
          "base_uri": "https://localhost:8080/"
        },
        "id": "xLNss95G4FzN",
        "outputId": "c78e5367-e68a-45a0-f306-14d1db516f1d"
      },
      "execution_count": null,
      "outputs": [
        {
          "output_type": "stream",
          "name": "stdout",
          "text": [
            "    name   age    country\n",
            "0  Alice  25.0        USA\n",
            "3  David  47.0  Australia\n"
          ]
        }
      ]
    },
    {
      "cell_type": "code",
      "source": [
        "# how do you merge two dataframes in pandas.\n",
        "import pandas as pd\n",
        "\n",
        "# Create two sample dataframes\n",
        "df1 = pd.DataFrame({'id': [1, 2, 3, 4],\n",
        "                    'name': ['Alice', 'Bob', 'Charlie', 'David']})\n",
        "\n",
        "df2 = pd.DataFrame({'id': [2, 3, 4, 5],\n",
        "                    'age': [25, 18, 47, 32]})\n",
        "\n",
        "# Merge the two dataframes based on the 'id' column\n",
        "merged_df = pd.merge(df1, df2, on='id')\n",
        "\n",
        "print(merged_df)\n"
      ],
      "metadata": {
        "colab": {
          "base_uri": "https://localhost:8080/"
        },
        "id": "yAxYsOUz4PHe",
        "outputId": "368732dd-c5ba-4723-908e-85a16f616c35"
      },
      "execution_count": null,
      "outputs": [
        {
          "output_type": "stream",
          "name": "stdout",
          "text": [
            "   id     name  age\n",
            "0   2      Bob   25\n",
            "1   3  Charlie   18\n",
            "2   4    David   47\n"
          ]
        }
      ]
    },
    {
      "cell_type": "code",
      "source": [
        "# how do you perform groupby operations in pandas.\n",
        "import pandas as pd\n",
        "\n",
        "# Create a sample dataframe\n",
        "data = {'Name': ['Alice', 'Bob', 'Charlie', 'David', 'Emma', 'Frank'],\n",
        "        'Gender': ['F', 'M', 'M', 'M', 'F', 'M'],\n",
        "        'Age': [25, 30, 18, 47, 32, 22],\n",
        "        'Salary': [50000, 70000, 20000, 90000, 60000, 30000]}\n",
        "\n",
        "df = pd.DataFrame(data)\n",
        "\n",
        "# Group the dataframe by gender and calculate the mean age and salary for each group\n",
        "grouped = df.groupby(['Gender']).agg({'Age': 'mean', 'Salary': 'mean'})\n",
        "\n",
        "print(grouped)\n"
      ],
      "metadata": {
        "colab": {
          "base_uri": "https://localhost:8080/"
        },
        "id": "nZfRn_FJ4ZDv",
        "outputId": "92da7f7e-ceea-454b-f15c-2f8cea043122"
      },
      "execution_count": null,
      "outputs": [
        {
          "output_type": "stream",
          "name": "stdout",
          "text": [
            "          Age   Salary\n",
            "Gender                \n",
            "F       28.50  55000.0\n",
            "M       29.25  52500.0\n"
          ]
        }
      ]
    },
    {
      "cell_type": "code",
      "source": [
        "# how do you rename columns in a dataframe using pandas.\n",
        "import pandas as pd\n",
        "\n",
        "# Create a sample dataframe\n",
        "data = {'Name': ['Alice', 'Bob', 'Charlie', 'David'],\n",
        "        'Gender': ['F', 'M', 'M', 'M'],\n",
        "        'Age': [25, 30, 18, 47]}\n",
        "\n",
        "df = pd.DataFrame(data)\n",
        "\n",
        "# Rename the 'Gender' and 'Age' columns\n",
        "df = df.rename(columns={'Gender': 'Sex', 'Age': 'Years'})\n",
        "\n",
        "print(df)\n"
      ],
      "metadata": {
        "colab": {
          "base_uri": "https://localhost:8080/"
        },
        "id": "5R4nKolC4iSx",
        "outputId": "a4802c62-338b-4006-97ff-94cb12485970"
      },
      "execution_count": null,
      "outputs": [
        {
          "output_type": "stream",
          "name": "stdout",
          "text": [
            "      Name Sex  Years\n",
            "0    Alice   F     25\n",
            "1      Bob   M     30\n",
            "2  Charlie   M     18\n",
            "3    David   M     47\n"
          ]
        }
      ]
    },
    {
      "cell_type": "code",
      "source": [
        "# how do you sort a dataframe by a specific column in pandas.\n",
        "import pandas as pd\n",
        "\n",
        "# create a sample dataframe\n",
        "df = pd.DataFrame({\n",
        "    'Name': ['Alice', 'Bob', 'Charlie', 'David'],\n",
        "    'Age': [25, 30, 20, 35],\n",
        "    'Salary': [50000, 70000, 45000, 80000]\n",
        "})\n",
        "\n",
        "# sort the dataframe by the 'Salary' column in descending order\n",
        "df_sorted = df.sort_values('Salary', ascending=False)\n",
        "\n",
        "print(df_sorted)\n"
      ],
      "metadata": {
        "colab": {
          "base_uri": "https://localhost:8080/"
        },
        "id": "K3W3smfq5MF1",
        "outputId": "45d90604-48f0-4a5f-a2ae-811da3c2ba1e"
      },
      "execution_count": null,
      "outputs": [
        {
          "output_type": "stream",
          "name": "stdout",
          "text": [
            "      Name  Age  Salary\n",
            "3    David   35   80000\n",
            "1      Bob   30   70000\n",
            "0    Alice   25   50000\n",
            "2  Charlie   20   45000\n"
          ]
        }
      ]
    },
    {
      "cell_type": "code",
      "source": [
        "# how do you aggregate data using pandas.\n",
        "import pandas as pd\n",
        "\n",
        "# create a sample dataframe\n",
        "df = pd.DataFrame({\n",
        "    'Gender': ['Male', 'Female', 'Female', 'Male', 'Male'],\n",
        "    'Age': [25, 30, 20, 35, 28],\n",
        "    'Salary': [50000, 70000, 45000, 80000, 60000]\n",
        "})\n",
        "\n",
        "# group by 'Gender' and compute the mean of 'Salary'\n",
        "df_grouped = df.groupby('Gender').mean()\n",
        "\n",
        "print(df_grouped)\n"
      ],
      "metadata": {
        "colab": {
          "base_uri": "https://localhost:8080/"
        },
        "id": "vTqm1H5u5Xsn",
        "outputId": "a653293c-77be-4714-c788-a521b99db28e"
      },
      "execution_count": null,
      "outputs": [
        {
          "output_type": "stream",
          "name": "stdout",
          "text": [
            "              Age        Salary\n",
            "Gender                         \n",
            "Female  25.000000  57500.000000\n",
            "Male    29.333333  63333.333333\n"
          ]
        }
      ]
    },
    {
      "cell_type": "code",
      "source": [
        "# Compute multiple summary statistics for each group:\n",
        "# group by 'Gender' and compute the mean and standard deviation of 'Salary'\n",
        "df_grouped = df.groupby('Gender').agg({'Salary': ['mean', 'std']})\n",
        "\n",
        "print(df_grouped)\n"
      ],
      "metadata": {
        "colab": {
          "base_uri": "https://localhost:8080/"
        },
        "id": "WxQhdEiD5mCX",
        "outputId": "7b5e0553-56ff-4b72-ed3d-564c002e7467"
      },
      "execution_count": null,
      "outputs": [
        {
          "output_type": "stream",
          "name": "stdout",
          "text": [
            "              Salary              \n",
            "                mean           std\n",
            "Gender                            \n",
            "Female  57500.000000  17677.669530\n",
            "Male    63333.333333  15275.252317\n"
          ]
        }
      ]
    },
    {
      "cell_type": "code",
      "source": [
        "# Group by multiple columns and compute summary statistics for each group:\n",
        "# group by 'Gender' and 'Age' and compute the mean and count of 'Salary'\n",
        "df_grouped = df.groupby(['Gender', 'Age']).agg({'Salary': ['mean', 'count']})\n",
        "\n",
        "print(df_grouped)\n"
      ],
      "metadata": {
        "colab": {
          "base_uri": "https://localhost:8080/"
        },
        "id": "VOmyYiRO5vHc",
        "outputId": "b847122d-04da-45e5-b4ef-545558fdb2c0"
      },
      "execution_count": null,
      "outputs": [
        {
          "output_type": "stream",
          "name": "stdout",
          "text": [
            "             Salary      \n",
            "               mean count\n",
            "Gender Age               \n",
            "Female 20   45000.0     1\n",
            "       30   70000.0     1\n",
            "Male   25   50000.0     1\n",
            "       28   60000.0     1\n",
            "       35   80000.0     1\n"
          ]
        }
      ]
    },
    {
      "cell_type": "code",
      "source": [
        "# how do you apply a function to each element in a dataframe in pandas.\n",
        "import pandas as pd\n",
        "\n",
        "# create a sample dataframe\n",
        "df = pd.DataFrame({\n",
        "    'Name': ['Alice', 'Bob', 'Charlie', 'David'],\n",
        "    'Age': [25, 30, 20, 35],\n",
        "    'Salary': [50000, 70000, 45000, 80000]\n",
        "})\n",
        "\n",
        "# define a function to add 100 to a number\n",
        "def add_100(x):\n",
        "    return x + 100\n",
        "\n",
        "# apply the function to each element in the 'Salary' column\n",
        "df['Salary'] = df['Salary'].apply(add_100)\n",
        "\n",
        "print(df)\n"
      ],
      "metadata": {
        "colab": {
          "base_uri": "https://localhost:8080/"
        },
        "id": "6uEqyiAB5u6-",
        "outputId": "9f4a57ae-5428-4f02-c715-72300b6f2ec5"
      },
      "execution_count": null,
      "outputs": [
        {
          "output_type": "stream",
          "name": "stdout",
          "text": [
            "      Name  Age  Salary\n",
            "0    Alice   25   50100\n",
            "1      Bob   30   70100\n",
            "2  Charlie   20   45100\n",
            "3    David   35   80100\n"
          ]
        }
      ]
    },
    {
      "cell_type": "code",
      "source": [
        "# how do you perform data visualization  in pandas .\n",
        "# for creating line chart.\n",
        "import pandas as pd\n",
        "import matplotlib.pyplot as plt\n",
        "\n",
        "# create a sample dataframe\n",
        "df = pd.DataFrame({\n",
        "    'Year': [2016, 2017, 2018, 2019, 2020],\n",
        "    'Sales': [10000, 12000, 15000, 18000, 20000]\n",
        "})\n",
        "\n",
        "# plot a line chart of the 'Sales' column\n",
        "df.plot(x='Year', y='Sales', kind='line')\n",
        "\n",
        "# show the chart\n",
        "plt.show()\n"
      ],
      "metadata": {
        "colab": {
          "base_uri": "https://localhost:8080/",
          "height": 449
        },
        "id": "j28a71RV6AuU",
        "outputId": "a0bfb0e6-6f63-4635-e087-230dab86628e"
      },
      "execution_count": null,
      "outputs": [
        {
          "output_type": "display_data",
          "data": {
            "text/plain": [
              "<Figure size 640x480 with 1 Axes>"
            ],
            "image/png": "[encoded data removed]"
          },
          "metadata": {}
        }
      ]
    },
    {
      "cell_type": "code",
      "source": [
        "# to create bar chart .\n",
        "# create a sample dataframe\n",
        "df = pd.DataFrame({\n",
        "    'Year': [2016, 2017, 2018, 2019, 2020],\n",
        "    'Sales': [10000, 12000, 15000, 18000, 20000]\n",
        "})\n",
        "\n",
        "# plot a bar chart of the 'Sales' column\n",
        "df.plot(x='Year', y='Sales', kind='bar')\n",
        "\n",
        "# show the chart\n",
        "plt.show()\n"
      ],
      "metadata": {
        "colab": {
          "base_uri": "https://localhost:8080/",
          "height": 471
        },
        "id": "94J5Mdmp6OwV",
        "outputId": "5ddc0db5-72bb-46a7-fb8e-d40fd2680bd7"
      },
      "execution_count": null,
      "outputs": [
        {
          "output_type": "display_data",
          "data": {
            "text/plain": [
              "<Figure size 640x480 with 1 Axes>"
            ],
            "image/png": "[encoded data removed]"
          },
          "metadata": {}
        }
      ]
    },
    {
      "cell_type": "code",
      "source": [
        "# how do you handle duplicate data in visulaization usin pandas .\n",
        "# drop duplicate rows in the 'Sales' column\n",
        "df = df.drop_duplicates(subset=['Sales'])\n",
        "\n",
        "# plot a bar chart of the 'Sales' column\n",
        "df.plot(x='Year', y='Sales', kind='bar')\n",
        "\n",
        "# show the chart\n",
        "plt.show()\n"
      ],
      "metadata": {
        "colab": {
          "base_uri": "https://localhost:8080/",
          "height": 471
        },
        "id": "nrbFyJmI6hYW",
        "outputId": "fa38000b-a4be-4b6f-e42d-508a0f795926"
      },
      "execution_count": null,
      "outputs": [
        {
          "output_type": "display_data",
          "data": {
            "text/plain": [
              "<Figure size 640x480 with 1 Axes>"
            ],
            "image/png": "[encoded data removed]"
          },
          "metadata": {}
        }
      ]
    },
    {
      "cell_type": "code",
      "source": [
        "# aggregate data \n",
        "# group the data by the 'Year' column and calculate the sum of the 'Sales' column\n",
        "df_agg = df.groupby('Year')['Sales'].sum().reset_index()\n",
        "\n",
        "# plot a line chart of the 'Sales' column\n",
        "df_agg.plot(x='Year', y='Sales', kind='line')\n",
        "\n",
        "# show the chart\n",
        "plt.show()\n"
      ],
      "metadata": {
        "colab": {
          "base_uri": "https://localhost:8080/",
          "height": 449
        },
        "id": "QzsHFSIK6n6d",
        "outputId": "5efdb3b1-f8b0-46c9-8c9f-89355ddb5cb7"
      },
      "execution_count": null,
      "outputs": [
        {
          "output_type": "display_data",
          "data": {
            "text/plain": [
              "<Figure size 640x480 with 1 Axes>"
            ],
            "image/png": "[encoded data removed]"
          },
          "metadata": {}
        }
      ]
    },
    {
      "cell_type": "code",
      "source": [
        "# how do you calculate descriptive statistics for a dataframe using pandas .\n",
        "import pandas as pd\n",
        "\n",
        "# create a sample dataframe\n",
        "df = pd.DataFrame({\n",
        "    'A': [1, 2, 3, 4, 5],\n",
        "    'B': [10, 20, 30, 40, 50],\n",
        "    'C': [100, 200, 300, 400, 500]\n",
        "})\n",
        "\n",
        "# calculate descriptive statistics using describe()\n",
        "df.describe()\n"
      ],
      "metadata": {
        "colab": {
          "base_uri": "https://localhost:8080/",
          "height": 300
        },
        "id": "CbJ2PRVl6td8",
        "outputId": "4891b7d6-3ca9-468a-b984-1a1d55bda243"
      },
      "execution_count": null,
      "outputs": [
        {
          "output_type": "execute_result",
          "data": {
            "text/plain": [
              "              A          B           C\n",
              "count  5.000000   5.000000    5.000000\n",
              "mean   3.000000  30.000000  300.000000\n",
              "std    1.581139  15.811388  158.113883\n",
              "min    1.000000  10.000000  100.000000\n",
              "25%    2.000000  20.000000  200.000000\n",
              "50%    3.000000  30.000000  300.000000\n",
              "75%    4.000000  40.000000  400.000000\n",
              "max    5.000000  50.000000  500.000000"
            ],
            "text/html": [
              "\n",
              "  <div id=\"df-b9d08970-8e97-470b-928c-ba8d715d708d\">\n",
              "    <div class=\"colab-df-container\">\n",
              "      <div>\n",
              "<style scoped>\n",
              "    .dataframe tbody tr th:only-of-type {\n",
              "        vertical-align: middle;\n",
              "    }\n",
              "\n",
              "    .dataframe tbody tr th {\n",
              "        vertical-align: top;\n",
              "    }\n",
              "\n",
              "    .dataframe thead th {\n",
              "        text-align: right;\n",
              "    }\n",
              "</style>\n",
              "<table border=\"1\" class=\"dataframe\">\n",
              "  <thead>\n",
              "    <tr style=\"text-align: right;\">\n",
              "      <th></th>\n",
              "      <th>A</th>\n",
              "      <th>B</th>\n",
              "      <th>C</th>\n",
              "    </tr>\n",
              "  </thead>\n",
              "  <tbody>\n",
              "    <tr>\n",
              "      <th>count</th>\n",
              "      <td>5.000000</td>\n",
              "      <td>5.000000</td>\n",
              "      <td>5.000000</td>\n",
              "    </tr>\n",
              "    <tr>\n",
              "      <th>mean</th>\n",
              "      <td>3.000000</td>\n",
              "      <td>30.000000</td>\n",
              "      <td>300.000000</td>\n",
              "    </tr>\n",
              "    <tr>\n",
              "      <th>std</th>\n",
              "      <td>1.581139</td>\n",
              "      <td>15.811388</td>\n",
              "      <td>158.113883</td>\n",
              "    </tr>\n",
              "    <tr>\n",
              "      <th>min</th>\n",
              "      <td>1.000000</td>\n",
              "      <td>10.000000</td>\n",
              "      <td>100.000000</td>\n",
              "    </tr>\n",
              "    <tr>\n",
              "      <th>25%</th>\n",
              "      <td>2.000000</td>\n",
              "      <td>20.000000</td>\n",
              "      <td>200.000000</td>\n",
              "    </tr>\n",
              "    <tr>\n",
              "      <th>50%</th>\n",
              "      <td>3.000000</td>\n",
              "      <td>30.000000</td>\n",
              "      <td>300.000000</td>\n",
              "    </tr>\n",
              "    <tr>\n",
              "      <th>75%</th>\n",
              "      <td>4.000000</td>\n",
              "      <td>40.000000</td>\n",
              "      <td>400.000000</td>\n",
              "    </tr>\n",
              "    <tr>\n",
              "      <th>max</th>\n",
              "      <td>5.000000</td>\n",
              "      <td>50.000000</td>\n",
              "      <td>500.000000</td>\n",
              "    </tr>\n",
              "  </tbody>\n",
              "</table>\n",
              "</div>\n",
              "      <button class=\"colab-df-convert\" onclick=\"convertToInteractive('df-b9d08970-8e97-470b-928c-ba8d715d708d')\"\n",
              "              title=\"Convert this dataframe to an interactive table.\"\n",
              "              style=\"display:none;\">\n",
              "        \n",
              "  <svg xmlns=\"http://www.w3.org/2000/svg\" height=\"24px\"viewBox=\"0 0 24 24\"\n",
              "       width=\"24px\">\n",
              "    <path d=\"M0 0h24v24H0V0z\" fill=\"none\"/>\n",
              "    <path d=\"M18.56 5.44l.94 2.06.94-2.06 2.06-.94-2.06-.94-.94-2.06-.94 2.06-2.06.94zm-11 1L8.5 8.5l.94-2.06 2.06-.94-2.06-.94L8.5 2.5l-.94 2.06-2.06.94zm10 10l.94 2.06.94-2.06 2.06-.94-2.06-.94-.94-2.06-.94 2.06-2.06.94z\"/><path d=\"M17.41 7.96l-1.37-1.37c-.4-.4-.92-.59-1.43-.59-.52 0-1.04.2-1.43.59L10.3 9.45l-7.72 7.72c-.78.78-.78 2.05 0 2.83L4 21.41c.39.39.9.59 1.41.59.51 0 1.02-.2 1.41-.59l7.78-7.78 2.81-2.81c.8-.78.8-2.07 0-2.86zM5.41 20L4 18.59l7.72-7.72 1.47 1.35L5.41 20z\"/>\n",
              "  </svg>\n",
              "      </button>\n",
              "      \n",
              "  <style>\n",
              "    .colab-df-container {\n",
              "      display:flex;\n",
              "      flex-wrap:wrap;\n",
              "      gap: 12px;\n",
              "    }\n",
              "\n",
              "    .colab-df-convert {\n",
              "      background-color: #E8F0FE;\n",
              "      border: none;\n",
              "      border-radius: 50%;\n",
              "      cursor: pointer;\n",
              "      display: none;\n",
              "      fill: #1967D2;\n",
              "      height: 32px;\n",
              "      padding: 0 0 0 0;\n",
              "      width: 32px;\n",
              "    }\n",
              "\n",
              "    .colab-df-convert:hover {\n",
              "      background-color: #E2EBFA;\n",
              "      box-shadow: 0px 1px 2px rgba(60, 64, 67, 0.3), 0px 1px 3px 1px rgba(60, 64, 67, 0.15);\n",
              "      fill: #174EA6;\n",
              "    }\n",
              "\n",
              "    [theme=dark] .colab-df-convert {\n",
              "      background-color: #3B4455;\n",
              "      fill: #D2E3FC;\n",
              "    }\n",
              "\n",
              "    [theme=dark] .colab-df-convert:hover {\n",
              "      background-color: #434B5C;\n",
              "      box-shadow: 0px 1px 3px 1px rgba(0, 0, 0, 0.15);\n",
              "      filter: drop-shadow(0px 1px 2px rgba(0, 0, 0, 0.3));\n",
              "      fill: #FFFFFF;\n",
              "    }\n",
              "  </style>\n",
              "\n",
              "      <script>\n",
              "        const buttonEl =\n",
              "          document.querySelector('#df-b9d08970-8e97-470b-928c-ba8d715d708d button.colab-df-convert');\n",
              "        buttonEl.style.display =\n",
              "          google.colab.kernel.accessAllowed ? 'block' : 'none';\n",
              "\n",
              "        async function convertToInteractive(key) {\n",
              "          const element = document.querySelector('#df-b9d08970-8e97-470b-928c-ba8d715d708d');\n",
              "          const dataTable =\n",
              "            await google.colab.kernel.invokeFunction('convertToInteractive',\n",
              "                                                     [key], {});\n",
              "          if (!dataTable) return;\n",
              "\n",
              "          const docLinkHtml = 'Like what you see? Visit the ' +\n",
              "            '<a target=\"_blank\" href=https://colab.research.google.com/notebooks/data_table.ipynb>data table notebook</a>'\n",
              "            + ' to learn more about interactive tables.';\n",
              "          element.innerHTML = '';\n",
              "          dataTable['output_type'] = 'display_data';\n",
              "          await google.colab.output.renderOutput(dataTable, element);\n",
              "          const docLink = document.createElement('div');\n",
              "          docLink.innerHTML = docLinkHtml;\n",
              "          element.appendChild(docLink);\n",
              "        }\n",
              "      </script>\n",
              "    </div>\n",
              "  </div>\n",
              "  "
            ]
          },
          "metadata": {},
          "execution_count": 31
        }
      ]
    },
    {
      "cell_type": "code",
      "source": [
        "# measure of central tendancy.\n",
        "# calculate mean using mean()\n",
        "df.mean()"
      ],
      "metadata": {
        "colab": {
          "base_uri": "https://localhost:8080/"
        },
        "id": "08_mXN9T6tQ2",
        "outputId": "83d7275a-9338-4444-d78f-48b1d4fbe501"
      },
      "execution_count": null,
      "outputs": [
        {
          "output_type": "execute_result",
          "data": {
            "text/plain": [
              "A      3.0\n",
              "B     30.0\n",
              "C    300.0\n",
              "dtype: float64"
            ]
          },
          "metadata": {},
          "execution_count": 33
        }
      ]
    },
    {
      "cell_type": "code",
      "source": [
        "# calculate median using median()\n",
        "df.median()"
      ],
      "metadata": {
        "colab": {
          "base_uri": "https://localhost:8080/"
        },
        "id": "Lqk76uYg7Fwr",
        "outputId": "18a24c60-9422-425b-d2b3-4d2cbb687ec1"
      },
      "execution_count": null,
      "outputs": [
        {
          "output_type": "execute_result",
          "data": {
            "text/plain": [
              "A      3.0\n",
              "B     30.0\n",
              "C    300.0\n",
              "dtype: float64"
            ]
          },
          "metadata": {},
          "execution_count": 36
        }
      ]
    },
    {
      "cell_type": "code",
      "source": [
        "# calculate mode using mode()\n",
        "df.mode()"
      ],
      "metadata": {
        "colab": {
          "base_uri": "https://localhost:8080/",
          "height": 206
        },
        "id": "UkhzAFZr7NSs",
        "outputId": "fe5fd5e8-9116-4e4a-ceba-ccf070d76b9f"
      },
      "execution_count": null,
      "outputs": [
        {
          "output_type": "execute_result",
          "data": {
            "text/plain": [
              "   A   B    C\n",
              "0  1  10  100\n",
              "1  2  20  200\n",
              "2  3  30  300\n",
              "3  4  40  400\n",
              "4  5  50  500"
            ],
            "text/html": [
              "\n",
              "  <div id=\"df-9ea70b45-1f28-46f6-a7ff-58a4efb232f9\">\n",
              "    <div class=\"colab-df-container\">\n",
              "      <div>\n",
              "<style scoped>\n",
              "    .dataframe tbody tr th:only-of-type {\n",
              "        vertical-align: middle;\n",
              "    }\n",
              "\n",
              "    .dataframe tbody tr th {\n",
              "        vertical-align: top;\n",
              "    }\n",
              "\n",
              "    .dataframe thead th {\n",
              "        text-align: right;\n",
              "    }\n",
              "</style>\n",
              "<table border=\"1\" class=\"dataframe\">\n",
              "  <thead>\n",
              "    <tr style=\"text-align: right;\">\n",
              "      <th></th>\n",
              "      <th>A</th>\n",
              "      <th>B</th>\n",
              "      <th>C</th>\n",
              "    </tr>\n",
              "  </thead>\n",
              "  <tbody>\n",
              "    <tr>\n",
              "      <th>0</th>\n",
              "      <td>1</td>\n",
              "      <td>10</td>\n",
              "      <td>100</td>\n",
              "    </tr>\n",
              "    <tr>\n",
              "      <th>1</th>\n",
              "      <td>2</td>\n",
              "      <td>20</td>\n",
              "      <td>200</td>\n",
              "    </tr>\n",
              "    <tr>\n",
              "      <th>2</th>\n",
              "      <td>3</td>\n",
              "      <td>30</td>\n",
              "      <td>300</td>\n",
              "    </tr>\n",
              "    <tr>\n",
              "      <th>3</th>\n",
              "      <td>4</td>\n",
              "      <td>40</td>\n",
              "      <td>400</td>\n",
              "    </tr>\n",
              "    <tr>\n",
              "      <th>4</th>\n",
              "      <td>5</td>\n",
              "      <td>50</td>\n",
              "      <td>500</td>\n",
              "    </tr>\n",
              "  </tbody>\n",
              "</table>\n",
              "</div>\n",
              "      <button class=\"colab-df-convert\" onclick=\"convertToInteractive('df-9ea70b45-1f28-46f6-a7ff-58a4efb232f9')\"\n",
              "              title=\"Convert this dataframe to an interactive table.\"\n",
              "              style=\"display:none;\">\n",
              "        \n",
              "  <svg xmlns=\"http://www.w3.org/2000/svg\" height=\"24px\"viewBox=\"0 0 24 24\"\n",
              "       width=\"24px\">\n",
              "    <path d=\"M0 0h24v24H0V0z\" fill=\"none\"/>\n",
              "    <path d=\"M18.56 5.44l.94 2.06.94-2.06 2.06-.94-2.06-.94-.94-2.06-.94 2.06-2.06.94zm-11 1L8.5 8.5l.94-2.06 2.06-.94-2.06-.94L8.5 2.5l-.94 2.06-2.06.94zm10 10l.94 2.06.94-2.06 2.06-.94-2.06-.94-.94-2.06-.94 2.06-2.06.94z\"/><path d=\"M17.41 7.96l-1.37-1.37c-.4-.4-.92-.59-1.43-.59-.52 0-1.04.2-1.43.59L10.3 9.45l-7.72 7.72c-.78.78-.78 2.05 0 2.83L4 21.41c.39.39.9.59 1.41.59.51 0 1.02-.2 1.41-.59l7.78-7.78 2.81-2.81c.8-.78.8-2.07 0-2.86zM5.41 20L4 18.59l7.72-7.72 1.47 1.35L5.41 20z\"/>\n",
              "  </svg>\n",
              "      </button>\n",
              "      \n",
              "  <style>\n",
              "    .colab-df-container {\n",
              "      display:flex;\n",
              "      flex-wrap:wrap;\n",
              "      gap: 12px;\n",
              "    }\n",
              "\n",
              "    .colab-df-convert {\n",
              "      background-color: #E8F0FE;\n",
              "      border: none;\n",
              "      border-radius: 50%;\n",
              "      cursor: pointer;\n",
              "      display: none;\n",
              "      fill: #1967D2;\n",
              "      height: 32px;\n",
              "      padding: 0 0 0 0;\n",
              "      width: 32px;\n",
              "    }\n",
              "\n",
              "    .colab-df-convert:hover {\n",
              "      background-color: #E2EBFA;\n",
              "      box-shadow: 0px 1px 2px rgba(60, 64, 67, 0.3), 0px 1px 3px 1px rgba(60, 64, 67, 0.15);\n",
              "      fill: #174EA6;\n",
              "    }\n",
              "\n",
              "    [theme=dark] .colab-df-convert {\n",
              "      background-color: #3B4455;\n",
              "      fill: #D2E3FC;\n",
              "    }\n",
              "\n",
              "    [theme=dark] .colab-df-convert:hover {\n",
              "      background-color: #434B5C;\n",
              "      box-shadow: 0px 1px 3px 1px rgba(0, 0, 0, 0.15);\n",
              "      filter: drop-shadow(0px 1px 2px rgba(0, 0, 0, 0.3));\n",
              "      fill: #FFFFFF;\n",
              "    }\n",
              "  </style>\n",
              "\n",
              "      <script>\n",
              "        const buttonEl =\n",
              "          document.querySelector('#df-9ea70b45-1f28-46f6-a7ff-58a4efb232f9 button.colab-df-convert');\n",
              "        buttonEl.style.display =\n",
              "          google.colab.kernel.accessAllowed ? 'block' : 'none';\n",
              "\n",
              "        async function convertToInteractive(key) {\n",
              "          const element = document.querySelector('#df-9ea70b45-1f28-46f6-a7ff-58a4efb232f9');\n",
              "          const dataTable =\n",
              "            await google.colab.kernel.invokeFunction('convertToInteractive',\n",
              "                                                     [key], {});\n",
              "          if (!dataTable) return;\n",
              "\n",
              "          const docLinkHtml = 'Like what you see? Visit the ' +\n",
              "            '<a target=\"_blank\" href=https://colab.research.google.com/notebooks/data_table.ipynb>data table notebook</a>'\n",
              "            + ' to learn more about interactive tables.';\n",
              "          element.innerHTML = '';\n",
              "          dataTable['output_type'] = 'display_data';\n",
              "          await google.colab.output.renderOutput(dataTable, element);\n",
              "          const docLink = document.createElement('div');\n",
              "          docLink.innerHTML = docLinkHtml;\n",
              "          element.appendChild(docLink);\n",
              "        }\n",
              "      </script>\n",
              "    </div>\n",
              "  </div>\n",
              "  "
            ]
          },
          "metadata": {},
          "execution_count": 37
        }
      ]
    },
    {
      "cell_type": "code",
      "source": [
        "# # calculate variance using var()\n",
        "df.var()"
      ],
      "metadata": {
        "colab": {
          "base_uri": "https://localhost:8080/"
        },
        "id": "GyAUxzFa7TKi",
        "outputId": "cee9279f-549d-4cde-a551-e7962be75629"
      },
      "execution_count": null,
      "outputs": [
        {
          "output_type": "execute_result",
          "data": {
            "text/plain": [
              "A        2.5\n",
              "B      250.0\n",
              "C    25000.0\n",
              "dtype: float64"
            ]
          },
          "metadata": {},
          "execution_count": 38
        }
      ]
    },
    {
      "cell_type": "code",
      "source": [
        "# calculate standard deviation using std()\n",
        "df.std()"
      ],
      "metadata": {
        "colab": {
          "base_uri": "https://localhost:8080/"
        },
        "id": "3N5h8o3x7V0F",
        "outputId": "f559a67d-79fb-4065-f488-651d8ba42917"
      },
      "execution_count": null,
      "outputs": [
        {
          "output_type": "execute_result",
          "data": {
            "text/plain": [
              "A      1.581139\n",
              "B     15.811388\n",
              "C    158.113883\n",
              "dtype: float64"
            ]
          },
          "metadata": {},
          "execution_count": 39
        }
      ]
    },
    {
      "cell_type": "code",
      "source": [
        "# how do you set the index of dataframe using pandas.\n",
        "import pandas as pd\n",
        "\n",
        "# create a sample dataframe\n",
        "df = pd.DataFrame({\n",
        "    'A': [1, 2, 3],\n",
        "    'B': [4, 5, 6],\n",
        "    'C': [7, 8, 9]\n",
        "})\n",
        "\n",
        "# set the 'A' column as the index of the dataframe\n",
        "df.set_index('A', inplace=True)\n",
        "\n",
        "# print the updated dataframe\n",
        "print(df)\n"
      ],
      "metadata": {
        "colab": {
          "base_uri": "https://localhost:8080/"
        },
        "id": "vQplAus_7cnF",
        "outputId": "0c6532a7-8062-494c-bd00-2b3544d52d2d"
      },
      "execution_count": null,
      "outputs": [
        {
          "output_type": "stream",
          "name": "stdout",
          "text": [
            "   B  C\n",
            "A      \n",
            "1  4  7\n",
            "2  5  8\n",
            "3  6  9\n"
          ]
        }
      ]
    },
    {
      "cell_type": "code",
      "source": [
        "# how do you concatenate multiple dataframes in pandas .\n",
        "import pandas as pd\n",
        "\n",
        "# Create three dataframes with some data\n",
        "df1 = pd.DataFrame({'A': [1, 2, 3], 'B': [4, 5, 6]})\n",
        "df2 = pd.DataFrame({'A': [4, 5, 6], 'B': [7, 8, 9]})\n",
        "df3 = pd.DataFrame({'A': [7, 8, 9], 'B': [10, 11, 12]})\n",
        "\n",
        "# Concatenate the dataframes\n",
        "result = pd.concat([df1, df2, df3])\n",
        "\n",
        "# Print the result\n",
        "print(result)\n"
      ],
      "metadata": {
        "colab": {
          "base_uri": "https://localhost:8080/"
        },
        "id": "SVPp9XlfMq-C",
        "outputId": "4a1791e4-f295-4d39-ab04-410071376781"
      },
      "execution_count": 1,
      "outputs": [
        {
          "output_type": "stream",
          "name": "stdout",
          "text": [
            "   A   B\n",
            "0  1   4\n",
            "1  2   5\n",
            "2  3   6\n",
            "0  4   7\n",
            "1  5   8\n",
            "2  6   9\n",
            "0  7  10\n",
            "1  8  11\n",
            "2  9  12\n"
          ]
        }
      ]
    },
    {
      "cell_type": "code",
      "source": [
        "# how do you pivot a dataframe in pandas\n",
        "import pandas as pd\n",
        "\n",
        "# Create a dataframe with some data\n",
        "df = pd.DataFrame({'Name': ['Alice', 'Bob', 'Charlie', 'David'],\n",
        "                   'City': ['New York', 'Los Angeles', 'Chicago', 'Houston'],\n",
        "                   'Salary': [50000, 60000, 55000, 65000],\n",
        "                   'Department': ['Marketing', 'Sales', 'Marketing', 'Sales']})\n",
        "\n",
        "# Pivot the dataframe\n",
        "result = df.pivot(index='Name', columns='Department', values='Salary')\n",
        "\n",
        "# Print the result\n",
        "print(result)\n"
      ],
      "metadata": {
        "colab": {
          "base_uri": "https://localhost:8080/"
        },
        "id": "Fw85BhCpNlnQ",
        "outputId": "a7b937b4-9d82-4633-b52e-7f43701bb880"
      },
      "execution_count": 2,
      "outputs": [
        {
          "output_type": "stream",
          "name": "stdout",
          "text": [
            "Department  Marketing    Sales\n",
            "Name                          \n",
            "Alice         50000.0      NaN\n",
            "Bob               NaN  60000.0\n",
            "Charlie       55000.0      NaN\n",
            "David             NaN  65000.0\n"
          ]
        }
      ]
    },
    {
      "cell_type": "code",
      "source": [
        "# how do you calculate the correlation between columns in a dataframe using pandas.\n",
        "import pandas as pd\n",
        "\n",
        "# Create a dataframe with some data\n",
        "df = pd.DataFrame({'A': [1, 2, 3, 4, 5],\n",
        "                   'B': [5, 4, 3, 2, 1],\n",
        "                   'C': [1, 3, 5, 7, 9]})\n",
        "\n",
        "# Calculate the correlation between columns\n",
        "result = df.corr()\n",
        "\n",
        "# Print the result\n",
        "print(result)\n"
      ],
      "metadata": {
        "colab": {
          "base_uri": "https://localhost:8080/"
        },
        "id": "ryvlD_qAONND",
        "outputId": "75738e20-0760-4fcd-fb0e-a2e71eaa09e7"
      },
      "execution_count": 3,
      "outputs": [
        {
          "output_type": "stream",
          "name": "stdout",
          "text": [
            "     A    B    C\n",
            "A  1.0 -1.0  1.0\n",
            "B -1.0  1.0 -1.0\n",
            "C  1.0 -1.0  1.0\n"
          ]
        }
      ]
    },
    {
      "cell_type": "code",
      "source": [
        "# how do you extract unique values from a column in a dataframe using pandas.\n",
        "import pandas as pd\n",
        "\n",
        "# Create a dataframe with some data\n",
        "df = pd.DataFrame({'Name': ['Alice', 'Bob', 'Charlie', 'David', 'Alice'],\n",
        "                   'Age': [25, 30, 35, 40, 25]})\n",
        "\n",
        "# Extract unique values from the 'Name' column\n",
        "result = df['Name'].unique()\n",
        "\n",
        "# Print the result\n",
        "print(result)\n"
      ],
      "metadata": {
        "colab": {
          "base_uri": "https://localhost:8080/"
        },
        "id": "G7Xzi3UgONJt",
        "outputId": "5b2299b2-6a5f-40f0-c931-4653d0d744e9"
      },
      "execution_count": 4,
      "outputs": [
        {
          "output_type": "stream",
          "name": "stdout",
          "text": [
            "['Alice' 'Bob' 'Charlie' 'David']\n"
          ]
        }
      ]
    },
    {
      "cell_type": "code",
      "source": [
        "# Count the number of unique values in the 'Age' column\n",
        "result = df['Age'].nunique()\n",
        "\n",
        "# Print the result\n",
        "print(result)\n"
      ],
      "metadata": {
        "colab": {
          "base_uri": "https://localhost:8080/"
        },
        "id": "94JV5kpnPaWO",
        "outputId": "e83986bb-b522-4ede-b2b0-b5f4635be203"
      },
      "execution_count": 5,
      "outputs": [
        {
          "output_type": "stream",
          "name": "stdout",
          "text": [
            "4\n"
          ]
        }
      ]
    },
    {
      "cell_type": "code",
      "source": [
        "# how do you calculate cumulative sum in a datframe using pandas.\n",
        "import pandas as pd\n",
        "\n",
        "# Create a dataframe with some data\n",
        "df = pd.DataFrame({'A': [1, 2, 3, 4, 5]})\n",
        "\n",
        "# Calculate the cumulative sum of column 'A'\n",
        "df['Cumulative Sum'] = df['A'].cumsum()\n",
        "\n",
        "# Print the result\n",
        "print(df)\n"
      ],
      "metadata": {
        "colab": {
          "base_uri": "https://localhost:8080/"
        },
        "id": "4H2M6ATGPrzu",
        "outputId": "0b3396d9-f5fb-49b1-aa84-c1be4d05b108"
      },
      "execution_count": 6,
      "outputs": [
        {
          "output_type": "stream",
          "name": "stdout",
          "text": [
            "   A  Cumulative Sum\n",
            "0  1               1\n",
            "1  2               3\n",
            "2  3               6\n",
            "3  4              10\n",
            "4  5              15\n"
          ]
        }
      ]
    },
    {
      "cell_type": "code",
      "source": [
        "# how do you convert datatypes of columns in a dataframe using pandas .\n",
        "import pandas as pd\n",
        "\n",
        "# Create a dataframe with some data\n",
        "df = pd.DataFrame({'A': ['1', '2', '3', '4', '5'],\n",
        "                   'B': ['5.1', '4.2', '3.3', '2.4', '1.5']})\n",
        "\n",
        "# Convert column 'A' from string to integer\n",
        "df['A'] = df['A'].astype(int)\n",
        "\n",
        "# Convert column 'B' from string to float\n",
        "df['B'] = df['B'].astype(float)\n",
        "\n",
        "# Print the result\n",
        "print(df.dtypes)\n"
      ],
      "metadata": {
        "colab": {
          "base_uri": "https://localhost:8080/"
        },
        "id": "RO3qjRohPyHX",
        "outputId": "e083a261-acd9-4db0-b173-aba17bef1713"
      },
      "execution_count": 7,
      "outputs": [
        {
          "output_type": "stream",
          "name": "stdout",
          "text": [
            "A      int64\n",
            "B    float64\n",
            "dtype: object\n"
          ]
        }
      ]
    },
    {
      "cell_type": "code",
      "source": [
        "# import pandas as pd\n",
        "\n",
        "# Create a dataframe with some data\n",
        "df = pd.DataFrame({'A': ['1', '2', '3', '4', '5'],\n",
        "                   'B': ['5.1', '4.2', '3.3', '2.4', '1.5']})\n",
        "\n",
        "# Convert column 'A' from string to integer\n",
        "df['A'] = df['A'].astype(int)\n",
        "\n",
        "# Convert column 'B' from string to float\n",
        "df['B'] = df['B'].astype(float)\n",
        "\n",
        "# Print the result\n",
        "print(df.dtypes)\n"
      ],
      "metadata": {
        "colab": {
          "base_uri": "https://localhost:8080/"
        },
        "id": "U3uovd2TQZPO",
        "outputId": "23bc0859-0413-4b8f-921a-ea5f4adac970"
      },
      "execution_count": 8,
      "outputs": [
        {
          "output_type": "stream",
          "name": "stdout",
          "text": [
            "A      int64\n",
            "B    float64\n",
            "dtype: object\n"
          ]
        }
      ]
    },
    {
      "cell_type": "code",
      "source": [
        "# how do you handle datetime data in dataframe using pandas.\n",
        "# Convert a column to datetime format:\n",
        "import pandas as pd\n",
        "\n",
        "# Create a dataframe with some data\n",
        "df = pd.DataFrame({'date': ['2021-09-01', '2021-09-02', '2021-09-03'],\n",
        "                   'value': [1, 2, 3]})\n",
        "\n",
        "# Convert the 'date' column to datetime format\n",
        "df['date'] = pd.to_datetime(df['date'])\n",
        "\n",
        "# Print the result\n",
        "print(df.dtypes)\n"
      ],
      "metadata": {
        "colab": {
          "base_uri": "https://localhost:8080/"
        },
        "id": "Ix4IwwnoQdaM",
        "outputId": "0ce6961c-0688-4b7b-b2dd-4d0063e9b788"
      },
      "execution_count": 9,
      "outputs": [
        {
          "output_type": "stream",
          "name": "stdout",
          "text": [
            "date     datetime64[ns]\n",
            "value             int64\n",
            "dtype: object\n"
          ]
        }
      ]
    },
    {
      "cell_type": "code",
      "source": [
        "# Extract components of a datetime column:\n",
        "import pandas as pd\n",
        "\n",
        "# Create a dataframe with some data\n",
        "df = pd.DataFrame({'date': ['2021-09-01 10:20:30', '2021-09-02 11:22:33', '2021-09-03 12:34:56'],\n",
        "                   'value': [1, 2, 3]})\n",
        "\n",
        "# Convert the 'date' column to datetime format\n",
        "df['date'] = pd.to_datetime(df['date'])\n",
        "\n",
        "# Extract the year, month, and day components of the 'date' column\n",
        "df['year'] = df['date'].dt.year\n",
        "df['month'] = df['date'].dt.month\n",
        "df['day'] = df['date'].dt.day\n",
        "\n",
        "# Print the result\n",
        "print(df)\n"
      ],
      "metadata": {
        "colab": {
          "base_uri": "https://localhost:8080/"
        },
        "id": "fbZ_eGNZQy0r",
        "outputId": "30b02b77-642c-49c2-f2e0-c57e0415cffe"
      },
      "execution_count": 11,
      "outputs": [
        {
          "output_type": "stream",
          "name": "stdout",
          "text": [
            "                 date  value  year  month  day\n",
            "0 2021-09-01 10:20:30      1  2021      9    1\n",
            "1 2021-09-02 11:22:33      2  2021      9    2\n",
            "2 2021-09-03 12:34:56      3  2021      9    3\n"
          ]
        }
      ]
    },
    {
      "cell_type": "code",
      "source": [
        "# how do you resample time series data in pandas .\n",
        "import pandas as pd\n",
        "\n",
        "# Create a dataframe with time series data\n",
        "df = pd.DataFrame({\n",
        "    'date': pd.date_range('2021-09-01', periods=100, freq='D'),\n",
        "    'value': range(100)\n",
        "})\n",
        "\n",
        "# Set the 'date' column as the index\n",
        "df = df.set_index('date')\n",
        "\n",
        "# Resample the data to a weekly frequency\n",
        "weekly_df = df.resample('W').sum()\n",
        "\n",
        "# Print the result\n",
        "print(weekly_df)\n"
      ],
      "metadata": {
        "colab": {
          "base_uri": "https://localhost:8080/"
        },
        "id": "8gl4mpA1RH6H",
        "outputId": "6291bafa-0055-4bd1-b667-8220a241e407"
      },
      "execution_count": 12,
      "outputs": [
        {
          "output_type": "stream",
          "name": "stdout",
          "text": [
            "            value\n",
            "date             \n",
            "2021-09-05     10\n",
            "2021-09-12     56\n",
            "2021-09-19    105\n",
            "2021-09-26    154\n",
            "2021-10-03    203\n",
            "2021-10-10    252\n",
            "2021-10-17    301\n",
            "2021-10-24    350\n",
            "2021-10-31    399\n",
            "2021-11-07    448\n",
            "2021-11-14    497\n",
            "2021-11-21    546\n",
            "2021-11-28    595\n",
            "2021-12-05    644\n",
            "2021-12-12    390\n"
          ]
        }
      ]
    },
    {
      "cell_type": "code",
      "source": [
        "# how do you merge and append dataframes with different column names in pandas.\n",
        "import pandas as pd\n",
        "\n",
        "# Create two dataframes with different column names\n",
        "df1 = pd.DataFrame({'A': [1, 2, 3], 'B': [4, 5, 6]})\n",
        "df2 = pd.DataFrame({'C': [7, 8, 9], 'D': [10, 11, 12]})\n",
        "\n",
        "# Merge the dataframes based on a common column\n",
        "merged_df = pd.merge(df1, df2, left_index=True, right_index=True)\n",
        "\n",
        "# Print the merged dataframe\n",
        "print(merged_df)\n"
      ],
      "metadata": {
        "colab": {
          "base_uri": "https://localhost:8080/"
        },
        "id": "Qzp_JV2QRP2V",
        "outputId": "d2131431-c869-4fa8-dd60-3cf8aea39d5c"
      },
      "execution_count": 13,
      "outputs": [
        {
          "output_type": "stream",
          "name": "stdout",
          "text": [
            "   A  B  C   D\n",
            "0  1  4  7  10\n",
            "1  2  5  8  11\n",
            "2  3  6  9  12\n"
          ]
        }
      ]
    },
    {
      "cell_type": "code",
      "source": [
        "# for appending.\n",
        "import pandas as pd\n",
        "\n",
        "# Create two dataframes with different column names\n",
        "df1 = pd.DataFrame({'A': [1, 2, 3], 'B': [4, 5, 6]})\n",
        "df2 = pd.DataFrame({'C': [7, 8, 9], 'D': [10, 11, 12]})\n",
        "\n",
        "# Append the dataframes along the column axis\n",
        "appended_df = pd.concat([df1, df2], axis=1)\n",
        "\n",
        "# Print the appended dataframe\n",
        "print(appended_df)\n"
      ],
      "metadata": {
        "colab": {
          "base_uri": "https://localhost:8080/"
        },
        "id": "mNXO60UARoG6",
        "outputId": "013e071b-751b-42a9-edf4-10491c9abfe2"
      },
      "execution_count": 14,
      "outputs": [
        {
          "output_type": "stream",
          "name": "stdout",
          "text": [
            "   A  B  C   D\n",
            "0  1  4  7  10\n",
            "1  2  5  8  11\n",
            "2  3  6  9  12\n"
          ]
        }
      ]
    },
    {
      "cell_type": "code",
      "source": [
        "# how do you handle multilevel indexing in pandas.\n",
        "import pandas as pd\n",
        "\n",
        "# Create a multilevel indexed dataframe\n",
        "df = pd.DataFrame({\n",
        "    'A': [1, 2, 3, 4, 5, 6],\n",
        "    'B': [7, 8, 9, 10, 11, 12],\n",
        "    'C': ['foo', 'foo', 'foo', 'bar', 'bar', 'bar'],\n",
        "    'D': ['one', 'two', 'two', 'one', 'one', 'two']\n",
        "})\n",
        "\n",
        "df = df.set_index(['C', 'D'])\n",
        "print(df)\n"
      ],
      "metadata": {
        "colab": {
          "base_uri": "https://localhost:8080/"
        },
        "id": "TqvttFppR5cT",
        "outputId": "78a3c1fc-bf5c-4a8f-f5db-9fccb53fd772"
      },
      "execution_count": 15,
      "outputs": [
        {
          "output_type": "stream",
          "name": "stdout",
          "text": [
            "         A   B\n",
            "C   D         \n",
            "foo one  1   7\n",
            "    two  2   8\n",
            "    two  3   9\n",
            "bar one  4  10\n",
            "    one  5  11\n",
            "    two  6  12\n"
          ]
        }
      ]
    },
    {
      "cell_type": "code",
      "source": [
        "# Select data based on the labels of the index\n",
        "print(df.loc['foo', 'one'])\n",
        "\n",
        "# Select data based on the integer positions of the index\n",
        "print(df.iloc[0:2])\n"
      ],
      "metadata": {
        "colab": {
          "base_uri": "https://localhost:8080/"
        },
        "id": "W3mXUbzNSCjr",
        "outputId": "eb6c8e38-ba61-4193-8ef8-d3f8d5733845"
      },
      "execution_count": 16,
      "outputs": [
        {
          "output_type": "stream",
          "name": "stdout",
          "text": [
            "         A  B\n",
            "C   D        \n",
            "foo one  1  7\n",
            "         A  B\n",
            "C   D        \n",
            "foo one  1  7\n",
            "    two  2  8\n"
          ]
        },
        {
          "output_type": "stream",
          "name": "stderr",
          "text": [
            "<ipython-input-16-92e76a6bcf0e>:2: PerformanceWarning: indexing past lexsort depth may impact performance.\n",
            "  print(df.loc['foo', 'one'])\n"
          ]
        }
      ]
    },
    {
      "cell_type": "code",
      "source": [
        "# Group data based on the first level of the index\n",
        "grouped_df = df.groupby(level=0).sum()\n",
        "\n",
        "# Print the grouped dataframe\n",
        "print(grouped_df)\n"
      ],
      "metadata": {
        "colab": {
          "base_uri": "https://localhost:8080/"
        },
        "id": "COAjNW-YSGVu",
        "outputId": "1d8200c4-b8a8-485a-ee72-5712cc898731"
      },
      "execution_count": 17,
      "outputs": [
        {
          "output_type": "stream",
          "name": "stdout",
          "text": [
            "      A   B\n",
            "C          \n",
            "bar  15  33\n",
            "foo   6  24\n"
          ]
        }
      ]
    },
    {
      "cell_type": "code",
      "source": [
        "# how do you concatenate strings in dataframe column using pandas.\n",
        "import pandas as pd\n",
        "\n",
        "# Create a sample DataFrame\n",
        "df = pd.DataFrame({'A': ['hello', 'world', 'how', 'are', 'you'],\n",
        "                   'B': ['there', 'this', 'is', 'a', 'test']})\n",
        "\n",
        "# Concatenate the strings in column A and B using the str.cat() function\n",
        "df['C'] = df['A'].str.cat(df['B'], sep=' ')\n",
        "\n",
        "# Concatenate the strings in column A and B using the + operator\n",
        "df['D'] = df['A'] + ' ' + df['B']\n",
        "\n",
        "# Print the final DataFrame\n",
        "print(df)\n"
      ],
      "metadata": {
        "colab": {
          "base_uri": "https://localhost:8080/"
        },
        "id": "8yc-hkMCSKoP",
        "outputId": "fd41000b-98d8-4a11-8e03-b4c7cba2a813"
      },
      "execution_count": 18,
      "outputs": [
        {
          "output_type": "stream",
          "name": "stdout",
          "text": [
            "       A      B            C            D\n",
            "0  hello  there  hello there  hello there\n",
            "1  world   this   world this   world this\n",
            "2    how     is       how is       how is\n",
            "3    are      a        are a        are a\n",
            "4    you   test     you test     you test\n"
          ]
        }
      ]
    },
    {
      "cell_type": "code",
      "source": [
        "# how do you create a cross tabulation in pandas.\n",
        "import pandas as pd\n",
        "\n",
        "# Create a sample DataFrame\n",
        "df = pd.DataFrame({\n",
        "    'Gender': ['Male', 'Female', 'Female', 'Male', 'Male', 'Female'],\n",
        "    'Education': ['Graduate', 'Undergraduate', 'Graduate', 'Undergraduate', 'Graduate', 'Undergraduate'],\n",
        "    'Salary': [60000, 40000, 80000, 50000, 70000, 90000]\n",
        "})\n",
        "\n",
        "# Create a cross-tabulation table of Gender and Education\n",
        "ct = pd.crosstab(df['Gender'], df['Education'])\n",
        "\n",
        "# Print the cross-tabulation table\n",
        "print(ct)\n"
      ],
      "metadata": {
        "colab": {
          "base_uri": "https://localhost:8080/"
        },
        "id": "tORQ29UDSgxN",
        "outputId": "a792cbef-e5f8-48bd-d9d5-06029d2f7307"
      },
      "execution_count": 19,
      "outputs": [
        {
          "output_type": "stream",
          "name": "stdout",
          "text": [
            "Education  Graduate  Undergraduate\n",
            "Gender                            \n",
            "Female            1              2\n",
            "Male              2              1\n"
          ]
        }
      ]
    },
    {
      "cell_type": "code",
      "source": [
        "# Create a cross-tabulation table of Gender and Education with margins and custom column names\n",
        "ct = pd.crosstab(df['Gender'], df['Education'], margins=True, margins_name='Total', colnames=['Level of Education'])\n",
        "\n",
        "# Print the cross-tabulation table\n",
        "print(ct)\n"
      ],
      "metadata": {
        "colab": {
          "base_uri": "https://localhost:8080/"
        },
        "id": "KtqdPdgjTAJh",
        "outputId": "1d5a5547-d7e7-43dc-847f-6afd41866a9d"
      },
      "execution_count": 20,
      "outputs": [
        {
          "output_type": "stream",
          "name": "stdout",
          "text": [
            "Level of Education  Graduate  Undergraduate  Total\n",
            "Gender                                            \n",
            "Female                     1              2      3\n",
            "Male                       2              1      3\n",
            "Total                      3              3      6\n"
          ]
        }
      ]
    },
    {
      "cell_type": "code",
      "source": [
        "# how do you handle categorical data in pandas.\n",
        "# Convert a column to categorical type\n",
        "import pandas as pd\n",
        "\n",
        "# Create a sample DataFrame\n",
        "df = pd.DataFrame({\n",
        "    'Color': ['Red', 'Green', 'Blue', 'Red', 'Green']\n",
        "})\n",
        "\n",
        "# Convert the 'Color' column to categorical type\n",
        "df['Color'] = df['Color'].astype('category')\n",
        "\n",
        "# Print the data types of the columns\n",
        "print(df.dtypes)\n"
      ],
      "metadata": {
        "colab": {
          "base_uri": "https://localhost:8080/"
        },
        "id": "sDG6m1soTR6z",
        "outputId": "60e41b5a-bc73-45d1-c3ba-783f8020dbd2"
      },
      "execution_count": 22,
      "outputs": [
        {
          "output_type": "stream",
          "name": "stdout",
          "text": [
            "Color    category\n",
            "dtype: object\n"
          ]
        }
      ]
    },
    {
      "cell_type": "code",
      "source": [
        "# Create a categorical variable from a continuous variable:\n",
        "# Create a sample DataFrame\n",
        "df = pd.DataFrame({\n",
        "    'Age': [18, 25, 30, 35, 40]\n",
        "})\n",
        "\n",
        "# Create a categorical variable from the 'Age' column\n",
        "df['Age Group'] = pd.cut(df['Age'], bins=[0, 20, 30, 40], labels=['<20', '20-30', '30-40'])\n",
        "\n",
        "# Print the DataFrame\n",
        "print(df)\n"
      ],
      "metadata": {
        "colab": {
          "base_uri": "https://localhost:8080/"
        },
        "id": "0LvVtZusTe50",
        "outputId": "272f3cbb-8450-4809-c923-f7364c6c21a8"
      },
      "execution_count": 23,
      "outputs": [
        {
          "output_type": "stream",
          "name": "stdout",
          "text": [
            "   Age Age Group\n",
            "0   18       <20\n",
            "1   25     20-30\n",
            "2   30     20-30\n",
            "3   35     30-40\n",
            "4   40     30-40\n"
          ]
        }
      ]
    },
    {
      "cell_type": "code",
      "source": [
        "# Group and aggregate data by categorical variables:\n",
        "# Create a sample DataFrame\n",
        "df = pd.DataFrame({\n",
        "    'Color': ['Red', 'Green', 'Blue', 'Red', 'Green'],\n",
        "    'Count': [2, 3, 1, 4, 2]\n",
        "})\n",
        "\n",
        "# Group and aggregate the data by the 'Color' column\n",
        "agg_df = df.groupby('Color').agg({'Count': ['sum', 'mean', 'max']})\n",
        "\n",
        "# Print the aggregated DataFrame\n",
        "print(agg_df)\n"
      ],
      "metadata": {
        "colab": {
          "base_uri": "https://localhost:8080/"
        },
        "id": "KicjeDT6Tlc0",
        "outputId": "221098db-1b34-4802-b77b-c079eb536268"
      },
      "execution_count": 25,
      "outputs": [
        {
          "output_type": "stream",
          "name": "stdout",
          "text": [
            "      Count         \n",
            "        sum mean max\n",
            "Color               \n",
            "Blue      1  1.0   1\n",
            "Green     5  2.5   3\n",
            "Red       6  3.0   4\n"
          ]
        }
      ]
    },
    {
      "cell_type": "code",
      "source": [
        "# how do you calculate cumulative percentage in a dataframe column using pandas.\n",
        "import pandas as pd\n",
        "\n",
        "# Create a sample DataFrame\n",
        "df = pd.DataFrame({\n",
        "    'Value': [10, 20, 30, 40, 50]\n",
        "})\n",
        "\n",
        "# Calculate the cumulative percentage of the 'Value' column\n",
        "df['Cumulative Percentage'] = df['Value'].cumsum() / df['Value'].sum() * 100\n",
        "\n",
        "# Print the DataFrame\n",
        "print(df)\n"
      ],
      "metadata": {
        "colab": {
          "base_uri": "https://localhost:8080/"
        },
        "id": "mlj6ZQc8TsXT",
        "outputId": "02b0e276-6224-47d5-8778-e3c541e1e455"
      },
      "execution_count": 26,
      "outputs": [
        {
          "output_type": "stream",
          "name": "stdout",
          "text": [
            "   Value  Cumulative Percentage\n",
            "0     10               6.666667\n",
            "1     20              20.000000\n",
            "2     30              40.000000\n",
            "3     40              66.666667\n",
            "4     50             100.000000\n"
          ]
        }
      ]
    },
    {
      "cell_type": "code",
      "source": [
        "# how do you calculate percentage change in a datafrae using pandas.\n",
        "import pandas as pd\n",
        "\n",
        "# Create a sample DataFrame\n",
        "df = pd.DataFrame({\n",
        "    'Value': [10, 20, 30, 40, 50]\n",
        "})\n",
        "\n",
        "# Calculate the percentage change of the 'Value' column\n",
        "df['Percentage Change'] = df['Value'].pct_change() * 100\n",
        "\n",
        "# Print the DataFrame\n",
        "print(df)\n"
      ],
      "metadata": {
        "colab": {
          "base_uri": "https://localhost:8080/"
        },
        "id": "4jUATw0GUKwR",
        "outputId": "bde72ec7-cb15-4994-fb53-91f23eb93eed"
      },
      "execution_count": 27,
      "outputs": [
        {
          "output_type": "stream",
          "name": "stdout",
          "text": [
            "   Value  Percentage Change\n",
            "0     10                NaN\n",
            "1     20         100.000000\n",
            "2     30          50.000000\n",
            "3     40          33.333333\n",
            "4     50          25.000000\n"
          ]
        }
      ]
    },
    {
      "cell_type": "code",
      "source": [
        "# how do you calculate rank of values in dataframe column using pandas.\n",
        "import pandas as pd\n",
        "\n",
        "# Create a sample DataFrame\n",
        "df = pd.DataFrame({\n",
        "    'Value': [10, 30, 20, 40, 50]\n",
        "})\n",
        "\n",
        "# Calculate the rank of the 'Value' column\n",
        "df['Rank'] = df['Value'].rank()\n",
        "\n",
        "# Print the DataFrame\n",
        "print(df)\n"
      ],
      "metadata": {
        "colab": {
          "base_uri": "https://localhost:8080/"
        },
        "id": "WxMX4cZiVXri",
        "outputId": "32dfaeb3-9f07-4cd4-bd0a-91c059ecc9a6"
      },
      "execution_count": 28,
      "outputs": [
        {
          "output_type": "stream",
          "name": "stdout",
          "text": [
            "   Value  Rank\n",
            "0     10   1.0\n",
            "1     30   3.0\n",
            "2     20   2.0\n",
            "3     40   4.0\n",
            "4     50   5.0\n"
          ]
        }
      ]
    },
    {
      "cell_type": "code",
      "source": [
        "# how do you calculate the difference between consecutive values in a dataframe column using pandas .\n",
        "import pandas as pd\n",
        "\n",
        "# Create a sample DataFrame\n",
        "df = pd.DataFrame({\n",
        "    'Value': [10, 20, 30, 40, 50]\n",
        "})\n",
        "\n",
        "# Calculate the difference of the 'Value' column\n",
        "df['Difference'] = df['Value'].diff()\n",
        "\n",
        "# Print the DataFrame\n",
        "print(df)\n"
      ],
      "metadata": {
        "colab": {
          "base_uri": "https://localhost:8080/"
        },
        "id": "VMis6xeUWAUy",
        "outputId": "6e3cd792-7370-4e3e-f12e-711fac51881c"
      },
      "execution_count": 29,
      "outputs": [
        {
          "output_type": "stream",
          "name": "stdout",
          "text": [
            "   Value  Difference\n",
            "0     10         NaN\n",
            "1     20        10.0\n",
            "2     30        10.0\n",
            "3     40        10.0\n",
            "4     50        10.0\n"
          ]
        }
      ]
    },
    {
      "cell_type": "code",
      "source": [
        "# how do you drop duplicate rows based on a specific column in pandas.\n",
        "import pandas as pd\n",
        "\n",
        "# Create a sample DataFrame\n",
        "df = pd.DataFrame({\n",
        "    'Name': ['John', 'Mary', 'John', 'David', 'Mary'],\n",
        "    'Age': [25, 30, 25, 40, 30],\n",
        "    'City': ['New York', 'Paris', 'New York', 'London', 'Paris']\n",
        "})\n",
        "\n",
        "# Drop duplicate rows based on the 'Name' column\n",
        "df = df.drop_duplicates(subset=['Name'])\n",
        "\n",
        "# Print the DataFrame\n",
        "print(df)\n"
      ],
      "metadata": {
        "colab": {
          "base_uri": "https://localhost:8080/"
        },
        "id": "IEPu0tflWSx8",
        "outputId": "51eca1c6-e195-429a-a087-601ccd75d717"
      },
      "execution_count": 31,
      "outputs": [
        {
          "output_type": "stream",
          "name": "stdout",
          "text": [
            "    Name  Age      City\n",
            "0   John   25  New York\n",
            "1   Mary   30     Paris\n",
            "3  David   40    London\n"
          ]
        }
      ]
    },
    {
      "cell_type": "code",
      "source": [
        "# how do you calculate mean ,median mode of dataframe column using pandas.\n",
        "import pandas as pd\n",
        "\n",
        "# Create a sample DataFrame\n",
        "df = pd.DataFrame({\n",
        "    'Value': [10, 20, 30, 40, 50]\n",
        "})\n",
        "\n",
        "# Calculate the mean, median, and mode of the 'Value' column\n",
        "mean_value = df['Value'].mean()\n",
        "median_value = df['Value'].median()\n",
        "mode_value = df['Value'].mode()[0] # mode() returns a Series object, we use [0] to get the first value.\n",
        "\n",
        "# Print the results\n",
        "print(\"Mean:\", mean_value)\n",
        "print(\"Median:\", median_value)\n",
        "print(\"Mode:\", mode_value)\n"
      ],
      "metadata": {
        "colab": {
          "base_uri": "https://localhost:8080/"
        },
        "id": "IRnbt3gVWsbT",
        "outputId": "5ef1079d-1037-411e-8d60-7033e681478f"
      },
      "execution_count": 32,
      "outputs": [
        {
          "output_type": "stream",
          "name": "stdout",
          "text": [
            "Mean: 30.0\n",
            "Median: 30.0\n",
            "Mode: 10\n"
          ]
        }
      ]
    },
    {
      "cell_type": "code",
      "source": [
        "# how do you create a histogram of a dataframe column using pandas.\n",
        "import pandas as pd\n",
        "import matplotlib.pyplot as plt\n",
        "\n",
        "# Create a sample DataFrame\n",
        "df = pd.DataFrame({\n",
        "    'Value': [100, 20, 40, 30, 55, 65, 70, 85, 90, 100]\n",
        "})\n",
        "\n",
        "# Create a histogram of the 'Value' column\n",
        "df['Value'].hist()\n",
        "\n",
        "# Add labels and title\n",
        "plt.xlabel('Value')\n",
        "plt.ylabel('Frequency')\n",
        "plt.title('Histogram of Value Column')\n",
        "\n",
        "# Show the plot\n",
        "plt.show()\n"
      ],
      "metadata": {
        "colab": {
          "base_uri": "https://localhost:8080/",
          "height": 472
        },
        "id": "Fm-BpYSbXDCY",
        "outputId": "ba51919b-3519-4c48-f86f-66e8331c0180"
      },
      "execution_count": 34,
      "outputs": [
        {
          "output_type": "display_data",
          "data": {
            "text/plain": [
              "<Figure size 640x480 with 1 Axes>"
            ],
            "image/png": "[encoded data removed]"
          },
          "metadata": {}
        }
      ]
    },
    {
      "cell_type": "code",
      "source": [
        "# how do you create a box plot of a dataframe column using pandas.\n",
        "import pandas as pd\n",
        "import matplotlib.pyplot as plt\n",
        "\n",
        "# Create a sample DataFrame\n",
        "df = pd.DataFrame({\n",
        "    'Value': [10,20,30,40,50,60,70,80,90,100]\n",
        "})\n",
        "\n",
        "# Create a box plot of the 'Value' column\n",
        "df['Value'].plot(kind='box')\n",
        "\n",
        "# Add labels and title\n",
        "plt.xlabel('Value')\n",
        "plt.title('Box plot of Value Column')\n",
        "\n",
        "# Show the plot\n",
        "plt.show()\n"
      ],
      "metadata": {
        "colab": {
          "base_uri": "https://localhost:8080/",
          "height": 472
        },
        "id": "ZWdCY40tX1T7",
        "outputId": "edceaa8c-2141-4f96-b85b-ae489e8c07f8"
      },
      "execution_count": 38,
      "outputs": [
        {
          "output_type": "display_data",
          "data": {
            "text/plain": [
              "<Figure size 640x480 with 1 Axes>"
            ],
            "image/png": "[encoded data removed]"
          },
          "metadata": {}
        }
      ]
    },
    {
      "cell_type": "code",
      "source": [
        "# how do you create a scatterplot of two columns in a dataframe using pandas .\n",
        "import pandas as pd\n",
        "import matplotlib.pyplot as plt\n",
        "\n",
        "# Create a sample DataFrame\n",
        "df = pd.DataFrame({\n",
        "    'X': [1, 2, 3, 4, 5,2.5,3.5,1.5,4.5],\n",
        "    'Y': [10, 20, 30, 40, 50,15,25,35,45]\n",
        "})\n",
        "\n",
        "# Create a scatterplot of the 'X' and 'Y' columns\n",
        "df.plot(kind='scatter', x='X', y='Y')\n",
        "\n",
        "# Add labels and title\n",
        "plt.xlabel('X')\n",
        "plt.ylabel('Y')\n",
        "plt.title('Scatterplot of X and Y Columns')\n",
        "\n",
        "# Show the plot\n",
        "plt.show()\n",
        "\n"
      ],
      "metadata": {
        "colab": {
          "base_uri": "https://localhost:8080/",
          "height": 472
        },
        "id": "3ugRpT4QYd_v",
        "outputId": "704b5b9e-daa4-4298-e841-1c5c6a998454"
      },
      "execution_count": 40,
      "outputs": [
        {
          "output_type": "display_data",
          "data": {
            "text/plain": [
              "<Figure size 640x480 with 1 Axes>"
            ],
            "image/png": "[encoded data removed]"
          },
          "metadata": {}
        }
      ]
    },
    {
      "cell_type": "code",
      "source": [],
      "metadata": {
        "id": "CAYbdCpMZaec"
      },
      "execution_count": null,
      "outputs": []
    }
  ]
}