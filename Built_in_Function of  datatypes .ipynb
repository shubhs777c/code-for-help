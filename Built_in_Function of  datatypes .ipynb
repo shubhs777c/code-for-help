{
  "nbformat": 4,
  "nbformat_minor": 0,
  "metadata": {
    "colab": {
      "provenance": [],
      "authorship_tag": "ABX9TyP73FNhIheuedMdSf4DETeV",
      "include_colab_link": true
    },
    "kernelspec": {
      "name": "python3",
      "display_name": "Python 3"
    },
    "language_info": {
      "name": "python"
    }
  },
  "cells": [
    {
      "cell_type": "markdown",
      "metadata": {
        "id": "view-in-github",
        "colab_type": "text"
      },
      "source": [
        "<a href=\"https://colab.research.google.com/github/shubhs777c/python-practice/blob/main/Built_in_Function%20of%20%20datatypes%20.ipynb\" target=\"_parent\"><img src=\"https://colab.research.google.com/assets/colab-badge.svg\" alt=\"Open In Colab\"/></a>"
      ]
    },
    {
      "cell_type": "markdown",
      "source": [
        "# **STRING IN BUILT UP FUNCTION**"
      ],
      "metadata": {
        "id": "nwP7YHcVXmFD"
      }
    },
    {
      "cell_type": "code",
      "execution_count": 1,
      "metadata": {
        "colab": {
          "base_uri": "https://localhost:8080/"
        },
        "id": "zF2WhptLWCkG",
        "outputId": "bcfc3683-67d8-47d8-948d-46d05a593075"
      },
      "outputs": [
        {
          "output_type": "stream",
          "name": "stdout",
          "text": [
            "Hello world\n"
          ]
        }
      ],
      "source": [
        "# string in capitalize. # capitalize 1st word of string.\n",
        "my_string = \"hello world\"\n",
        "capitalized_string = my_string.capitalize()\n",
        "print(capitalized_string)"
      ]
    },
    {
      "cell_type": "code",
      "source": [
        "# casefold in string . # convert all capital string in lower case .\n",
        "my_string = \"Hello World\"\n",
        "casefolded_string = my_string.casefold()\n",
        "print(casefolded_string)"
      ],
      "metadata": {
        "colab": {
          "base_uri": "https://localhost:8080/"
        },
        "id": "lKy2ELbgWgNY",
        "outputId": "6b75254a-be06-496b-d83e-c45a378240f0"
      },
      "execution_count": 2,
      "outputs": [
        {
          "output_type": "stream",
          "name": "stdout",
          "text": [
            "hello world\n"
          ]
        }
      ]
    },
    {
      "cell_type": "code",
      "source": [
        "# center in string .center() in Python is used to center a string within a specified width by padding it with a specified character on both sides.\n",
        "my_string = \"Hello\"\n",
        "centered_string = my_string.center(50, '-')\n",
        "print(centered_string)\n"
      ],
      "metadata": {
        "colab": {
          "base_uri": "https://localhost:8080/"
        },
        "id": "0sSqw3yqXCkh",
        "outputId": "29d2d464-fc7d-4fc1-c02c-c858c930e8be"
      },
      "execution_count": 4,
      "outputs": [
        {
          "output_type": "stream",
          "name": "stdout",
          "text": [
            "----------------------Hello-----------------------\n"
          ]
        }
      ]
    },
    {
      "cell_type": "code",
      "source": [
        "# count in string. count() in Python is used to count the number of occurrences of a substring in a given string. \n",
        "# It takes a single argument, which is the substring to be searched in the string.\n",
        "my_string = \"Hello World\"\n",
        "count = my_string.count('l')\n",
        "print(count)\n",
        "\n",
        "my_string = \"Hello World\"\n",
        "count = my_string.count('o', 0, 5)\n",
        "print(count)\n"
      ],
      "metadata": {
        "colab": {
          "base_uri": "https://localhost:8080/"
        },
        "id": "JH2xhAJfXOnG",
        "outputId": "813677b5-e037-4458-ecf9-9728c40a5435"
      },
      "execution_count": 6,
      "outputs": [
        {
          "output_type": "stream",
          "name": "stdout",
          "text": [
            "3\n",
            "1\n"
          ]
        }
      ]
    },
    {
      "cell_type": "code",
      "source": [
        "# endswith in string . endswith() in Python is used to check whether a string ends with a specified suffix or not. \n",
        "# It returns True if the string ends with the specified suffix, otherwise it returns False.\n",
        "my_string = \"Hello World\"\n",
        "result = my_string.endswith(\"World\")   # its for only one character \n",
        "print(result)\n",
        "\n",
        "my_string = \"Hello World\"\n",
        "result = my_string.endswith((\"World\", \"Universe\"))   # its with multiple character \n",
        "print(result)"
      ],
      "metadata": {
        "colab": {
          "base_uri": "https://localhost:8080/"
        },
        "id": "0FcUGZpAXyKl",
        "outputId": "ec823291-aa56-400f-c784-88fe4c047303"
      },
      "execution_count": 8,
      "outputs": [
        {
          "output_type": "stream",
          "name": "stdout",
          "text": [
            "True\n",
            "True\n"
          ]
        }
      ]
    },
    {
      "cell_type": "code",
      "source": [
        "# find and index in strings. both are in similiar in nature.\n",
        "# find() in Python is used to search for a substring within a string and return the index of its first occurrence.\n",
        "#  If the substring is not found, it returns -1.\n",
        "my_string = \"Hello World\"\n",
        "index = my_string.find(\"World\")  # is its find then prints its first index number.\n",
        "print(index)\n",
        "\n",
        "my_string = \"Hello World\"\n",
        "index = my_string.find(\"l\", 4, 9)  # find the string in between 4 to 9 index.\n",
        "print(index)"
      ],
      "metadata": {
        "colab": {
          "base_uri": "https://localhost:8080/"
        },
        "id": "j9QA8eiaY1KU",
        "outputId": "8c35b262-883e-4ca2-97ef-997e000646ce"
      },
      "execution_count": 10,
      "outputs": [
        {
          "output_type": "stream",
          "name": "stdout",
          "text": [
            "6\n",
            "-1\n"
          ]
        }
      ]
    },
    {
      "cell_type": "code",
      "source": [
        "# isalnum in string.\n",
        "my_string = \"Hello123\"\n",
        "result = my_string.isalnum()\n",
        "print(result)"
      ],
      "metadata": {
        "colab": {
          "base_uri": "https://localhost:8080/"
        },
        "id": "N5ZeF5zjZ2W8",
        "outputId": "fd08651f-a5f4-4453-86d4-712f18cefe6f"
      },
      "execution_count": 11,
      "outputs": [
        {
          "output_type": "stream",
          "name": "stdout",
          "text": [
            "True\n"
          ]
        }
      ]
    },
    {
      "cell_type": "code",
      "source": [
        "# isalpha in strings.\n",
        "# The method isalpha() in Python is used to check whether a string contains only alphabetical characters or not. \n",
        "# It returns True if the string contains only alphabetical characters, and False otherwise.\n",
        "my_string = \"Hello\"\n",
        "result = my_string.isalpha()\n",
        "print(result)\n",
        "\n",
        "\n",
        "my_string = \"Hello123\"\n",
        "result = my_string.isalpha()\n",
        "print(result)"
      ],
      "metadata": {
        "colab": {
          "base_uri": "https://localhost:8080/"
        },
        "id": "2LlT36e3cpwp",
        "outputId": "f39b5a07-4bbd-45e0-c31f-5c8311a81295"
      },
      "execution_count": 14,
      "outputs": [
        {
          "output_type": "stream",
          "name": "stdout",
          "text": [
            "True\n",
            "False\n"
          ]
        }
      ]
    },
    {
      "cell_type": "code",
      "source": [
        "# isdecimal in string. isdecimal() in Python is used to check whether a string contains only decimal (base 10) digits or not. \n",
        "# It returns True if the string contains only decimal digits, and False otherwise.\n",
        "my_string = \"12345\"\n",
        "result = my_string.isdecimal()\n",
        "print(result)\n",
        "\n",
        "my_string = \"12345.67\"\n",
        "result = my_string.isdecimal()\n",
        "print(result)"
      ],
      "metadata": {
        "colab": {
          "base_uri": "https://localhost:8080/"
        },
        "id": "jmt21w6adUol",
        "outputId": "dda597e6-852f-4391-b45d-e360adefdd4b"
      },
      "execution_count": 17,
      "outputs": [
        {
          "output_type": "stream",
          "name": "stdout",
          "text": [
            "True\n",
            "False\n"
          ]
        }
      ]
    },
    {
      "cell_type": "code",
      "source": [
        "# isdigit in strings. isdigit() in Python is used to check whether a string contains only digits or not. \n",
        "# It returns True if the string contains only digits, and False otherwise.\n",
        "my_string = \"12345\"\n",
        "result = my_string.isdigit()\n",
        "print(result)\n",
        "\n",
        "\n",
        "my_string = \"12345.67\"\n",
        "result = my_string.isdigit()\n",
        "print(result)"
      ],
      "metadata": {
        "colab": {
          "base_uri": "https://localhost:8080/"
        },
        "id": "0VJrTggMdt8F",
        "outputId": "c724b98e-7693-4113-c2e4-0935e88f8e5a"
      },
      "execution_count": 20,
      "outputs": [
        {
          "output_type": "stream",
          "name": "stdout",
          "text": [
            "True\n",
            "False\n"
          ]
        }
      ]
    },
    {
      "cell_type": "code",
      "source": [
        "# isidentifier in string. The method isidentifier() in Python is used to check whether a string is a valid identifier or not.\n",
        "my_string = \"my_variable\"\n",
        "result = my_string.isidentifier()\n",
        "print(result)\n",
        "\n",
        "my_string = \"123variable\"\n",
        "result = my_string.isidentifier()\n",
        "print(result)"
      ],
      "metadata": {
        "colab": {
          "base_uri": "https://localhost:8080/"
        },
        "id": "ON2QTapPeHrE",
        "outputId": "d12ffd4d-0528-4073-ab57-5d85c22cdbef"
      },
      "execution_count": 22,
      "outputs": [
        {
          "output_type": "stream",
          "name": "stdout",
          "text": [
            "True\n",
            "False\n"
          ]
        }
      ]
    },
    {
      "cell_type": "code",
      "source": [
        "# islower in strings.islower() in Python is used to check whether all the alphabetic characters in a string are lowercase or not. \n",
        "# It returns True if all the alphabetic characters are lowercase, and False otherwise.\n",
        "my_string = \"hello world\"\n",
        "result = my_string.islower()\n",
        "print(result)\n",
        "\n",
        "\n",
        "my_string = \"Hello World\"\n",
        "result = my_string.islower()\n",
        "print(result)"
      ],
      "metadata": {
        "colab": {
          "base_uri": "https://localhost:8080/"
        },
        "id": "v3CI2VdMeeVv",
        "outputId": "ed03e615-4b60-4d29-8c82-04d581352b8d"
      },
      "execution_count": 25,
      "outputs": [
        {
          "output_type": "stream",
          "name": "stdout",
          "text": [
            "True\n",
            "False\n"
          ]
        }
      ]
    },
    {
      "cell_type": "code",
      "source": [
        "# isnumeric in strings.isnumeric() in Python is used to check whether a string contains only numeric characters or not. \n",
        "# It returns True if all the characters in the string are numeric, and False otherwise.\n",
        "my_string = \"12345\"\n",
        "result = my_string.isnumeric()\n",
        "print(result)\n",
        "\n",
        "\n",
        "my_string = \"12345.67\"\n",
        "result = my_string.isnumeric()\n",
        "print(result)"
      ],
      "metadata": {
        "colab": {
          "base_uri": "https://localhost:8080/"
        },
        "id": "b9FI0vrzgHJy",
        "outputId": "2e170015-9c30-4fba-91b3-5e2854ef4515"
      },
      "execution_count": 26,
      "outputs": [
        {
          "output_type": "stream",
          "name": "stdout",
          "text": [
            "True\n",
            "False\n"
          ]
        }
      ]
    },
    {
      "cell_type": "code",
      "source": [
        "# isprintable in strings. isprintable() method returns True if all the characters in the string are printable, and False otherwise.\n",
        "my_string = \"Hello, world!\"\n",
        "result = my_string.isprintable()\n",
        "print(result)\n",
        "\n",
        "\n",
        "my_string = \"Hello,\\nworld!\"\n",
        "result = my_string.isprintable()\n",
        "print(result)"
      ],
      "metadata": {
        "colab": {
          "base_uri": "https://localhost:8080/"
        },
        "id": "XroeZL-nge8K",
        "outputId": "f5f00d0e-3da1-4bcf-8fd7-a8ca1f6e68b3"
      },
      "execution_count": 27,
      "outputs": [
        {
          "output_type": "stream",
          "name": "stdout",
          "text": [
            "True\n",
            "False\n"
          ]
        }
      ]
    },
    {
      "cell_type": "code",
      "source": [
        "# isspace in string.isspace() in Python is used to check whether a string contains only whitespace characters or not. \n",
        "# It returns True if all the characters in the string are whitespace characters, and False otherwise.\n",
        "my_string = \"   \\t   \"\n",
        "result = my_string.isspace()\n",
        "print(result)\n",
        "\n",
        "\n",
        "my_string = \"   \\t   Hello, world!   \\t   \"\n",
        "result = my_string.isspace()\n",
        "print(result)"
      ],
      "metadata": {
        "colab": {
          "base_uri": "https://localhost:8080/"
        },
        "id": "oVL2bAIcg1Fl",
        "outputId": "9fe6c547-2694-4078-b073-e057a25eb8f8"
      },
      "execution_count": 30,
      "outputs": [
        {
          "output_type": "stream",
          "name": "stdout",
          "text": [
            "True\n",
            "False\n"
          ]
        }
      ]
    },
    {
      "cell_type": "code",
      "source": [
        "# isupper in strings.isupper() in Python is used to check whether all the alphabetic characters in a string are uppercase or not.\n",
        "#  It returns True if all the alphabetic characters are uppercase, and False otherwise.\n",
        "my_string = \"HELLO WORLD\"\n",
        "result = my_string.isupper()\n",
        "print(result)\n",
        "\n",
        "\n",
        "my_string = \"Hello World\"\n",
        "result = my_string.isupper()\n",
        "print(result)"
      ],
      "metadata": {
        "colab": {
          "base_uri": "https://localhost:8080/"
        },
        "id": "y5GwkeadhR-f",
        "outputId": "cc75481e-d6c7-4b63-d297-f50f867193af"
      },
      "execution_count": 31,
      "outputs": [
        {
          "output_type": "stream",
          "name": "stdout",
          "text": [
            "True\n",
            "False\n"
          ]
        }
      ]
    },
    {
      "cell_type": "code",
      "source": [
        "# join in strings. join() in Python is used to concatenate a list of strings into a single string, using a specified separator string between each pair of adjacent strings.\n",
        "my_list = [\"apple\", \"banana\", \"cherry\"]\n",
        "separator = \", \"\n",
        "result = separator.join(my_list)\n",
        "print(result)\n",
        "\n",
        "\n",
        "my_list = [\"apple\", 1, \"cherry\"]\n",
        "separator = \", \"\n",
        "result = separator.join(my_list)\n"
      ],
      "metadata": {
        "colab": {
          "base_uri": "https://localhost:8080/",
          "height": 217
        },
        "id": "6UG5akUSheJX",
        "outputId": "5d5d8516-b178-4615-823a-2f6ba2f968c6"
      },
      "execution_count": 32,
      "outputs": [
        {
          "output_type": "stream",
          "name": "stdout",
          "text": [
            "apple, banana, cherry\n"
          ]
        },
        {
          "output_type": "error",
          "ename": "TypeError",
          "evalue": "ignored",
          "traceback": [
            "\u001b[0;31m---------------------------------------------------------------------------\u001b[0m",
            "\u001b[0;31mTypeError\u001b[0m                                 Traceback (most recent call last)",
            "\u001b[0;32m<ipython-input-32-5e1f65fa7623>\u001b[0m in \u001b[0;36m<cell line: 10>\u001b[0;34m()\u001b[0m\n\u001b[1;32m      8\u001b[0m \u001b[0mmy_list\u001b[0m \u001b[0;34m=\u001b[0m \u001b[0;34m[\u001b[0m\u001b[0;34m\"apple\"\u001b[0m\u001b[0;34m,\u001b[0m \u001b[0;36m1\u001b[0m\u001b[0;34m,\u001b[0m \u001b[0;34m\"cherry\"\u001b[0m\u001b[0;34m]\u001b[0m\u001b[0;34m\u001b[0m\u001b[0;34m\u001b[0m\u001b[0m\n\u001b[1;32m      9\u001b[0m \u001b[0mseparator\u001b[0m \u001b[0;34m=\u001b[0m \u001b[0;34m\", \"\u001b[0m\u001b[0;34m\u001b[0m\u001b[0;34m\u001b[0m\u001b[0m\n\u001b[0;32m---> 10\u001b[0;31m \u001b[0mresult\u001b[0m \u001b[0;34m=\u001b[0m \u001b[0mseparator\u001b[0m\u001b[0;34m.\u001b[0m\u001b[0mjoin\u001b[0m\u001b[0;34m(\u001b[0m\u001b[0mmy_list\u001b[0m\u001b[0;34m)\u001b[0m\u001b[0;34m\u001b[0m\u001b[0;34m\u001b[0m\u001b[0m\n\u001b[0m",
            "\u001b[0;31mTypeError\u001b[0m: sequence item 1: expected str instance, int found"
          ]
        }
      ]
    },
    {
      "cell_type": "code",
      "source": [
        "# replace in strings.replace() in Python is used to create a new string where all occurrences of a specified substring or character in a string are replaced with another substring or character.\n",
        "my_string = \"The quick brown fox jumps over the lazy dog\"\n",
        "old_substring = \"the\"\n",
        "new_substring = \"a\"\n",
        "result = my_string.replace(old_substring, new_substring)\n",
        "print(result)\n",
        "\n",
        "\n",
        "my_string = \"The quick brown fox jumps over the lazy cat\"\n",
        "old_substring = \"cat\"\n",
        "new_substring = \"dog\"\n",
        "result = my_string.replace(old_substring, new_substring)\n",
        "print(result)\n"
      ],
      "metadata": {
        "colab": {
          "base_uri": "https://localhost:8080/"
        },
        "id": "2l18vvoBh5j8",
        "outputId": "96c8eee4-af07-448c-c35e-40d318938b50"
      },
      "execution_count": 35,
      "outputs": [
        {
          "output_type": "stream",
          "name": "stdout",
          "text": [
            "The quick brown fox jumps over a lazy dog\n",
            "The quick brown fox jumps over the lazy dog\n"
          ]
        }
      ]
    },
    {
      "cell_type": "code",
      "source": [
        "# startswith in strings.startswith() in Python is used to check whether a string starts with a specified substring or not.\n",
        "# It returns True if the string starts with the specified substring, and False otherwise.\n",
        "my_string = \"Hello, world!\"\n",
        "substring = \"Hello\"\n",
        "result = my_string.startswith(substring)\n",
        "print(result)\n",
        "\n",
        "\n",
        "my_string = \"Hello, world!\"\n",
        "substring = \"World\"\n",
        "result = my_string.startswith(substring)\n",
        "print(result)"
      ],
      "metadata": {
        "colab": {
          "base_uri": "https://localhost:8080/"
        },
        "id": "znOhC7vJikUe",
        "outputId": "eff81fe8-0e28-4b59-bfc9-838c96c8f084"
      },
      "execution_count": 38,
      "outputs": [
        {
          "output_type": "stream",
          "name": "stdout",
          "text": [
            "True\n",
            "False\n"
          ]
        }
      ]
    },
    {
      "cell_type": "code",
      "source": [
        "# swapcase in strings. swapcase() in Python is used to create a new string where all lowercase characters are converted to uppercase, \n",
        "# and all uppercase characters are converted to lowercase.\n",
        "my_string = \"Hello, World!\"\n",
        "result = my_string.swapcase()\n",
        "print(result)\n",
        "\n",
        "\n",
        "my_string = \"12345\"\n",
        "result = my_string.swapcase()\n",
        "print(result)"
      ],
      "metadata": {
        "colab": {
          "base_uri": "https://localhost:8080/"
        },
        "id": "ON8HxS2ei_AW",
        "outputId": "07d84a97-d248-4554-e40a-07412e5d5262"
      },
      "execution_count": 41,
      "outputs": [
        {
          "output_type": "stream",
          "name": "stdout",
          "text": [
            "hELLO, wORLD!\n",
            "12345\n"
          ]
        }
      ]
    },
    {
      "cell_type": "code",
      "source": [
        "# istitle in strings.istitle() in Python is used to check whether a string is in titlecase or not. \n",
        "# A string is considered to be in titlecase if the first character of each word is in uppercase, and all other characters are in lowercase.\n",
        "my_string = \"The Quick Brown Fox Jumps Over The Lazy Dog\"\n",
        "result = my_string.istitle()\n",
        "print(result)\n",
        "\n",
        "\n",
        "my_string = \"the quick brown fox jumps over the lazy dog\"\n",
        "result = my_string.istitle()\n",
        "print(result)"
      ],
      "metadata": {
        "colab": {
          "base_uri": "https://localhost:8080/"
        },
        "id": "dewxvp9lj6OQ",
        "outputId": "b539dd08-c9a6-41b7-e879-d757201c82c7"
      },
      "execution_count": 43,
      "outputs": [
        {
          "output_type": "stream",
          "name": "stdout",
          "text": [
            "True\n",
            "False\n"
          ]
        }
      ]
    },
    {
      "cell_type": "code",
      "source": [
        "# zfill in strings . zfill() method in Python is used to pad a string with leading zeros (0) to a specified width. \n",
        "# This is useful for aligning numeric strings, such as IDs or zip codes, that have a fixed number of digits.\n",
        "my_string = \"42\"\n",
        "result = my_string.zfill(5)\n",
        "print(result)\n",
        "\n",
        "\n",
        "my_string = \"12345\"\n",
        "result = my_string.zfill(4)\n",
        "print(result)"
      ],
      "metadata": {
        "colab": {
          "base_uri": "https://localhost:8080/"
        },
        "id": "Oz5q5NpckRQt",
        "outputId": "35adc31d-1e2c-417f-e257-cf62d3cf1219"
      },
      "execution_count": 45,
      "outputs": [
        {
          "output_type": "stream",
          "name": "stdout",
          "text": [
            "00042\n",
            "12345\n"
          ]
        }
      ]
    },
    {
      "cell_type": "markdown",
      "source": [
        "# **List**"
      ],
      "metadata": {
        "id": "SIuurWotkvxE"
      }
    },
    {
      "cell_type": "code",
      "source": [
        "# append in lists. append() method in Python is used to add an element to the end of a list.\n",
        "my_list = [1, 2, 3]\n",
        "my_list.append(4)\n",
        "print(my_list)\n",
        "\n",
        "\n",
        "my_list = [1, 2, 3]\n",
        "my_list.append(4)\n",
        "my_list.append(5)\n",
        "my_list.append(6)\n",
        "print(my_list)"
      ],
      "metadata": {
        "colab": {
          "base_uri": "https://localhost:8080/"
        },
        "id": "RaztktzvktKU",
        "outputId": "db750a02-814d-46df-b02b-7473c73c3e0d"
      },
      "execution_count": 47,
      "outputs": [
        {
          "output_type": "stream",
          "name": "stdout",
          "text": [
            "[1, 2, 3, 4]\n",
            "[1, 2, 3, 4, 5, 6]\n"
          ]
        }
      ]
    },
    {
      "cell_type": "code",
      "source": [
        "# clear in list. clear() method in Python is used to remove all elements from a list. After calling clear(), the list will be empty.\n",
        "my_list = [1, 2, 3, 4, 5]\n",
        "my_list.clear()\n",
        "print(my_list)\n",
        "\n",
        "\n",
        "my_list = []\n",
        "my_list.clear()\n",
        "print(my_list)"
      ],
      "metadata": {
        "colab": {
          "base_uri": "https://localhost:8080/"
        },
        "id": "kb1B2EsEqcld",
        "outputId": "52b746a7-6382-4dbc-81f6-c2026455bef5"
      },
      "execution_count": 49,
      "outputs": [
        {
          "output_type": "stream",
          "name": "stdout",
          "text": [
            "[]\n",
            "[]\n"
          ]
        }
      ]
    },
    {
      "cell_type": "code",
      "source": [
        "# copy in string.\n",
        "# The copy() method is not a valid method for strings in Python. \n",
        "# This is because strings are immutable in Python, which means that their contents cannot be changed once they are created. \n",
        "# Therefore, there is no need to make a copy of a string since the original string cannot be modified.\n",
        "my_list = [\"apple\", \"banana\", \"cherry\"]\n",
        "new_list = my_list.copy()\n",
        "print(new_list)"
      ],
      "metadata": {
        "colab": {
          "base_uri": "https://localhost:8080/"
        },
        "id": "LHGRDENpqvux",
        "outputId": "13397e28-e5da-4cbe-8662-69f6366144a5"
      },
      "execution_count": 51,
      "outputs": [
        {
          "output_type": "stream",
          "name": "stdout",
          "text": [
            "['apple', 'banana', 'cherry']\n"
          ]
        }
      ]
    },
    {
      "cell_type": "code",
      "source": [
        "# count in string.\n",
        "# The count() method in Python is used to count the number of occurrences of a substring within a string.\n",
        "my_string = \"hello world\"\n",
        "count = my_string.count(\"o\")\n",
        "print(count)\n",
        "\n",
        "\n",
        "my_string = \"hello world\"\n",
        "count = my_string.count(\"l\", 3, 7)\n",
        "print(count)"
      ],
      "metadata": {
        "colab": {
          "base_uri": "https://localhost:8080/"
        },
        "id": "N_v9K7k4rYjL",
        "outputId": "7f6dce82-f367-4147-9662-a8fe0969c9a5"
      },
      "execution_count": 54,
      "outputs": [
        {
          "output_type": "stream",
          "name": "stdout",
          "text": [
            "2\n",
            "1\n"
          ]
        }
      ]
    },
    {
      "cell_type": "code",
      "source": [
        "# extend in list .extend() method in Python is used to add elements of an iterable (e.g., a list, tuple, set, etc.) to the end of an existing list.\n",
        "my_list = [1, 2, 3]\n",
        "new_elements = [4, 5, 6]\n",
        "my_list.extend(new_elements)\n",
        "print(my_list)"
      ],
      "metadata": {
        "colab": {
          "base_uri": "https://localhost:8080/"
        },
        "id": "4ors2mKxsMNu",
        "outputId": "3670337e-ca2f-473a-8737-decae813318c"
      },
      "execution_count": 55,
      "outputs": [
        {
          "output_type": "stream",
          "name": "stdout",
          "text": [
            "[1, 2, 3, 4, 5, 6]\n"
          ]
        }
      ]
    },
    {
      "cell_type": "code",
      "source": [
        "# index in list .The index() method in Python is used to find the first occurrence of a specified element within a list and return its index.\n",
        "my_list = [1, 2, 3, 4, 5]\n",
        "index = my_list.index(3)\n",
        "print(index)\n",
        "\n",
        "\n",
        "my_list = [1, 2, 3, 4, 5]\n",
        "index = my_list.index(3, 1, 4)\n",
        "print(index)"
      ],
      "metadata": {
        "colab": {
          "base_uri": "https://localhost:8080/"
        },
        "id": "3ve--1_Msrjv",
        "outputId": "6fe2d9db-82d0-454d-d4a6-a5f8aed2c816"
      },
      "execution_count": 57,
      "outputs": [
        {
          "output_type": "stream",
          "name": "stdout",
          "text": [
            "2\n",
            "2\n"
          ]
        }
      ]
    },
    {
      "cell_type": "code",
      "source": [
        "# insert in list.The insert() method in Python is used to insert an element into a specified index position in a list.\n",
        "my_list = [1, 2, 3, 4, 5]\n",
        "my_list.insert(2, \"apple\")\n",
        "print(my_list)\n",
        "\n",
        "\n",
        "my_list = [1, 2, 3, 4, 5]\n",
        "my_list.insert(-2, \"banana\")\n",
        "print(my_list)"
      ],
      "metadata": {
        "colab": {
          "base_uri": "https://localhost:8080/"
        },
        "id": "3RBPdDwMtAgk",
        "outputId": "dcbcd6d6-51cf-4068-fbfe-a5352fca82a0"
      },
      "execution_count": 59,
      "outputs": [
        {
          "output_type": "stream",
          "name": "stdout",
          "text": [
            "[1, 2, 'apple', 3, 4, 5]\n",
            "[1, 2, 3, 'banana', 4, 5]\n"
          ]
        }
      ]
    },
    {
      "cell_type": "code",
      "source": [
        "# pop in list.The pop() method in Python is used to remove and return an element from a specified index position in a list\n",
        "my_list = [1, 2, 3, 4, 5]\n",
        "popped_element = my_list.pop(2)\n",
        "print(popped_element)\n",
        "print(my_list)\n",
        "\n",
        "\n",
        "my_list = [1, 2, 3, 4, 5]\n",
        "popped_element = my_list.pop(-1)\n",
        "print(popped_element)\n",
        "print(my_list)"
      ],
      "metadata": {
        "colab": {
          "base_uri": "https://localhost:8080/"
        },
        "id": "Xef1RBf0toSi",
        "outputId": "3d182b78-4754-4d3d-dbb8-2c32796a2eb2"
      },
      "execution_count": 60,
      "outputs": [
        {
          "output_type": "stream",
          "name": "stdout",
          "text": [
            "3\n",
            "[1, 2, 4, 5]\n",
            "5\n",
            "[1, 2, 3, 4]\n"
          ]
        }
      ]
    },
    {
      "cell_type": "code",
      "source": [
        "# remove in list.The remove() method in Python is used to remove the first occurrence of a specified element from a list.\n",
        "my_list = [1, 2, 3, 4, 5]\n",
        "my_list.remove(3)\n",
        "print(my_list)\n",
        "\n",
        "\n",
        "my_list = [1, 2, 3, 4, 3, 5]\n",
        "while 3 in my_list:\n",
        "    my_list.remove(3)\n",
        "print(my_list)\n"
      ],
      "metadata": {
        "colab": {
          "base_uri": "https://localhost:8080/"
        },
        "id": "b0tFzIg-ub0D",
        "outputId": "9c22d33f-d15e-4b3e-9a57-67aaa6fdfd2d"
      },
      "execution_count": 61,
      "outputs": [
        {
          "output_type": "stream",
          "name": "stdout",
          "text": [
            "[1, 2, 4, 5]\n",
            "[1, 2, 4, 5]\n"
          ]
        }
      ]
    },
    {
      "cell_type": "code",
      "source": [
        "# reverse in list.The reverse() method in Python is used to reverse the order of elements in a list.\n",
        "my_list = [1, 2, 3, 4, 5]\n",
        "my_list.reverse()\n",
        "print(my_list)\n",
        "\n",
        "\n",
        "my_list = [1, 2, 3, 4, 5]\n",
        "reversed_list = my_list[::-1]\n",
        "print(reversed_list)"
      ],
      "metadata": {
        "colab": {
          "base_uri": "https://localhost:8080/"
        },
        "id": "tR53bQGQvV_M",
        "outputId": "33f1f4d0-e691-4eeb-8359-93ba6441f574"
      },
      "execution_count": 63,
      "outputs": [
        {
          "output_type": "stream",
          "name": "stdout",
          "text": [
            "[5, 4, 3, 2, 1]\n",
            "[5, 4, 3, 2, 1]\n"
          ]
        }
      ]
    },
    {
      "cell_type": "code",
      "source": [
        "# sort in list .The sort() method in Python is used to sort the elements of a list in ascending order.\n",
        "my_list = [5, 2, 8, 1, 9]\n",
        "my_list.sort()\n",
        "print(my_list)\n",
        "\n",
        "\n",
        "my_list = [5, 2, 8, 1, 9]\n",
        "sorted_list = sorted(my_list)\n",
        "print(sorted_list)"
      ],
      "metadata": {
        "colab": {
          "base_uri": "https://localhost:8080/"
        },
        "id": "yFu1alrrvyzr",
        "outputId": "8fd23708-d4a0-4d83-a964-eccd86f41232"
      },
      "execution_count": 65,
      "outputs": [
        {
          "output_type": "stream",
          "name": "stdout",
          "text": [
            "[1, 2, 5, 8, 9]\n",
            "[1, 2, 5, 8, 9]\n"
          ]
        }
      ]
    },
    {
      "cell_type": "markdown",
      "source": [
        "# **TUPLE**"
      ],
      "metadata": {
        "id": "UoPtE0y_wObT"
      }
    },
    {
      "cell_type": "code",
      "source": [
        "# count(): Returns the number of occurrences of a value in a tuple.\n",
        "my_tuple = (1, 2, 3, 2, 4, 2, 5)\n",
        "print(my_tuple.count(2)) "
      ],
      "metadata": {
        "colab": {
          "base_uri": "https://localhost:8080/"
        },
        "id": "lMi0LRinwLQa",
        "outputId": "3243ffd6-3c3b-4cb4-f61f-27093e62575e"
      },
      "execution_count": 66,
      "outputs": [
        {
          "output_type": "stream",
          "name": "stdout",
          "text": [
            "3\n"
          ]
        }
      ]
    },
    {
      "cell_type": "code",
      "source": [
        "# index(): Returns the index of the first occurrence of a value in a tuple. Raises a ValueError if the value is not found.\n",
        "my_tuple = (1, 2, 3, 2, 4, 2, 5)\n",
        "print(my_tuple.index(2)) "
      ],
      "metadata": {
        "colab": {
          "base_uri": "https://localhost:8080/"
        },
        "id": "s4-nQKUZzKsj",
        "outputId": "4c032302-b2be-4c95-e05d-ac313cd7d5ff"
      },
      "execution_count": 67,
      "outputs": [
        {
          "output_type": "stream",
          "name": "stdout",
          "text": [
            "1\n"
          ]
        }
      ]
    },
    {
      "cell_type": "code",
      "source": [
        "# Concatenation: Tuples can be concatenated using the + operator. This creates a new tuple with the elements of the original tuples.\n",
        "tuple1 = (1, 2, 3)\n",
        "tuple2 = (4, 5, 6)\n",
        "concatenated_tuple = tuple1 + tuple2\n",
        "print(concatenated_tuple) "
      ],
      "metadata": {
        "colab": {
          "base_uri": "https://localhost:8080/"
        },
        "id": "8hGUR-_OzVVO",
        "outputId": "8ee3f992-34be-4ea1-c1ed-84e1913799ed"
      },
      "execution_count": 68,
      "outputs": [
        {
          "output_type": "stream",
          "name": "stdout",
          "text": [
            "(1, 2, 3, 4, 5, 6)\n"
          ]
        }
      ]
    },
    {
      "cell_type": "code",
      "source": [
        "# Sort: Since tuples are immutable, you cannot sort them. However, you can sort the elements of a tuple using the sorted() function.\n",
        "tuple1 = (3, 2, 1)\n",
        "sorted_tuple = tuple(sorted(tuple1))\n",
        "print(sorted_tuple) "
      ],
      "metadata": {
        "colab": {
          "base_uri": "https://localhost:8080/"
        },
        "id": "yIplYwLa_r__",
        "outputId": "675e8d8e-96a7-4072-be4d-8dcd1bfd32e6"
      },
      "execution_count": 72,
      "outputs": [
        {
          "output_type": "stream",
          "name": "stdout",
          "text": [
            "(1, 2, 3)\n"
          ]
        }
      ]
    },
    {
      "cell_type": "markdown",
      "source": [
        "# **SETS**"
      ],
      "metadata": {
        "id": "tfcWvWUZ_5or"
      }
    },
    {
      "cell_type": "code",
      "source": [
        "# add in sets. add() method adds a single element to the set. If the element is already present in the set, then the add() method has no effect.\n",
        "set1 = {1, 2, 3}\n",
        "set1.add(4)\n",
        "print(set1) \n",
        "\n",
        "# Adding an element that is already in the set\n",
        "set1.add(3)\n",
        "print(set1)\n",
        "\n",
        "\n",
        "set1 = {1, 2, 3}\n",
        "set1.update([4, 5])\n",
        "print(set1) \n",
        "\n",
        "set1.update((6, 7))\n",
        "print(set1) \n"
      ],
      "metadata": {
        "colab": {
          "base_uri": "https://localhost:8080/"
        },
        "id": "80PZQsgn_-G0",
        "outputId": "baa7475b-62e1-486d-990c-5f32d2bf598b"
      },
      "execution_count": 74,
      "outputs": [
        {
          "output_type": "stream",
          "name": "stdout",
          "text": [
            "{1, 2, 3, 4}\n",
            "{1, 2, 3, 4}\n",
            "{1, 2, 3, 4, 5}\n",
            "{1, 2, 3, 4, 5, 6, 7}\n"
          ]
        }
      ]
    },
    {
      "cell_type": "code",
      "source": [
        "# clear in sets. clear() method to remove all elements from a set. \n",
        "# The clear() method does not return any value and only removes all the elements from the set .\n",
        "set1 = {1, 2, 3, 4, 5}\n",
        "set1.clear()\n",
        "print(set1) "
      ],
      "metadata": {
        "colab": {
          "base_uri": "https://localhost:8080/"
        },
        "id": "yrKLEtrSAkGp",
        "outputId": "aa98ba54-c728-4d1b-cbc2-d197fd1550fe"
      },
      "execution_count": 75,
      "outputs": [
        {
          "output_type": "stream",
          "name": "stdout",
          "text": [
            "set()\n"
          ]
        }
      ]
    },
    {
      "cell_type": "code",
      "source": [
        "# copy in sets. The copy() method returns a new set that contains the same elements as the original set. However, the new set is a different object from the original set.\n",
        "set1 = {1, 2, 3}\n",
        "set2 = set1.copy()\n",
        "print(set2)\n",
        "\n",
        "# Modifying set2 does not affect set1\n",
        "set2.add(4)\n",
        "print(set1) \n",
        "print(set2) "
      ],
      "metadata": {
        "colab": {
          "base_uri": "https://localhost:8080/"
        },
        "id": "0Tbk0FPeA37K",
        "outputId": "c4d4a8c5-ef8d-4657-bad3-627125f1d073"
      },
      "execution_count": 76,
      "outputs": [
        {
          "output_type": "stream",
          "name": "stdout",
          "text": [
            "{1, 2, 3}\n",
            "{1, 2, 3}\n",
            "{1, 2, 3, 4}\n"
          ]
        }
      ]
    },
    {
      "cell_type": "code",
      "source": [
        "# diff between two or more set.\n",
        "# Using the - operator: The - operator returns a set that contains all the elements that are in the first set but not in the second set.\n",
        "set1 = {1, 2, 3, 4, 5}\n",
        "set2 = {4, 5, 6, 7, 8}\n",
        "diff = set1 - set2\n",
        "print(diff) "
      ],
      "metadata": {
        "colab": {
          "base_uri": "https://localhost:8080/"
        },
        "id": "wXe5X9sTBMkM",
        "outputId": "db482b47-6906-4a48-918a-b5b18a11be0e"
      },
      "execution_count": 77,
      "outputs": [
        {
          "output_type": "stream",
          "name": "stdout",
          "text": [
            "{1, 2, 3}\n"
          ]
        }
      ]
    },
    {
      "cell_type": "code",
      "source": [
        "# Using the difference() method: The difference() method returns a set that contains all the elements that are in the first set but not in the other sets.\n",
        "set1 = {1, 2, 3, 4, 5}\n",
        "set2 = {4, 5, 6, 7, 8}\n",
        "set3 = {2, 3, 8, 9, 10}\n",
        "diff = set1.difference(set2, set3)\n",
        "print(diff) "
      ],
      "metadata": {
        "colab": {
          "base_uri": "https://localhost:8080/"
        },
        "id": "FiT7VC5jCRDZ",
        "outputId": "34a1a935-1fc3-4c54-f792-2a2ca348df7b"
      },
      "execution_count": 80,
      "outputs": [
        {
          "output_type": "stream",
          "name": "stdout",
          "text": [
            "{1}\n"
          ]
        }
      ]
    },
    {
      "cell_type": "code",
      "source": [
        "# discard in sets.discard() method is used to remove an element from a set if it is present.\n",
        "# If the element is not present in the set, no error is raised and the set remains unchanged.\n",
        "my_set = {1, 2, 3, 4, 5}\n",
        "\n",
        "# remove 4 from the set\n",
        "my_set.discard(4)\n",
        "\n",
        "print(my_set) \n",
        "\n",
        "# try to remove 10, which is not present in the set\n",
        "my_set.discard(10)\n",
        "\n",
        "print(my_set) "
      ],
      "metadata": {
        "colab": {
          "base_uri": "https://localhost:8080/"
        },
        "id": "CxEIogjHCjOW",
        "outputId": "890b306a-cfcc-4329-d0aa-eff4125077b7"
      },
      "execution_count": 82,
      "outputs": [
        {
          "output_type": "stream",
          "name": "stdout",
          "text": [
            "{1, 2, 3, 5}\n",
            "{1, 2, 3, 5}\n"
          ]
        }
      ]
    },
    {
      "cell_type": "code",
      "source": [
        "# intersection in sets .\n",
        "# intersection() method is used to return the intersection of two or more sets as a new set.\n",
        "#  The resulting set contains only the elements that are common to all the sets.\n",
        "set1 = {1, 2, 3, 4}\n",
        "set2 = {3, 4, 5, 6}\n",
        "\n",
        "# find the intersection of set1 and set2\n",
        "result_set = set1.intersection(set2)\n",
        "\n",
        "print(result_set) "
      ],
      "metadata": {
        "colab": {
          "base_uri": "https://localhost:8080/"
        },
        "id": "ln8S-9_zDI8D",
        "outputId": "9f283033-a2de-4a17-f22f-bfb160b4b3fd"
      },
      "execution_count": 84,
      "outputs": [
        {
          "output_type": "stream",
          "name": "stdout",
          "text": [
            "{3, 4}\n"
          ]
        }
      ]
    },
    {
      "cell_type": "code",
      "source": [
        "# isdisjoint in sets.\n",
        "# isdisjoint() method is used to check if two sets have any common elements. \n",
        "# It returns True if the sets are disjoint (i.e., they have no common elements), and False otherwise.\n",
        "set1 = {1, 2, 3, 4}\n",
        "set2 = {5, 6, 7}\n",
        "\n",
        "# check if set1 and set2 are disjoint\n",
        "result = set1.isdisjoint(set2)\n",
        "\n",
        "print(result) "
      ],
      "metadata": {
        "colab": {
          "base_uri": "https://localhost:8080/"
        },
        "id": "QKSORNLYDeTR",
        "outputId": "50c71fc3-e29f-4646-f402-060834096a01"
      },
      "execution_count": 86,
      "outputs": [
        {
          "output_type": "stream",
          "name": "stdout",
          "text": [
            "True\n"
          ]
        }
      ]
    },
    {
      "cell_type": "code",
      "source": [
        "# issubset in sets. issubset() method is used to check if a set is a subset of another set. \n",
        "# It returns True if all the elements of the set are present in the other set, and False otherwise.\n",
        "set1 = {1, 2, 3}\n",
        "set2 = {1, 2, 3, 4, 5}\n",
        "\n",
        "# check if set1 is a subset of set2\n",
        "result = set1.issubset(set2)\n",
        "\n",
        "print(result) "
      ],
      "metadata": {
        "colab": {
          "base_uri": "https://localhost:8080/"
        },
        "id": "orb-RS55HoP8",
        "outputId": "c6df5223-eb44-4f44-f1c4-51221af54df9"
      },
      "execution_count": 87,
      "outputs": [
        {
          "output_type": "stream",
          "name": "stdout",
          "text": [
            "True\n"
          ]
        }
      ]
    },
    {
      "cell_type": "code",
      "source": [
        "# issuperset in sets.issuperset() method to check if a set is a superset of another set. A superset is a set that contains all the elements of another set, and possibly more.\n",
        "set1 = {1, 2, 3, 4, 5}\n",
        "set2 = {1, 2, 3}\n",
        "\n",
        "# check if set1 is a superset of set2\n",
        "result = set1.issuperset(set2)\n",
        "\n",
        "print(result) "
      ],
      "metadata": {
        "colab": {
          "base_uri": "https://localhost:8080/"
        },
        "id": "W6dnudQzKRxc",
        "outputId": "3b089dcf-92d4-49fb-ae33-5a705dc16fd5"
      },
      "execution_count": 88,
      "outputs": [
        {
          "output_type": "stream",
          "name": "stdout",
          "text": [
            "True\n"
          ]
        }
      ]
    },
    {
      "cell_type": "code",
      "source": [
        "# pop in sets.\n",
        "# The pop() method removes and returns an arbitrary (random) element from a set. \n",
        "# Since sets are unordered, it is not possible to know which element will be removed.\n",
        "my_set = {1, 2, 3, 4, 5,6,7,8,9}\n",
        "element = my_set.pop()\n",
        "\n",
        "print(element) # Output: an arbitrary element from the set\n",
        "print(my_set) # Output: the set with the arbitrary element removed"
      ],
      "metadata": {
        "colab": {
          "base_uri": "https://localhost:8080/"
        },
        "id": "iepjbq2MKqi9",
        "outputId": "8e410a4b-1c64-492e-ca8a-83b7b6f2bd8f"
      },
      "execution_count": 99,
      "outputs": [
        {
          "output_type": "stream",
          "name": "stdout",
          "text": [
            "1\n",
            "{2, 3, 4, 5, 6, 7, 8, 9}\n"
          ]
        }
      ]
    },
    {
      "cell_type": "code",
      "source": [
        "# remove in sets.The remove() method removes a specific element from a set. If the element is not present in the set, a KeyError is raised.\n",
        "my_set = {1, 2, 3, 4, 5}\n",
        "my_set.remove(3)\n",
        "\n",
        "print(my_set) "
      ],
      "metadata": {
        "colab": {
          "base_uri": "https://localhost:8080/"
        },
        "id": "-le9UPu_LWg-",
        "outputId": "92b0b22c-702a-46d6-fd68-513ecc633d68"
      },
      "execution_count": 101,
      "outputs": [
        {
          "output_type": "stream",
          "name": "stdout",
          "text": [
            "{1, 2, 4, 5}\n"
          ]
        }
      ]
    },
    {
      "cell_type": "code",
      "source": [
        "# union in sets.The union() method returns a new set that contains all the elements from two or more sets. \n",
        "# The resulting set will only contain unique elements and duplicates will be removed. \n",
        "# The union() method can be invoked in two ways: using the | operator or using the union() method\n",
        "set1 = {1, 2, 3}\n",
        "set2 = {3, 4, 5}\n",
        "\n",
        "# Using the | operator\n",
        "set3 = set1 | set2\n",
        "print(set3) # Output: {1, 2, 3, 4, 5}\n",
        "\n",
        "# Using the union() method\n",
        "set4 = set1.union(set2)\n",
        "print(set4) # Output: {1, 2, 3, 4, 5}"
      ],
      "metadata": {
        "colab": {
          "base_uri": "https://localhost:8080/"
        },
        "id": "miiWVWtuMBWc",
        "outputId": "a17ffc5b-243b-49d3-fc18-782db56fb65e"
      },
      "execution_count": 103,
      "outputs": [
        {
          "output_type": "stream",
          "name": "stdout",
          "text": [
            "{1, 2, 3, 4, 5}\n",
            "{1, 2, 3, 4, 5}\n"
          ]
        }
      ]
    },
    {
      "cell_type": "markdown",
      "source": [
        "# **Dictionary**"
      ],
      "metadata": {
        "id": "i-pgXaMAMyru"
      }
    },
    {
      "cell_type": "code",
      "source": [
        "# clear in dictionary . The clear() method is used to remove all the elements from a dictionary.\n",
        "my_dict = {'name': 'John', 'age': 25, 'city': 'New York'}\n",
        "print(my_dict)  # Output: {'name': 'John', 'age': 25, 'city': 'New York'}\n",
        "\n",
        "# Clear the dictionary\n",
        "my_dict.clear()\n",
        "print(my_dict)  # Output: {}\n"
      ],
      "metadata": {
        "colab": {
          "base_uri": "https://localhost:8080/"
        },
        "id": "-Wir_qD7McGt",
        "outputId": "179758ea-38c5-471c-e2c7-cad34a69f683"
      },
      "execution_count": 104,
      "outputs": [
        {
          "output_type": "stream",
          "name": "stdout",
          "text": [
            "{'name': 'John', 'age': 25, 'city': 'New York'}\n",
            "{}\n"
          ]
        }
      ]
    },
    {
      "cell_type": "code",
      "source": [
        "# copy in dictionary.The copy() method is used to create a shallow copy of a dictionary.\n",
        "# It returns a new dictionary with a copy of the key-value pairs from the original dictionary.\n",
        "my_dict = {'name': 'John', 'age': 25, 'city': 'New York'}\n",
        "\n",
        "# Make a copy of the dictionary\n",
        "new_dict = my_dict.copy()\n",
        "\n",
        "print(new_dict)  # Output: {'name': 'John', 'age': 25, 'city': 'New York'}"
      ],
      "metadata": {
        "colab": {
          "base_uri": "https://localhost:8080/"
        },
        "id": "b5JdF7kiNkhu",
        "outputId": "b5f8b799-1621-46df-e733-58659aa8aa01"
      },
      "execution_count": 105,
      "outputs": [
        {
          "output_type": "stream",
          "name": "stdout",
          "text": [
            "{'name': 'John', 'age': 25, 'city': 'New York'}\n"
          ]
        }
      ]
    },
    {
      "cell_type": "code",
      "source": [
        "# fromkeys in dictionary .\n",
        "# The fromkeys() method in Python dictionary creates a new dictionary with keys from a given iterable and values set to a default value, which can be provided as an argument.\n",
        "keys = ['a', 'b', 'c']\n",
        "values = 0\n",
        "\n",
        "my_dict = dict.fromkeys(keys, values)\n",
        "\n",
        "print(my_dict)  # {'a': 0, 'b': 0, 'c': 0}"
      ],
      "metadata": {
        "colab": {
          "base_uri": "https://localhost:8080/"
        },
        "id": "q8pbGbctN4qp",
        "outputId": "6e6647e5-95c3-4a7e-c867-71a3d04dcc13"
      },
      "execution_count": 107,
      "outputs": [
        {
          "output_type": "stream",
          "name": "stdout",
          "text": [
            "{'a': 0, 'b': 0, 'c': 0}\n"
          ]
        }
      ]
    },
    {
      "cell_type": "code",
      "source": [
        "# get in dictionary. The get() method is used to retrieve the value of a specified key in a dictionary.\n",
        "# define a dictionary\n",
        "my_dict = {'apple': 3, 'banana': 5, 'orange': 2}\n",
        "\n",
        "# retrieve the value of a key using get()\n",
        "apple_count = my_dict.get('apple')\n",
        "print(apple_count)  \n",
        "\n",
        "# try to retrieve the value of a non-existent key\n",
        "mango_count = my_dict.get('mango')\n",
        "print(mango_count)  \n",
        "\n",
        "# specify default value if key is not found\n",
        "mango_count = my_dict.get('mango', 0)\n",
        "print(mango_count)  "
      ],
      "metadata": {
        "colab": {
          "base_uri": "https://localhost:8080/"
        },
        "id": "IKzHyWfXOZq9",
        "outputId": "1cc3390c-08c6-43df-9a15-ee7abd6e41f2"
      },
      "execution_count": 108,
      "outputs": [
        {
          "output_type": "stream",
          "name": "stdout",
          "text": [
            "3\n",
            "None\n",
            "0\n"
          ]
        }
      ]
    },
    {
      "cell_type": "code",
      "source": [
        "# items in dictionary .items() method in Python dictionary returns a view object consisting of tuples of the dictionary's (key, value) pairs.\n",
        "# defining a dictionary\n",
        "person = {'name': 'John', 'age': 30, 'gender': 'Male'}\n",
        "\n",
        "# printing items of the dictionary\n",
        "print(person.items())"
      ],
      "metadata": {
        "colab": {
          "base_uri": "https://localhost:8080/"
        },
        "id": "3UvSei-MPqqo",
        "outputId": "a374239b-8f53-4184-f5ab-718bc76bd31d"
      },
      "execution_count": 109,
      "outputs": [
        {
          "output_type": "stream",
          "name": "stdout",
          "text": [
            "dict_items([('name', 'John'), ('age', 30), ('gender', 'Male')])\n"
          ]
        }
      ]
    },
    {
      "cell_type": "code",
      "source": [
        "# keys in dictionary.# defining a dictionary\n",
        "person = {'name': 'John', 'age': 30, 'gender': 'Male'}\n",
        "\n",
        "# printing keys of the dictionary\n",
        "print(person.keys())"
      ],
      "metadata": {
        "colab": {
          "base_uri": "https://localhost:8080/"
        },
        "id": "16Xzezs2P55j",
        "outputId": "de2f63e8-2edd-41f8-ecf8-e2bb9f134da0"
      },
      "execution_count": 110,
      "outputs": [
        {
          "output_type": "stream",
          "name": "stdout",
          "text": [
            "dict_keys(['name', 'age', 'gender'])\n"
          ]
        }
      ]
    },
    {
      "cell_type": "code",
      "source": [
        "# pop in dictionary.pop() method in Python dictionary removes and returns the value for the specified key from the dictionary.\n",
        "# defining a dictionary\n",
        "person = {'name': 'John', 'age': 30, 'gender': 'Male'}\n",
        "\n",
        "# removing and returning the value of the 'age' key\n",
        "age = person.pop('age')\n",
        "print(age)  # prints 30\n",
        "\n",
        "# removing and returning the value of a non-existing key\n",
        "salary = person.pop('salary', 0)\n",
        "print(salary)  # prints 0, since default value is specified."
      ],
      "metadata": {
        "colab": {
          "base_uri": "https://localhost:8080/"
        },
        "id": "rS_PwX3PQMd_",
        "outputId": "493a598c-7f60-411d-878d-02040bfd8cc0"
      },
      "execution_count": 111,
      "outputs": [
        {
          "output_type": "stream",
          "name": "stdout",
          "text": [
            "30\n",
            "0\n"
          ]
        }
      ]
    },
    {
      "cell_type": "code",
      "source": [
        "# pop item in dictionary.The popitem() method in Python dictionary removes and returns an arbitrary (key, value) tuple from the dictionary.\n",
        "# If the dictionary is empty, it raises a KeyError.\n",
        "my_dict = {'name': 'John', 'age': 25, 'city': 'New York'}\n",
        "removed_item = my_dict.popitem()\n",
        "print(removed_item)  # Output: ('city', 'New York')"
      ],
      "metadata": {
        "colab": {
          "base_uri": "https://localhost:8080/"
        },
        "id": "L_otz54vQ344",
        "outputId": "e000850a-9f16-4e8a-e165-4421514f1aeb"
      },
      "execution_count": 113,
      "outputs": [
        {
          "output_type": "stream",
          "name": "stdout",
          "text": [
            "('city', 'New York')\n"
          ]
        }
      ]
    },
    {
      "cell_type": "code",
      "source": [
        "# set default in sets.setdefault() is actually a method used in dictionaries, not sets.\n",
        "# the setdefault() method in dictionaries is used to get the value of a specified key in the dictionary. \n",
        "# If the key does not exist, it will set the key to a specified default value. \n",
        "# The method returns the value of the key if it already exists, or the default value if the key does not exist and has been set to the default value.\n",
        "my_dict = {\"apple\": 2, \"banana\": 3}\n",
        "count = my_dict.setdefault(\"orange\", 0)\n",
        "print(my_dict)  # Output: {\"apple\": 2, \"banana\": 3, \"orange\": 0}\n",
        "print(count)  # Output: 0\n",
        "\n",
        "count = my_dict.setdefault(\"apple\", 0)\n",
        "print(my_dict)  # Output: {\"apple\": 2, \"banana\": 3, \"orange\": 0}\n",
        "print(count)  # Output: 2"
      ],
      "metadata": {
        "colab": {
          "base_uri": "https://localhost:8080/"
        },
        "id": "jNw-A9heR27c",
        "outputId": "7e3164b1-2cf2-4872-831f-f19d219a7c59"
      },
      "execution_count": 117,
      "outputs": [
        {
          "output_type": "stream",
          "name": "stdout",
          "text": [
            "{'apple': 2, 'banana': 3, 'orange': 0}\n",
            "0\n",
            "{'apple': 2, 'banana': 3, 'orange': 0}\n",
            "2\n"
          ]
        }
      ]
    },
    {
      "cell_type": "code",
      "source": [
        "# updates in dictionary.\n",
        "# update() method is used to update one dictionary with the key-value pairs from another dictionary, or with an iterable of key-value pairs (such as a list of tuples).\n",
        "# create a dictionary\n",
        "my_dict = {'a': 1, 'b': 2}\n",
        "\n",
        "# update the dictionary with a new key-value pair\n",
        "my_dict.update({'c': 3})\n",
        "\n",
        "# print the updated dictionary\n",
        "print(my_dict)  # output: {'a': 1, 'b': 2, 'c': 3}\n",
        "\n",
        "# update the dictionary with an iterable of key-value pairs\n",
        "my_dict.update([('d', 4), ('e', 5)])\n",
        "\n",
        "# print the updated dictionary\n",
        "print(my_dict)  # output: {'a': 1, 'b': 2, 'c': 3, 'd': 4, 'e': 5}"
      ],
      "metadata": {
        "colab": {
          "base_uri": "https://localhost:8080/"
        },
        "id": "sE_k4YqXSgoM",
        "outputId": "67d98d23-c89d-43a5-cc94-717789c317b8"
      },
      "execution_count": 118,
      "outputs": [
        {
          "output_type": "stream",
          "name": "stdout",
          "text": [
            "{'a': 1, 'b': 2, 'c': 3}\n",
            "{'a': 1, 'b': 2, 'c': 3, 'd': 4, 'e': 5}\n"
          ]
        }
      ]
    },
    {
      "cell_type": "code",
      "source": [
        "# values in dictionary .values() method is used to get a list of all the values in a dictionary.\n",
        "my_dict = {\"a\": 1, \"b\": 2, \"c\": 3}\n",
        "values_list = my_dict.values()\n",
        "print(values_list)  # [1, 2, 3]"
      ],
      "metadata": {
        "colab": {
          "base_uri": "https://localhost:8080/"
        },
        "id": "A_pbmgM_S06c",
        "outputId": "e6cbdbcc-aefc-4b89-a672-36b5564da0e1"
      },
      "execution_count": 120,
      "outputs": [
        {
          "output_type": "stream",
          "name": "stdout",
          "text": [
            "dict_values([1, 2, 3])\n"
          ]
        }
      ]
    }
  ]
}