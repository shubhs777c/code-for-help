{
  "nbformat": 4,
  "nbformat_minor": 0,
  "metadata": {
    "colab": {
      "provenance": [],
      "authorship_tag": "ABX9TyMOc/X7ltoode1TpyH2uiiG",
      "include_colab_link": true
    },
    "kernelspec": {
      "name": "python3",
      "display_name": "Python 3"
    },
    "language_info": {
      "name": "python"
    }
  },
  "cells": [
    {
      "cell_type": "markdown",
      "metadata": {
        "id": "view-in-github",
        "colab_type": "text"
      },
      "source": [
        "<a href=\"https://colab.research.google.com/github/shubhs777c/code-for-help/blob/main/basic_py_practice.ipynb\" target=\"_parent\"><img src=\"https://colab.research.google.com/assets/colab-badge.svg\" alt=\"Open In Colab\"/></a>"
      ]
    },
    {
      "cell_type": "code",
      "execution_count": null,
      "metadata": {
        "colab": {
          "base_uri": "https://localhost:8080/"
        },
        "id": "4dCkDbvCYtl2",
        "outputId": "0ef67bde-11e5-4c8b-aff0-9db69abe5d7e"
      },
      "outputs": [
        {
          "output_type": "stream",
          "name": "stdout",
          "text": [
            "(1, 2, 3, 'xyz')\n"
          ]
        }
      ],
      "source": [
        "# convert list into tuple\n",
        "abc=[1,2,3,'xyz']\n",
        "tuple1=tuple(abc)\n",
        "print(tuple1)"
      ]
    },
    {
      "cell_type": "code",
      "source": [
        "# convert list into tuple\n",
        "sample_list = ['shubham','chougule',]\n",
        "tuple1 = tuple(i for i in sample_list)\n",
        "print(tuple1)"
      ],
      "metadata": {
        "colab": {
          "base_uri": "https://localhost:8080/"
        },
        "id": "MEYyefpaZMQ9",
        "outputId": "fce8c84a-cea5-4b78-fbf0-174781be4838"
      },
      "execution_count": null,
      "outputs": [
        {
          "output_type": "stream",
          "name": "stdout",
          "text": [
            "('shubham', 'chougule')\n"
          ]
        }
      ]
    },
    {
      "cell_type": "code",
      "source": [
        "sample_list = ['shubham','chougule',]\n",
        "\n",
        "#unpack list items and form tuple\n",
        "tuple1 = (*sample_list,)\n",
        "\n",
        "print(tuple1)"
      ],
      "metadata": {
        "colab": {
          "base_uri": "https://localhost:8080/"
        },
        "id": "Y5rVe85NZfN8",
        "outputId": "f5b2c6be-98e9-4b13-edce-2f66a03584dd"
      },
      "execution_count": null,
      "outputs": [
        {
          "output_type": "stream",
          "name": "stdout",
          "text": [
            "('shubham', 'chougule')\n"
          ]
        }
      ]
    },
    {
      "cell_type": "code",
      "source": [
        "#convert tuple into list\n",
        "sss = (True, 28, 'Tiger')\n",
        "abc= list(sss)\n",
        "print(abc)"
      ],
      "metadata": {
        "colab": {
          "base_uri": "https://localhost:8080/"
        },
        "id": "h5as9XizZ25Y",
        "outputId": "32dec561-15d6-4348-c7f1-4e6fb0d87923"
      },
      "execution_count": null,
      "outputs": [
        {
          "output_type": "stream",
          "name": "stdout",
          "text": [
            "[True, 28, 'Tiger']\n"
          ]
        }
      ]
    },
    {
      "cell_type": "code",
      "source": [
        "# convert list into set\n",
        "my_list = ['Rice', 'Potato', 'Tomato']\n",
        "abc = set(my_list)\n",
        "print(abc)"
      ],
      "metadata": {
        "colab": {
          "base_uri": "https://localhost:8080/"
        },
        "id": "97wIOFGUaiSW",
        "outputId": "88c1bcf4-5957-465e-fab0-3201ce8914b9"
      },
      "execution_count": null,
      "outputs": [
        {
          "output_type": "stream",
          "name": "stdout",
          "text": [
            "{'Potato', 'Rice', 'Tomato'}\n"
          ]
        }
      ]
    },
    {
      "cell_type": "code",
      "source": [
        "def list_to_set_conversion(list1):\n",
        "    abc = set()\n",
        "    for x in list1:\n",
        "        abc.add(x)\n",
        "    return abc\n",
        "Names = ['Alia', 'Bob', 'Ana', 'Sita', 'Alia']\n",
        "s = list_to_set_conversion (Names)\n",
        "print(s)"
      ],
      "metadata": {
        "colab": {
          "base_uri": "https://localhost:8080/"
        },
        "id": "veyu-8B_bPSx",
        "outputId": "9029a1b8-9672-482e-b9dd-fa3dc0ef7a68"
      },
      "execution_count": null,
      "outputs": [
        {
          "output_type": "stream",
          "name": "stdout",
          "text": [
            "{'Alia', 'Ana', 'Bob', 'Sita'}\n"
          ]
        }
      ]
    },
    {
      "cell_type": "code",
      "source": [
        "# convert list into set by using dictionary\n",
        "my_list = ['Alia', 'Bobby', 'Bobby', 1, 1, 2, 3]\n",
        "x = list(dict.fromkeys(my_list))\n",
        "abc = set(x)\n",
        "print(abc)"
      ],
      "metadata": {
        "colab": {
          "base_uri": "https://localhost:8080/"
        },
        "id": "qnnvmbKzb--1",
        "outputId": "9e9fbab8-fd61-4201-9819-73563eaa3e4b"
      },
      "execution_count": null,
      "outputs": [
        {
          "output_type": "stream",
          "name": "stdout",
          "text": [
            "{'Bobby', 1, 2, 3, 'Alia'}\n"
          ]
        }
      ]
    },
    {
      "cell_type": "code",
      "source": [
        "#convert tuple into set\n",
        "abc = (\"G\", \"R\", \"O\", \"G\", \"U\")\n",
        "xyz = set(abc)\n",
        "print(xyz)"
      ],
      "metadata": {
        "colab": {
          "base_uri": "https://localhost:8080/"
        },
        "id": "7bMKUaIidS6I",
        "outputId": "73c30e93-d01a-494d-e9d8-6959a8037e43"
      },
      "execution_count": null,
      "outputs": [
        {
          "output_type": "stream",
          "name": "stdout",
          "text": [
            "{'G', 'R', 'U', 'O'}\n"
          ]
        }
      ]
    },
    {
      "cell_type": "code",
      "source": [
        "#convert set into list\n",
        "abc = {\"G\", \"R\", \"O\", \"G\", \"U\"}\n",
        "xyz=tuple(abc)\n",
        "print(xyz)"
      ],
      "metadata": {
        "colab": {
          "base_uri": "https://localhost:8080/"
        },
        "id": "2OpC87GIeC5p",
        "outputId": "8fb8cdb0-0d4f-463a-f60d-1f960885435a"
      },
      "execution_count": null,
      "outputs": [
        {
          "output_type": "stream",
          "name": "stdout",
          "text": [
            "('G', 'R', 'U', 'O')\n"
          ]
        }
      ]
    },
    {
      "cell_type": "code",
      "source": [
        "#convert set into list\n",
        "my_set = {'Rice', 'Potato', 'Tomato'}\n",
        "abc = list(my_set)\n",
        "print(abc)"
      ],
      "metadata": {
        "colab": {
          "base_uri": "https://localhost:8080/"
        },
        "id": "CJQte54oed80",
        "outputId": "544abb28-7c4f-4b49-ce60-f2530b97d7ec"
      },
      "execution_count": null,
      "outputs": [
        {
          "output_type": "stream",
          "name": "stdout",
          "text": [
            "['Potato', 'Rice', 'Tomato']\n"
          ]
        }
      ]
    },
    {
      "cell_type": "code",
      "source": [
        "#convert two list into dictionary\n",
        "list1=['shubham','rohan','kapil']\n",
        "list2=[25,32,37]\n",
        "my_dict=dict(zip(list1,list2))\n",
        "print(my_dict)"
      ],
      "metadata": {
        "colab": {
          "base_uri": "https://localhost:8080/"
        },
        "id": "mJXVhWwLevwi",
        "outputId": "dbfd9ac9-0122-4bc8-a01e-804997f215f2"
      },
      "execution_count": null,
      "outputs": [
        {
          "output_type": "stream",
          "name": "stdout",
          "text": [
            "{'shubham': 25, 'rohan': 32, 'kapil': 37}\n"
          ]
        }
      ]
    },
    {
      "cell_type": "code",
      "source": [
        "#convert two tuple into list\n",
        "tuple1=('shubham','rohan','kapil')\n",
        "tuple2=(25,32,37)\n",
        "my_dict=dict(zip(tuple1,tuple2))\n",
        "print(my_dict)\n"
      ],
      "metadata": {
        "colab": {
          "base_uri": "https://localhost:8080/"
        },
        "id": "aEBrrndGgSIK",
        "outputId": "b4585b55-d1dd-429e-f4be-ca5b58e56902"
      },
      "execution_count": null,
      "outputs": [
        {
          "output_type": "stream",
          "name": "stdout",
          "text": [
            "{'shubham': 25, 'rohan': 32, 'kapil': 37}\n"
          ]
        }
      ]
    },
    {
      "cell_type": "code",
      "source": [
        "#convert two sets into dictionary\n",
        "set1={'shubham','rohan','kapil'}\n",
        "set2={25,32,37}\n",
        "my_dict=dict(zip(set1,set2))\n",
        "print(my_dict)"
      ],
      "metadata": {
        "colab": {
          "base_uri": "https://localhost:8080/"
        },
        "id": "k-2lvmkFg4V5",
        "outputId": "54412b58-1d3e-4e77-a6ec-15a911351143"
      },
      "execution_count": null,
      "outputs": [
        {
          "output_type": "stream",
          "name": "stdout",
          "text": [
            "{'shubham': 32, 'rohan': 25, 'kapil': 37}\n"
          ]
        }
      ]
    },
    {
      "cell_type": "code",
      "source": [
        "# seperating int and string \n",
        "abc='12345xyzpqr54321'\n",
        "only_int=[]\n",
        "for char in abc:\n",
        "    if char not in '1234567890':\n",
        "       only_int.append(char)\n",
        "print(only_int)      "
      ],
      "metadata": {
        "colab": {
          "base_uri": "https://localhost:8080/"
        },
        "id": "K7ral5XphTGq",
        "outputId": "1bdaaeec-892a-47d2-8fe4-440c4639dc34"
      },
      "execution_count": null,
      "outputs": [
        {
          "output_type": "stream",
          "name": "stdout",
          "text": [
            "['x', 'y', 'z', 'p', 'q', 'r']\n"
          ]
        }
      ]
    },
    {
      "cell_type": "code",
      "source": [
        "tuple1=('shubham','rohan','kapil')\n",
        "tuple2=(25,32,37)\n",
        "my_tuple=tuple1+tuple2\n",
        "print(my_tuple)"
      ],
      "metadata": {
        "colab": {
          "base_uri": "https://localhost:8080/"
        },
        "id": "7fn_sSmasg-H",
        "outputId": "eb854aa6-1f41-40f5-988c-5086a41f840e"
      },
      "execution_count": null,
      "outputs": [
        {
          "output_type": "stream",
          "name": "stdout",
          "text": [
            "('shubham', 'rohan', 'kapil', 25, 32, 37)\n"
          ]
        }
      ]
    },
    {
      "cell_type": "code",
      "source": [
        "abc=[5,2,1,4,3]\n",
        "abc.()\n",
        "print(abc)\n"
      ],
      "metadata": {
        "colab": {
          "base_uri": "https://localhost:8080/"
        },
        "id": "iSBXvakGs6Iz",
        "outputId": "1e1c2531-49e3-4c8d-97e9-035bac8fc83c"
      },
      "execution_count": null,
      "outputs": [
        {
          "output_type": "stream",
          "name": "stdout",
          "text": [
            "[1, 2, 3, 4, 5]\n"
          ]
        }
      ]
    }
  ]
}